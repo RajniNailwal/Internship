{
 "cells": [
  {
   "cell_type": "code",
   "execution_count": 2,
   "id": "0cf1d86a",
   "metadata": {},
   "outputs": [],
   "source": [
    "import pandas as pd"
   ]
  },
  {
   "cell_type": "code",
   "execution_count": 3,
   "id": "9c54cd1f",
   "metadata": {},
   "outputs": [],
   "source": [
    "import selenium\n",
    "from selenium import webdriver\n",
    "from selenium.common.exceptions import StaleElementReferenceException, NoSuchElementException\n",
    "from selenium.webdriver.common.by import By\n",
    "from selenium.webdriver.common.keys import Keys"
   ]
  },
  {
   "cell_type": "code",
   "execution_count": 4,
   "id": "b16047b8",
   "metadata": {},
   "outputs": [],
   "source": [
    "import time"
   ]
  },
  {
   "cell_type": "code",
   "execution_count": 5,
   "id": "3e44cd25",
   "metadata": {},
   "outputs": [],
   "source": [
    "import warnings\n",
    "warnings.filterwarnings('ignore')"
   ]
  },
  {
   "cell_type": "markdown",
   "id": "faa96377",
   "metadata": {},
   "source": [
    "### ANSWER 1"
   ]
  },
  {
   "cell_type": "code",
   "execution_count": 15,
   "id": "6a537d41",
   "metadata": {},
   "outputs": [],
   "source": [
    "#run the chrome driver \n",
    "driver=webdriver.Chrome(\"chromedriver.exe\")"
   ]
  },
  {
   "cell_type": "code",
   "execution_count": 16,
   "id": "5f483e92",
   "metadata": {},
   "outputs": [],
   "source": [
    "driver.get(\"https://www.amazon.in/\")"
   ]
  },
  {
   "cell_type": "code",
   "execution_count": 17,
   "id": "18b16b32",
   "metadata": {},
   "outputs": [
    {
     "name": "stdout",
     "output_type": "stream",
     "text": [
      "Which product do you want?Guitar\n"
     ]
    }
   ],
   "source": [
    "product_name=input('Which product do you want?')"
   ]
  },
  {
   "cell_type": "code",
   "execution_count": 18,
   "id": "b39cb898",
   "metadata": {},
   "outputs": [
    {
     "data": {
      "text/plain": [
       "'Guitar'"
      ]
     },
     "execution_count": 18,
     "metadata": {},
     "output_type": "execute_result"
    }
   ],
   "source": [
    "product_name"
   ]
  },
  {
   "cell_type": "code",
   "execution_count": 19,
   "id": "31cd2257",
   "metadata": {},
   "outputs": [],
   "source": [
    "product=driver.find_element(By.XPATH,\"/html/body/div[1]/header/div/div[1]/div[2]/div/form/div[2]/div[1]/input\")\n",
    "product.send_keys(product_name)"
   ]
  },
  {
   "cell_type": "code",
   "execution_count": 20,
   "id": "d34eb323",
   "metadata": {},
   "outputs": [],
   "source": [
    "searchBtn=driver.find_element(By.XPATH,\"/html/body/div[1]/header/div/div[1]/div[2]/div/form/div[3]/div/span/input\")\n",
    "searchBtn.click()\n",
    "time.sleep(5)"
   ]
  },
  {
   "cell_type": "markdown",
   "id": "0b310137",
   "metadata": {},
   "source": [
    "### ANSWER 2"
   ]
  },
  {
   "cell_type": "code",
   "execution_count": 22,
   "id": "038c5817",
   "metadata": {},
   "outputs": [],
   "source": [
    "#Make empty list for values we need to capture\n",
    "brandName=[]\n",
    "nameOfTheProduct=[]\n",
    "price=[]\n",
    "returnExchange=[]\n",
    "expectedDelivery=[]\n",
    "availability=[]\n",
    "productUrl=[]"
   ]
  },
  {
   "cell_type": "code",
   "execution_count": 23,
   "id": "b0796153",
   "metadata": {},
   "outputs": [],
   "source": [
    "product_tags=driver.find_elements(By.XPATH,'//span[@class=\"a-size-base-plus a-color-base a-text-normal\"]')\n",
    "for p in product_tags:\n",
    "    nameOfTheProduct.append(p.text)\n",
    "price_tags=driver.find_elements(By.XPATH,'//a[@class=\"a-size-base a-link-normal s-no-hover s-underline-text s-underline-link-text s-link-style a-text-normal\"]')\n",
    "for p in price_tags:\n",
    "    price.append(p.text)\n",
    "expectedDelivery_tags=driver.find_elements(By.XPATH,'//span[@class=\"a-size-base-plus a-color-base a-text-normal\"]')\n",
    "for p in expectedDelivery_tags:\n",
    "    expectedDelivery.append(p.text)\n"
   ]
  },
  {
   "cell_type": "code",
   "execution_count": 25,
   "id": "8a5998ae",
   "metadata": {},
   "outputs": [
    {
     "ename": "WebDriverException",
     "evalue": "Message: disconnected: not connected to DevTools\n  (failed to check if window was closed: disconnected: not connected to DevTools)\n  (Session info: chrome=112.0.5615.87)\nStacktrace:\nBacktrace:\n\tGetHandleVerifier [0x0067DCE3+50899]\n\t(No symbol) [0x0060E111]\n\t(No symbol) [0x00515588]\n\t(No symbol) [0x005070CB]\n\t(No symbol) [0x0050778A]\n\t(No symbol) [0x00507728]\n\t(No symbol) [0x004FC37A]\n\t(No symbol) [0x004FCBD7]\n\t(No symbol) [0x00563C48]\n\t(No symbol) [0x0055B8C3]\n\t(No symbol) [0x00537708]\n\t(No symbol) [0x0053886D]\n\tGetHandleVerifier [0x008E3EAE+2566302]\n\tGetHandleVerifier [0x009192B1+2784417]\n\tGetHandleVerifier [0x0091327C+2759788]\n\tGetHandleVerifier [0x00715740+672048]\n\t(No symbol) [0x00618872]\n\t(No symbol) [0x006141C8]\n\t(No symbol) [0x006142AB]\n\t(No symbol) [0x006071B7]\n\tBaseThreadInitThunk [0x76727D69+25]\n\tRtlInitializeExceptionChain [0x7743B74B+107]\n\tRtlClearBits [0x7743B6CF+191]\n",
     "output_type": "error",
     "traceback": [
      "\u001b[1;31m---------------------------------------------------------------------------\u001b[0m",
      "\u001b[1;31mWebDriverException\u001b[0m                        Traceback (most recent call last)",
      "\u001b[1;32m~\\AppData\\Local\\Temp/ipykernel_20144/3193570824.py\u001b[0m in \u001b[0;36m<module>\u001b[1;34m\u001b[0m\n\u001b[1;32m----> 1\u001b[1;33m \u001b[0mdriver\u001b[0m\u001b[1;33m.\u001b[0m\u001b[0mclose\u001b[0m\u001b[1;33m(\u001b[0m\u001b[1;33m)\u001b[0m\u001b[1;33m\u001b[0m\u001b[1;33m\u001b[0m\u001b[0m\n\u001b[0m",
      "\u001b[1;32m~\\Anaconda3\\lib\\site-packages\\selenium\\webdriver\\remote\\webdriver.py\u001b[0m in \u001b[0;36mclose\u001b[1;34m(self)\u001b[0m\n\u001b[0;32m    549\u001b[0m                 \u001b[0mdriver\u001b[0m\u001b[1;33m.\u001b[0m\u001b[0mclose\u001b[0m\u001b[1;33m(\u001b[0m\u001b[1;33m)\u001b[0m\u001b[1;33m\u001b[0m\u001b[1;33m\u001b[0m\u001b[0m\n\u001b[0;32m    550\u001b[0m         \"\"\"\n\u001b[1;32m--> 551\u001b[1;33m         \u001b[0mself\u001b[0m\u001b[1;33m.\u001b[0m\u001b[0mexecute\u001b[0m\u001b[1;33m(\u001b[0m\u001b[0mCommand\u001b[0m\u001b[1;33m.\u001b[0m\u001b[0mCLOSE\u001b[0m\u001b[1;33m)\u001b[0m\u001b[1;33m\u001b[0m\u001b[1;33m\u001b[0m\u001b[0m\n\u001b[0m\u001b[0;32m    552\u001b[0m \u001b[1;33m\u001b[0m\u001b[0m\n\u001b[0;32m    553\u001b[0m     \u001b[1;32mdef\u001b[0m \u001b[0mquit\u001b[0m\u001b[1;33m(\u001b[0m\u001b[0mself\u001b[0m\u001b[1;33m)\u001b[0m \u001b[1;33m->\u001b[0m \u001b[1;32mNone\u001b[0m\u001b[1;33m:\u001b[0m\u001b[1;33m\u001b[0m\u001b[1;33m\u001b[0m\u001b[0m\n",
      "\u001b[1;32m~\\Anaconda3\\lib\\site-packages\\selenium\\webdriver\\remote\\webdriver.py\u001b[0m in \u001b[0;36mexecute\u001b[1;34m(self, driver_command, params)\u001b[0m\n\u001b[0;32m    438\u001b[0m         \u001b[0mresponse\u001b[0m \u001b[1;33m=\u001b[0m \u001b[0mself\u001b[0m\u001b[1;33m.\u001b[0m\u001b[0mcommand_executor\u001b[0m\u001b[1;33m.\u001b[0m\u001b[0mexecute\u001b[0m\u001b[1;33m(\u001b[0m\u001b[0mdriver_command\u001b[0m\u001b[1;33m,\u001b[0m \u001b[0mparams\u001b[0m\u001b[1;33m)\u001b[0m\u001b[1;33m\u001b[0m\u001b[1;33m\u001b[0m\u001b[0m\n\u001b[0;32m    439\u001b[0m         \u001b[1;32mif\u001b[0m \u001b[0mresponse\u001b[0m\u001b[1;33m:\u001b[0m\u001b[1;33m\u001b[0m\u001b[1;33m\u001b[0m\u001b[0m\n\u001b[1;32m--> 440\u001b[1;33m             \u001b[0mself\u001b[0m\u001b[1;33m.\u001b[0m\u001b[0merror_handler\u001b[0m\u001b[1;33m.\u001b[0m\u001b[0mcheck_response\u001b[0m\u001b[1;33m(\u001b[0m\u001b[0mresponse\u001b[0m\u001b[1;33m)\u001b[0m\u001b[1;33m\u001b[0m\u001b[1;33m\u001b[0m\u001b[0m\n\u001b[0m\u001b[0;32m    441\u001b[0m             \u001b[0mresponse\u001b[0m\u001b[1;33m[\u001b[0m\u001b[1;34m\"value\"\u001b[0m\u001b[1;33m]\u001b[0m \u001b[1;33m=\u001b[0m \u001b[0mself\u001b[0m\u001b[1;33m.\u001b[0m\u001b[0m_unwrap_value\u001b[0m\u001b[1;33m(\u001b[0m\u001b[0mresponse\u001b[0m\u001b[1;33m.\u001b[0m\u001b[0mget\u001b[0m\u001b[1;33m(\u001b[0m\u001b[1;34m\"value\"\u001b[0m\u001b[1;33m,\u001b[0m \u001b[1;32mNone\u001b[0m\u001b[1;33m)\u001b[0m\u001b[1;33m)\u001b[0m\u001b[1;33m\u001b[0m\u001b[1;33m\u001b[0m\u001b[0m\n\u001b[0;32m    442\u001b[0m             \u001b[1;32mreturn\u001b[0m \u001b[0mresponse\u001b[0m\u001b[1;33m\u001b[0m\u001b[1;33m\u001b[0m\u001b[0m\n",
      "\u001b[1;32m~\\Anaconda3\\lib\\site-packages\\selenium\\webdriver\\remote\\errorhandler.py\u001b[0m in \u001b[0;36mcheck_response\u001b[1;34m(self, response)\u001b[0m\n\u001b[0;32m    243\u001b[0m                 \u001b[0malert_text\u001b[0m \u001b[1;33m=\u001b[0m \u001b[0mvalue\u001b[0m\u001b[1;33m[\u001b[0m\u001b[1;34m\"alert\"\u001b[0m\u001b[1;33m]\u001b[0m\u001b[1;33m.\u001b[0m\u001b[0mget\u001b[0m\u001b[1;33m(\u001b[0m\u001b[1;34m\"text\"\u001b[0m\u001b[1;33m)\u001b[0m\u001b[1;33m\u001b[0m\u001b[1;33m\u001b[0m\u001b[0m\n\u001b[0;32m    244\u001b[0m             \u001b[1;32mraise\u001b[0m \u001b[0mexception_class\u001b[0m\u001b[1;33m(\u001b[0m\u001b[0mmessage\u001b[0m\u001b[1;33m,\u001b[0m \u001b[0mscreen\u001b[0m\u001b[1;33m,\u001b[0m \u001b[0mstacktrace\u001b[0m\u001b[1;33m,\u001b[0m \u001b[0malert_text\u001b[0m\u001b[1;33m)\u001b[0m  \u001b[1;31m# type: ignore[call-arg]  # mypy is not smart enough here\u001b[0m\u001b[1;33m\u001b[0m\u001b[1;33m\u001b[0m\u001b[0m\n\u001b[1;32m--> 245\u001b[1;33m         \u001b[1;32mraise\u001b[0m \u001b[0mexception_class\u001b[0m\u001b[1;33m(\u001b[0m\u001b[0mmessage\u001b[0m\u001b[1;33m,\u001b[0m \u001b[0mscreen\u001b[0m\u001b[1;33m,\u001b[0m \u001b[0mstacktrace\u001b[0m\u001b[1;33m)\u001b[0m\u001b[1;33m\u001b[0m\u001b[1;33m\u001b[0m\u001b[0m\n\u001b[0m",
      "\u001b[1;31mWebDriverException\u001b[0m: Message: disconnected: not connected to DevTools\n  (failed to check if window was closed: disconnected: not connected to DevTools)\n  (Session info: chrome=112.0.5615.87)\nStacktrace:\nBacktrace:\n\tGetHandleVerifier [0x0067DCE3+50899]\n\t(No symbol) [0x0060E111]\n\t(No symbol) [0x00515588]\n\t(No symbol) [0x005070CB]\n\t(No symbol) [0x0050778A]\n\t(No symbol) [0x00507728]\n\t(No symbol) [0x004FC37A]\n\t(No symbol) [0x004FCBD7]\n\t(No symbol) [0x00563C48]\n\t(No symbol) [0x0055B8C3]\n\t(No symbol) [0x00537708]\n\t(No symbol) [0x0053886D]\n\tGetHandleVerifier [0x008E3EAE+2566302]\n\tGetHandleVerifier [0x009192B1+2784417]\n\tGetHandleVerifier [0x0091327C+2759788]\n\tGetHandleVerifier [0x00715740+672048]\n\t(No symbol) [0x00618872]\n\t(No symbol) [0x006141C8]\n\t(No symbol) [0x006142AB]\n\t(No symbol) [0x006071B7]\n\tBaseThreadInitThunk [0x76727D69+25]\n\tRtlInitializeExceptionChain [0x7743B74B+107]\n\tRtlClearBits [0x7743B6CF+191]\n"
     ]
    }
   ],
   "source": [
    "driver.close()"
   ]
  },
  {
   "cell_type": "markdown",
   "id": "57cfbd4a",
   "metadata": {},
   "source": [
    "### Answer 3"
   ]
  },
  {
   "cell_type": "code",
   "execution_count": 81,
   "id": "a4089ad6",
   "metadata": {},
   "outputs": [],
   "source": [
    "driver=webdriver.Chrome(\"chromedriver.exe\")"
   ]
  },
  {
   "cell_type": "code",
   "execution_count": 82,
   "id": "aaf04eec",
   "metadata": {},
   "outputs": [],
   "source": [
    "driver.get(\"https://images.google.com/\")"
   ]
  },
  {
   "cell_type": "code",
   "execution_count": 83,
   "id": "cc0a45b7",
   "metadata": {},
   "outputs": [],
   "source": [
    "search_input=driver.find_element(By.XPATH,\"/html/body/div[1]/div[3]/form/div[1]/div[1]/div[1]/div/div[2]/textarea\")\n",
    "search_input.send_keys(\"fruits\")\n",
    "search_input.send_keys(Keys.ENTER)\n",
    "time.sleep(5)"
   ]
  },
  {
   "cell_type": "code",
   "execution_count": 84,
   "id": "b15ca457",
   "metadata": {},
   "outputs": [],
   "source": [
    "fruit_tags=driver.find_elements(By.XPATH,'//img[@class=\"rg_i Q4LuWd\"]')\n",
    "cnt=1\n",
    "for f in fruit_tags[0:10]:\n",
    "    try:\n",
    "        #print(f)\n",
    "        #fruitsUrl.append(f.get_attribute('src'))\n",
    "        f.screenshot('fruit_'+str(cnt)+'.png')\n",
    "        cnt=cnt+1\n",
    "    except:\n",
    "        continue"
   ]
  },
  {
   "cell_type": "code",
   "execution_count": 85,
   "id": "33f64eb8",
   "metadata": {},
   "outputs": [],
   "source": [
    "driver.get(\"https://images.google.com/\")"
   ]
  },
  {
   "cell_type": "code",
   "execution_count": 86,
   "id": "9622eb35",
   "metadata": {},
   "outputs": [],
   "source": [
    "search_input=driver.find_element(By.XPATH,\"/html/body/div[1]/div[3]/form/div[1]/div[1]/div[1]/div/div[2]/textarea\")\n",
    "search_input.send_keys(\"cars\")\n",
    "search_input.send_keys(Keys.ENTER)\n",
    "time.sleep(5)"
   ]
  },
  {
   "cell_type": "code",
   "execution_count": 92,
   "id": "f183e15b",
   "metadata": {},
   "outputs": [],
   "source": [
    "cars_tags=driver.find_elements(By.XPATH,'//img[@class=\"rg_i Q4LuWd\"]')\n",
    "cnt=1\n",
    "for f in cars_tags[0:10]:\n",
    "    try:\n",
    "        f.screenshot('cars_'+str(cnt)+'.png')\n",
    "        cnt=cnt+1\n",
    "    except:\n",
    "        continue"
   ]
  },
  {
   "cell_type": "code",
   "execution_count": 93,
   "id": "e297f89a",
   "metadata": {},
   "outputs": [],
   "source": [
    "driver.get(\"https://images.google.com/\")"
   ]
  },
  {
   "cell_type": "code",
   "execution_count": 94,
   "id": "650d10df",
   "metadata": {},
   "outputs": [],
   "source": [
    "search_input=driver.find_element(By.XPATH,\"/html/body/div[1]/div[3]/form/div[1]/div[1]/div[1]/div/div[2]/textarea\")\n",
    "search_input.send_keys(\"Machine Learning\")\n",
    "search_input.send_keys(Keys.ENTER)\n",
    "time.sleep(5)"
   ]
  },
  {
   "cell_type": "code",
   "execution_count": 95,
   "id": "52d6f2a5",
   "metadata": {},
   "outputs": [],
   "source": [
    "ml_tags=driver.find_elements(By.XPATH,'//img[@class=\"rg_i Q4LuWd\"]')\n",
    "cnt=1\n",
    "for f in ml_tags[0:10]:\n",
    "    try:\n",
    "        f.screenshot('ml_'+str(cnt)+'.png')\n",
    "        cnt=cnt+1\n",
    "    except:\n",
    "        continue"
   ]
  },
  {
   "cell_type": "code",
   "execution_count": 96,
   "id": "abccc311",
   "metadata": {},
   "outputs": [],
   "source": [
    "driver.get(\"https://images.google.com/\")"
   ]
  },
  {
   "cell_type": "code",
   "execution_count": 97,
   "id": "1014d929",
   "metadata": {},
   "outputs": [],
   "source": [
    "search_input=driver.find_element(By.XPATH,\"/html/body/div[1]/div[3]/form/div[1]/div[1]/div[1]/div/div[2]/textarea\")\n",
    "search_input.send_keys(\"Guitar\")\n",
    "search_input.send_keys(Keys.ENTER)\n",
    "time.sleep(5)"
   ]
  },
  {
   "cell_type": "code",
   "execution_count": 98,
   "id": "59f9c581",
   "metadata": {},
   "outputs": [],
   "source": [
    "guitar_tags=driver.find_elements(By.XPATH,'//img[@class=\"rg_i Q4LuWd\"]')\n",
    "cnt=1\n",
    "for f in guitar_tags[0:10]:\n",
    "    try:\n",
    "        f.screenshot('guitar_'+str(cnt)+'.png')\n",
    "        cnt=cnt+1\n",
    "    except:\n",
    "        continue"
   ]
  },
  {
   "cell_type": "code",
   "execution_count": 99,
   "id": "60f23cde",
   "metadata": {},
   "outputs": [],
   "source": [
    "driver.get(\"https://images.google.com/\")"
   ]
  },
  {
   "cell_type": "code",
   "execution_count": 100,
   "id": "fd099169",
   "metadata": {},
   "outputs": [],
   "source": [
    "search_input=driver.find_element(By.XPATH,\"/html/body/div[1]/div[3]/form/div[1]/div[1]/div[1]/div/div[2]/textarea\")\n",
    "search_input.send_keys(\"Cakes\")\n",
    "search_input.send_keys(Keys.ENTER)\n",
    "time.sleep(5)"
   ]
  },
  {
   "cell_type": "code",
   "execution_count": 101,
   "id": "9f54f88b",
   "metadata": {},
   "outputs": [],
   "source": [
    "cakes_tags=driver.find_elements(By.XPATH,'//img[@class=\"rg_i Q4LuWd\"]')\n",
    "cnt=1\n",
    "for f in cakes_tags[0:10]:\n",
    "    try:\n",
    "        f.screenshot('cake_'+str(cnt)+'.png')\n",
    "        cnt=cnt+1\n",
    "    except:\n",
    "        continue"
   ]
  },
  {
   "cell_type": "code",
   "execution_count": 102,
   "id": "f72b532a",
   "metadata": {},
   "outputs": [],
   "source": [
    "driver.close()"
   ]
  },
  {
   "cell_type": "markdown",
   "id": "38eb91a6",
   "metadata": {},
   "source": [
    "### ANSWER 4"
   ]
  },
  {
   "cell_type": "code",
   "execution_count": 101,
   "id": "d62675d5",
   "metadata": {},
   "outputs": [],
   "source": [
    "driver=webdriver.Chrome(\"chromedriver.exe\")"
   ]
  },
  {
   "cell_type": "code",
   "execution_count": 102,
   "id": "a8774274",
   "metadata": {},
   "outputs": [],
   "source": [
    "driver.get(\"https://www.flipkart.com/\")"
   ]
  },
  {
   "cell_type": "code",
   "execution_count": 103,
   "id": "62e9017a",
   "metadata": {},
   "outputs": [],
   "source": [
    "closeBtn=driver.find_element(By.XPATH,\"/html/body/div[2]/div/div/button\")\n",
    "closeBtn.click()"
   ]
  },
  {
   "cell_type": "code",
   "execution_count": 104,
   "id": "875260fb",
   "metadata": {},
   "outputs": [
    {
     "name": "stdout",
     "output_type": "stream",
     "text": [
      "Which product do you want?Oneplus Nord\n"
     ]
    }
   ],
   "source": [
    "product_name=input('Which product do you want?')"
   ]
  },
  {
   "cell_type": "code",
   "execution_count": 105,
   "id": "7d984ca7",
   "metadata": {},
   "outputs": [
    {
     "data": {
      "text/plain": [
       "'Oneplus Nord'"
      ]
     },
     "execution_count": 105,
     "metadata": {},
     "output_type": "execute_result"
    }
   ],
   "source": [
    "product_name"
   ]
  },
  {
   "cell_type": "code",
   "execution_count": 106,
   "id": "57d98781",
   "metadata": {},
   "outputs": [],
   "source": [
    "product=driver.find_element(By.XPATH,\"/html/body/div[1]/div/div[1]/div[1]/div[2]/div[2]/form/div/div/input\")\n",
    "product.send_keys(product_name)"
   ]
  },
  {
   "cell_type": "code",
   "execution_count": 107,
   "id": "7aef5072",
   "metadata": {},
   "outputs": [],
   "source": [
    "searchBtn=driver.find_element(By.CLASS_NAME,\"_34RNph\")\n",
    "searchBtn.click()\n",
    "time.sleep(5)"
   ]
  },
  {
   "cell_type": "code",
   "execution_count": 108,
   "id": "adaa904c",
   "metadata": {},
   "outputs": [],
   "source": [
    "brandName=[]\n",
    "smartphoneName=[]\n",
    "colour=[]\n",
    "RAM=[]\n",
    "storageROM=[]\n",
    "primaryCamera=[]\n",
    "secondaryCamera=[]\n",
    "displaySize=[]\n",
    "batteryCapacity=[]\n",
    "price=[]\n",
    "productURL=[]"
   ]
  },
  {
   "cell_type": "code",
   "execution_count": 109,
   "id": "df4edaed",
   "metadata": {},
   "outputs": [],
   "source": [
    "brand_tags=driver.find_elements(By.XPATH,'//div[@class=\"_4rR01T\"]')\n",
    "for i in brand_tags:\n",
    "    brandName.append(i.text.split(' ')[0].strip())\n",
    "    smartphoneName.append(i.text.split('(')[0].strip())\n",
    "    colour.append(i.text.split('(')[1].split(',')[0].strip())\n",
    "detail_tags=driver.find_elements(By.XPATH,'//ul[@class=\"_1xgFaf\"]')\n",
    "for i in detail_tags:\n",
    "    detail=i.text\n",
    "    a_list=detail.split('\\n')\n",
    "    RAM.append(a_list[0].split('|')[0].replace('RAM','').strip())\n",
    "    storageROM.append(a_list[0].split('|')[1].replace('ROM','').strip())\n",
    "    if '|' in a_list[2]:\n",
    "        primaryCamera.append(a_list[2].split('|')[0].replace('Rear Camera','').strip())\n",
    "        secondaryCamera.append(a_list[2].split('|')[1].replace('Front Camera','').strip())\n",
    "    else:\n",
    "        primaryCamera.append(a_list[2].replace('Rear Camera','').strip())\n",
    "        secondaryCamera.append('-')\n",
    "    displaySize.append(a_list[1].replace('Display','').strip())\n",
    "    batteryCapacity.append(a_list[3].replace('Battery','').strip())\n",
    "price_tags=driver.find_elements(By.XPATH,'//div[@class=\"_30jeq3 _1_WHN1\"]')\n",
    "for i in price_tags:\n",
    "    price.append(i.text)\n",
    "url_tags=driver.find_elements(By.XPATH,'//a[@class=\"_1fQZEK\"]')\n",
    "for i in url_tags:\n",
    "    productURL.append(i.get_attribute('href'))"
   ]
  },
  {
   "cell_type": "code",
   "execution_count": 110,
   "id": "29b8ce6a",
   "metadata": {},
   "outputs": [
    {
     "name": "stdout",
     "output_type": "stream",
     "text": [
      "24\n",
      "24\n",
      "24\n",
      "24\n",
      "24\n",
      "24\n",
      "24\n",
      "24\n",
      "24\n",
      "24\n",
      "24\n"
     ]
    }
   ],
   "source": [
    "print(len(brandName))\n",
    "print(len(smartphoneName))\n",
    "print(len(colour))\n",
    "print(len(RAM))\n",
    "print(len(storageROM))\n",
    "print(len(primaryCamera))\n",
    "print(len(secondaryCamera))\n",
    "print(len(displaySize))\n",
    "print(len(batteryCapacity))\n",
    "print(len(price))\n",
    "print(len(productURL))"
   ]
  },
  {
   "cell_type": "code",
   "execution_count": 111,
   "id": "a12f3c66",
   "metadata": {},
   "outputs": [
    {
     "data": {
      "text/html": [
       "<div>\n",
       "<style scoped>\n",
       "    .dataframe tbody tr th:only-of-type {\n",
       "        vertical-align: middle;\n",
       "    }\n",
       "\n",
       "    .dataframe tbody tr th {\n",
       "        vertical-align: top;\n",
       "    }\n",
       "\n",
       "    .dataframe thead th {\n",
       "        text-align: right;\n",
       "    }\n",
       "</style>\n",
       "<table border=\"1\" class=\"dataframe\">\n",
       "  <thead>\n",
       "    <tr style=\"text-align: right;\">\n",
       "      <th></th>\n",
       "      <th>Brand Name</th>\n",
       "      <th>Smartphone Name</th>\n",
       "      <th>Colour</th>\n",
       "      <th>RAM</th>\n",
       "      <th>ROM</th>\n",
       "      <th>Primary Camera</th>\n",
       "      <th>Secondary Camera</th>\n",
       "      <th>Display Size</th>\n",
       "      <th>Battery Capacity</th>\n",
       "      <th>Price</th>\n",
       "      <th>Product URL</th>\n",
       "    </tr>\n",
       "  </thead>\n",
       "  <tbody>\n",
       "    <tr>\n",
       "      <th>0</th>\n",
       "      <td>OnePlus</td>\n",
       "      <td>OnePlus Nord CE 2 Lite 5G</td>\n",
       "      <td>Blue Tide</td>\n",
       "      <td>6 GB</td>\n",
       "      <td>128 GB</td>\n",
       "      <td>64MP</td>\n",
       "      <td>-</td>\n",
       "      <td>16.74 cm (6.59 inch)</td>\n",
       "      <td>5000 mAh</td>\n",
       "      <td>₹19,221</td>\n",
       "      <td>https://www.flipkart.com/oneplus-nord-ce-2-lit...</td>\n",
       "    </tr>\n",
       "    <tr>\n",
       "      <th>1</th>\n",
       "      <td>OnePlus</td>\n",
       "      <td>OnePlus Nord CE 2 Lite 5G</td>\n",
       "      <td>Black Dusk</td>\n",
       "      <td>6 GB</td>\n",
       "      <td>128 GB</td>\n",
       "      <td>64MP</td>\n",
       "      <td>-</td>\n",
       "      <td>16.74 cm (6.59 inch)</td>\n",
       "      <td>5000 mAh</td>\n",
       "      <td>₹18,936</td>\n",
       "      <td>https://www.flipkart.com/oneplus-nord-ce-2-lit...</td>\n",
       "    </tr>\n",
       "    <tr>\n",
       "      <th>2</th>\n",
       "      <td>OnePlus</td>\n",
       "      <td>OnePlus Nord CE 2 Lite 5G</td>\n",
       "      <td>Black Dusk</td>\n",
       "      <td>8 GB</td>\n",
       "      <td>128 GB</td>\n",
       "      <td>64MP</td>\n",
       "      <td>-</td>\n",
       "      <td>16.74 cm (6.59 inch)</td>\n",
       "      <td>5000 mAh</td>\n",
       "      <td>₹21,899</td>\n",
       "      <td>https://www.flipkart.com/oneplus-nord-ce-2-lit...</td>\n",
       "    </tr>\n",
       "    <tr>\n",
       "      <th>3</th>\n",
       "      <td>OnePlus</td>\n",
       "      <td>OnePlus Nord 2T 5G</td>\n",
       "      <td>Jade Fog</td>\n",
       "      <td>8 GB</td>\n",
       "      <td>128 GB</td>\n",
       "      <td>50MP</td>\n",
       "      <td>-</td>\n",
       "      <td>17.02 cm (6.7 inch)</td>\n",
       "      <td>4500 mAh</td>\n",
       "      <td>₹28,974</td>\n",
       "      <td>https://www.flipkart.com/oneplus-nord-2t-5g-ja...</td>\n",
       "    </tr>\n",
       "    <tr>\n",
       "      <th>4</th>\n",
       "      <td>OnePlus</td>\n",
       "      <td>OnePlus Nord 2T 5G</td>\n",
       "      <td>Gray Shadow</td>\n",
       "      <td>8 GB</td>\n",
       "      <td>128 GB</td>\n",
       "      <td>50MP</td>\n",
       "      <td>-</td>\n",
       "      <td>17.02 cm (6.7 inch)</td>\n",
       "      <td>4500 mAh</td>\n",
       "      <td>₹33,900</td>\n",
       "      <td>https://www.flipkart.com/oneplus-nord-2t-5g-gr...</td>\n",
       "    </tr>\n",
       "    <tr>\n",
       "      <th>5</th>\n",
       "      <td>OnePlus</td>\n",
       "      <td>OnePlus Nord 2 5G</td>\n",
       "      <td>Gray Sierra</td>\n",
       "      <td>8 GB</td>\n",
       "      <td>128 GB</td>\n",
       "      <td>50MP</td>\n",
       "      <td>-</td>\n",
       "      <td>16.33 cm (6.43 inch)</td>\n",
       "      <td>4500 mAh</td>\n",
       "      <td>₹29,999</td>\n",
       "      <td>https://www.flipkart.com/oneplus-nord-2-5g-gra...</td>\n",
       "    </tr>\n",
       "    <tr>\n",
       "      <th>6</th>\n",
       "      <td>OnePlus</td>\n",
       "      <td>OnePlus Nord CE 5G</td>\n",
       "      <td>Charcoal Ink</td>\n",
       "      <td>8 GB</td>\n",
       "      <td>128 GB</td>\n",
       "      <td>64MP</td>\n",
       "      <td>-</td>\n",
       "      <td>16.33 cm (6.43 inch)</td>\n",
       "      <td>4500 mAh</td>\n",
       "      <td>₹24,990</td>\n",
       "      <td>https://www.flipkart.com/oneplus-nord-ce-5g-ch...</td>\n",
       "    </tr>\n",
       "    <tr>\n",
       "      <th>7</th>\n",
       "      <td>OnePlus</td>\n",
       "      <td>OnePlus Nord CE 2 Lite 5G</td>\n",
       "      <td>Blue Tide</td>\n",
       "      <td>8 GB</td>\n",
       "      <td>128 GB</td>\n",
       "      <td>64MP</td>\n",
       "      <td>-</td>\n",
       "      <td>16.74 cm (6.59 inch)</td>\n",
       "      <td>5000 mAh</td>\n",
       "      <td>₹19,300</td>\n",
       "      <td>https://www.flipkart.com/oneplus-nord-ce-2-lit...</td>\n",
       "    </tr>\n",
       "    <tr>\n",
       "      <th>8</th>\n",
       "      <td>OnePlus</td>\n",
       "      <td>OnePlus Nord 2T 5G</td>\n",
       "      <td>Jade Fog</td>\n",
       "      <td>8 GB</td>\n",
       "      <td>128 GB</td>\n",
       "      <td>50MP</td>\n",
       "      <td>-</td>\n",
       "      <td>17.02 cm (6.7 inch)</td>\n",
       "      <td>4500 mAh</td>\n",
       "      <td>₹28,999</td>\n",
       "      <td>https://www.flipkart.com/oneplus-nord-2t-5g-ja...</td>\n",
       "    </tr>\n",
       "    <tr>\n",
       "      <th>9</th>\n",
       "      <td>OnePlus</td>\n",
       "      <td>OnePlus Nord CE 5G</td>\n",
       "      <td>Silver Ray</td>\n",
       "      <td>12 GB</td>\n",
       "      <td>256 GB</td>\n",
       "      <td>64MP</td>\n",
       "      <td>-</td>\n",
       "      <td>16.33 cm (6.43 inch)</td>\n",
       "      <td>4500 mAh</td>\n",
       "      <td>₹27,999</td>\n",
       "      <td>https://www.flipkart.com/oneplus-nord-ce-5g-si...</td>\n",
       "    </tr>\n",
       "    <tr>\n",
       "      <th>10</th>\n",
       "      <td>OnePlus</td>\n",
       "      <td>OnePlus Nord 2T 5G</td>\n",
       "      <td>Jade Fog</td>\n",
       "      <td>12 GB</td>\n",
       "      <td>256 GB</td>\n",
       "      <td>50MP</td>\n",
       "      <td>-</td>\n",
       "      <td>17.02 cm (6.7 inch)</td>\n",
       "      <td>4500 mAh</td>\n",
       "      <td>₹32,990</td>\n",
       "      <td>https://www.flipkart.com/oneplus-nord-2t-5g-ja...</td>\n",
       "    </tr>\n",
       "    <tr>\n",
       "      <th>11</th>\n",
       "      <td>OnePlus</td>\n",
       "      <td>OnePlus Nord 2T 5G</td>\n",
       "      <td>Gray Shadow</td>\n",
       "      <td>12 GB</td>\n",
       "      <td>256 GB</td>\n",
       "      <td>50MP</td>\n",
       "      <td>-</td>\n",
       "      <td>17.02 cm (6.7 inch)</td>\n",
       "      <td>4500 mAh</td>\n",
       "      <td>₹32,990</td>\n",
       "      <td>https://www.flipkart.com/oneplus-nord-2t-5g-gr...</td>\n",
       "    </tr>\n",
       "    <tr>\n",
       "      <th>12</th>\n",
       "      <td>OnePlus</td>\n",
       "      <td>OnePlus Nord 2T 5G</td>\n",
       "      <td>Gray Shadow</td>\n",
       "      <td>8 GB</td>\n",
       "      <td>128 GB</td>\n",
       "      <td>50MP</td>\n",
       "      <td>-</td>\n",
       "      <td>17.02 cm (6.7 inch)</td>\n",
       "      <td>4500 mAh</td>\n",
       "      <td>₹28,999</td>\n",
       "      <td>https://www.flipkart.com/oneplus-nord-2t-5g-gr...</td>\n",
       "    </tr>\n",
       "    <tr>\n",
       "      <th>13</th>\n",
       "      <td>OnePlus</td>\n",
       "      <td>OnePlus Nord 2T 5G</td>\n",
       "      <td>Gray Shadow</td>\n",
       "      <td>8 GB</td>\n",
       "      <td>128 GB</td>\n",
       "      <td>50MP</td>\n",
       "      <td>-</td>\n",
       "      <td>17.02 cm (6.7 inch)</td>\n",
       "      <td>4500 mAh</td>\n",
       "      <td>₹28,999</td>\n",
       "      <td>https://www.flipkart.com/oneplus-nord-2t-5g-gr...</td>\n",
       "    </tr>\n",
       "    <tr>\n",
       "      <th>14</th>\n",
       "      <td>OnePlus</td>\n",
       "      <td>OnePlus Nord 2 5G</td>\n",
       "      <td>Blue Haze</td>\n",
       "      <td>8 GB</td>\n",
       "      <td>128 GB</td>\n",
       "      <td>50MP</td>\n",
       "      <td>-</td>\n",
       "      <td>16.33 cm (6.43 inch)</td>\n",
       "      <td>4500 mAh</td>\n",
       "      <td>₹29,738</td>\n",
       "      <td>https://www.flipkart.com/oneplus-nord-2-5g-blu...</td>\n",
       "    </tr>\n",
       "    <tr>\n",
       "      <th>15</th>\n",
       "      <td>OnePlus</td>\n",
       "      <td>OnePlus Nord CE 2 5G</td>\n",
       "      <td>Gray Mirror</td>\n",
       "      <td>6 GB</td>\n",
       "      <td>128 GB</td>\n",
       "      <td>50MP</td>\n",
       "      <td>-</td>\n",
       "      <td>16.33 cm (6.43 inch)</td>\n",
       "      <td>4500 mAh</td>\n",
       "      <td>₹23,999</td>\n",
       "      <td>https://www.flipkart.com/oneplus-nord-ce-2-5g-...</td>\n",
       "    </tr>\n",
       "    <tr>\n",
       "      <th>16</th>\n",
       "      <td>OnePlus</td>\n",
       "      <td>OnePlus Nord CE 5G</td>\n",
       "      <td>Charcoal Ink</td>\n",
       "      <td>12 GB</td>\n",
       "      <td>256 GB</td>\n",
       "      <td>64MP</td>\n",
       "      <td>-</td>\n",
       "      <td>16.33 cm (6.43 inch)</td>\n",
       "      <td>4500 mAh</td>\n",
       "      <td>₹27,900</td>\n",
       "      <td>https://www.flipkart.com/oneplus-nord-ce-5g-ch...</td>\n",
       "    </tr>\n",
       "    <tr>\n",
       "      <th>17</th>\n",
       "      <td>OnePlus</td>\n",
       "      <td>OnePlus Nord CE 5G</td>\n",
       "      <td>Blue Void</td>\n",
       "      <td>12 GB</td>\n",
       "      <td>256 GB</td>\n",
       "      <td>64MP</td>\n",
       "      <td>-</td>\n",
       "      <td>16.33 cm (6.43 inch)</td>\n",
       "      <td>4500 mAh</td>\n",
       "      <td>₹27,900</td>\n",
       "      <td>https://www.flipkart.com/oneplus-nord-ce-5g-bl...</td>\n",
       "    </tr>\n",
       "    <tr>\n",
       "      <th>18</th>\n",
       "      <td>OnePlus</td>\n",
       "      <td>OnePlus Nord CE 5G</td>\n",
       "      <td>Silver Ray</td>\n",
       "      <td>6 GB</td>\n",
       "      <td>128 GB</td>\n",
       "      <td>64MP</td>\n",
       "      <td>-</td>\n",
       "      <td>16.33 cm (6.43 inch)</td>\n",
       "      <td>4500 mAh</td>\n",
       "      <td>₹24,499</td>\n",
       "      <td>https://www.flipkart.com/oneplus-nord-ce-5g-si...</td>\n",
       "    </tr>\n",
       "    <tr>\n",
       "      <th>19</th>\n",
       "      <td>OnePlus</td>\n",
       "      <td>OnePlus Nord CE 5G</td>\n",
       "      <td>Silver Gray</td>\n",
       "      <td>8 GB</td>\n",
       "      <td>128 GB</td>\n",
       "      <td>64MP</td>\n",
       "      <td>-</td>\n",
       "      <td>16.33 cm (6.43 inch)</td>\n",
       "      <td>4500 mAh</td>\n",
       "      <td>₹25,999</td>\n",
       "      <td>https://www.flipkart.com/oneplus-nord-ce-5g-si...</td>\n",
       "    </tr>\n",
       "    <tr>\n",
       "      <th>20</th>\n",
       "      <td>OnePlus</td>\n",
       "      <td>OnePlus Nord CE 5G</td>\n",
       "      <td>Blue Void</td>\n",
       "      <td>6 GB</td>\n",
       "      <td>128 GB</td>\n",
       "      <td>64MP</td>\n",
       "      <td>-</td>\n",
       "      <td>16.33 cm (6.43 inch)</td>\n",
       "      <td>4500 mAh</td>\n",
       "      <td>₹22,999</td>\n",
       "      <td>https://www.flipkart.com/oneplus-nord-ce-5g-bl...</td>\n",
       "    </tr>\n",
       "    <tr>\n",
       "      <th>21</th>\n",
       "      <td>OnePlus</td>\n",
       "      <td>OnePlus Nord CE 5G</td>\n",
       "      <td>Charcoal Ink</td>\n",
       "      <td>6 GB</td>\n",
       "      <td>128 GB</td>\n",
       "      <td>64MP</td>\n",
       "      <td>-</td>\n",
       "      <td>16.33 cm (6.43 inch)</td>\n",
       "      <td>4500 mAh</td>\n",
       "      <td>₹20,999</td>\n",
       "      <td>https://www.flipkart.com/oneplus-nord-ce-5g-ch...</td>\n",
       "    </tr>\n",
       "    <tr>\n",
       "      <th>22</th>\n",
       "      <td>OnePlus</td>\n",
       "      <td>OnePlus Nord CE 3 Lite 5G</td>\n",
       "      <td>Chromatic Gray</td>\n",
       "      <td>8 GB</td>\n",
       "      <td>256 GB</td>\n",
       "      <td>108MP</td>\n",
       "      <td>-</td>\n",
       "      <td>17.07 cm (6.72 inch)</td>\n",
       "      <td>5000 mAh</td>\n",
       "      <td>₹20,990</td>\n",
       "      <td>https://www.flipkart.com/oneplus-nord-ce-3-lit...</td>\n",
       "    </tr>\n",
       "    <tr>\n",
       "      <th>23</th>\n",
       "      <td>OnePlus</td>\n",
       "      <td>OnePlus Nord CE 3 Lite 5G</td>\n",
       "      <td>Pastel Lime</td>\n",
       "      <td>8 GB</td>\n",
       "      <td>256 GB</td>\n",
       "      <td>108MP</td>\n",
       "      <td>-</td>\n",
       "      <td>17.07 cm (6.72 inch)</td>\n",
       "      <td>5000 mAh</td>\n",
       "      <td>₹20,990</td>\n",
       "      <td>https://www.flipkart.com/oneplus-nord-ce-3-lit...</td>\n",
       "    </tr>\n",
       "  </tbody>\n",
       "</table>\n",
       "</div>"
      ],
      "text/plain": [
       "   Brand Name            Smartphone Name          Colour    RAM     ROM  \\\n",
       "0     OnePlus  OnePlus Nord CE 2 Lite 5G       Blue Tide   6 GB  128 GB   \n",
       "1     OnePlus  OnePlus Nord CE 2 Lite 5G      Black Dusk   6 GB  128 GB   \n",
       "2     OnePlus  OnePlus Nord CE 2 Lite 5G      Black Dusk   8 GB  128 GB   \n",
       "3     OnePlus         OnePlus Nord 2T 5G        Jade Fog   8 GB  128 GB   \n",
       "4     OnePlus         OnePlus Nord 2T 5G     Gray Shadow   8 GB  128 GB   \n",
       "5     OnePlus          OnePlus Nord 2 5G     Gray Sierra   8 GB  128 GB   \n",
       "6     OnePlus         OnePlus Nord CE 5G    Charcoal Ink   8 GB  128 GB   \n",
       "7     OnePlus  OnePlus Nord CE 2 Lite 5G       Blue Tide   8 GB  128 GB   \n",
       "8     OnePlus         OnePlus Nord 2T 5G        Jade Fog   8 GB  128 GB   \n",
       "9     OnePlus         OnePlus Nord CE 5G      Silver Ray  12 GB  256 GB   \n",
       "10    OnePlus         OnePlus Nord 2T 5G        Jade Fog  12 GB  256 GB   \n",
       "11    OnePlus         OnePlus Nord 2T 5G     Gray Shadow  12 GB  256 GB   \n",
       "12    OnePlus         OnePlus Nord 2T 5G     Gray Shadow   8 GB  128 GB   \n",
       "13    OnePlus         OnePlus Nord 2T 5G     Gray Shadow   8 GB  128 GB   \n",
       "14    OnePlus          OnePlus Nord 2 5G       Blue Haze   8 GB  128 GB   \n",
       "15    OnePlus       OnePlus Nord CE 2 5G     Gray Mirror   6 GB  128 GB   \n",
       "16    OnePlus         OnePlus Nord CE 5G    Charcoal Ink  12 GB  256 GB   \n",
       "17    OnePlus         OnePlus Nord CE 5G       Blue Void  12 GB  256 GB   \n",
       "18    OnePlus         OnePlus Nord CE 5G      Silver Ray   6 GB  128 GB   \n",
       "19    OnePlus         OnePlus Nord CE 5G     Silver Gray   8 GB  128 GB   \n",
       "20    OnePlus         OnePlus Nord CE 5G       Blue Void   6 GB  128 GB   \n",
       "21    OnePlus         OnePlus Nord CE 5G    Charcoal Ink   6 GB  128 GB   \n",
       "22    OnePlus  OnePlus Nord CE 3 Lite 5G  Chromatic Gray   8 GB  256 GB   \n",
       "23    OnePlus  OnePlus Nord CE 3 Lite 5G     Pastel Lime   8 GB  256 GB   \n",
       "\n",
       "   Primary Camera Secondary Camera          Display Size Battery Capacity  \\\n",
       "0            64MP                -  16.74 cm (6.59 inch)         5000 mAh   \n",
       "1            64MP                -  16.74 cm (6.59 inch)         5000 mAh   \n",
       "2            64MP                -  16.74 cm (6.59 inch)         5000 mAh   \n",
       "3            50MP                -   17.02 cm (6.7 inch)         4500 mAh   \n",
       "4            50MP                -   17.02 cm (6.7 inch)         4500 mAh   \n",
       "5            50MP                -  16.33 cm (6.43 inch)         4500 mAh   \n",
       "6            64MP                -  16.33 cm (6.43 inch)         4500 mAh   \n",
       "7            64MP                -  16.74 cm (6.59 inch)         5000 mAh   \n",
       "8            50MP                -   17.02 cm (6.7 inch)         4500 mAh   \n",
       "9            64MP                -  16.33 cm (6.43 inch)         4500 mAh   \n",
       "10           50MP                -   17.02 cm (6.7 inch)         4500 mAh   \n",
       "11           50MP                -   17.02 cm (6.7 inch)         4500 mAh   \n",
       "12           50MP                -   17.02 cm (6.7 inch)         4500 mAh   \n",
       "13           50MP                -   17.02 cm (6.7 inch)         4500 mAh   \n",
       "14           50MP                -  16.33 cm (6.43 inch)         4500 mAh   \n",
       "15           50MP                -  16.33 cm (6.43 inch)         4500 mAh   \n",
       "16           64MP                -  16.33 cm (6.43 inch)         4500 mAh   \n",
       "17           64MP                -  16.33 cm (6.43 inch)         4500 mAh   \n",
       "18           64MP                -  16.33 cm (6.43 inch)         4500 mAh   \n",
       "19           64MP                -  16.33 cm (6.43 inch)         4500 mAh   \n",
       "20           64MP                -  16.33 cm (6.43 inch)         4500 mAh   \n",
       "21           64MP                -  16.33 cm (6.43 inch)         4500 mAh   \n",
       "22          108MP                -  17.07 cm (6.72 inch)         5000 mAh   \n",
       "23          108MP                -  17.07 cm (6.72 inch)         5000 mAh   \n",
       "\n",
       "      Price                                        Product URL  \n",
       "0   ₹19,221  https://www.flipkart.com/oneplus-nord-ce-2-lit...  \n",
       "1   ₹18,936  https://www.flipkart.com/oneplus-nord-ce-2-lit...  \n",
       "2   ₹21,899  https://www.flipkart.com/oneplus-nord-ce-2-lit...  \n",
       "3   ₹28,974  https://www.flipkart.com/oneplus-nord-2t-5g-ja...  \n",
       "4   ₹33,900  https://www.flipkart.com/oneplus-nord-2t-5g-gr...  \n",
       "5   ₹29,999  https://www.flipkart.com/oneplus-nord-2-5g-gra...  \n",
       "6   ₹24,990  https://www.flipkart.com/oneplus-nord-ce-5g-ch...  \n",
       "7   ₹19,300  https://www.flipkart.com/oneplus-nord-ce-2-lit...  \n",
       "8   ₹28,999  https://www.flipkart.com/oneplus-nord-2t-5g-ja...  \n",
       "9   ₹27,999  https://www.flipkart.com/oneplus-nord-ce-5g-si...  \n",
       "10  ₹32,990  https://www.flipkart.com/oneplus-nord-2t-5g-ja...  \n",
       "11  ₹32,990  https://www.flipkart.com/oneplus-nord-2t-5g-gr...  \n",
       "12  ₹28,999  https://www.flipkart.com/oneplus-nord-2t-5g-gr...  \n",
       "13  ₹28,999  https://www.flipkart.com/oneplus-nord-2t-5g-gr...  \n",
       "14  ₹29,738  https://www.flipkart.com/oneplus-nord-2-5g-blu...  \n",
       "15  ₹23,999  https://www.flipkart.com/oneplus-nord-ce-2-5g-...  \n",
       "16  ₹27,900  https://www.flipkart.com/oneplus-nord-ce-5g-ch...  \n",
       "17  ₹27,900  https://www.flipkart.com/oneplus-nord-ce-5g-bl...  \n",
       "18  ₹24,499  https://www.flipkart.com/oneplus-nord-ce-5g-si...  \n",
       "19  ₹25,999  https://www.flipkart.com/oneplus-nord-ce-5g-si...  \n",
       "20  ₹22,999  https://www.flipkart.com/oneplus-nord-ce-5g-bl...  \n",
       "21  ₹20,999  https://www.flipkart.com/oneplus-nord-ce-5g-ch...  \n",
       "22  ₹20,990  https://www.flipkart.com/oneplus-nord-ce-3-lit...  \n",
       "23  ₹20,990  https://www.flipkart.com/oneplus-nord-ce-3-lit...  "
      ]
     },
     "execution_count": 111,
     "metadata": {},
     "output_type": "execute_result"
    }
   ],
   "source": [
    "dict_smartphone={\"Brand Name\":brandName,\"Smartphone Name\":smartphoneName,\"Colour\":colour, \"RAM\":RAM,\"ROM\":storageROM,\"Primary Camera\":primaryCamera,\"Secondary Camera\":secondaryCamera,\"Display Size\":displaySize,\"Battery Capacity\":batteryCapacity,\"Price\":price,\"Product URL\":productURL}\n",
    "df_smartphone=pd.DataFrame(dict_smartphone)\n",
    "df_smartphone"
   ]
  },
  {
   "cell_type": "code",
   "execution_count": 112,
   "id": "3d08ce0d",
   "metadata": {},
   "outputs": [],
   "source": [
    "df_smartphone.to_csv(\"Smartphone Details.csv\",index=False)"
   ]
  },
  {
   "cell_type": "code",
   "execution_count": 113,
   "id": "158ee6c2",
   "metadata": {},
   "outputs": [],
   "source": [
    "driver.close()"
   ]
  },
  {
   "cell_type": "markdown",
   "id": "1d124f80",
   "metadata": {},
   "source": [
    "### ANSWER 5"
   ]
  },
  {
   "cell_type": "code",
   "execution_count": 190,
   "id": "4939283a",
   "metadata": {},
   "outputs": [],
   "source": [
    "driver=webdriver.Chrome(\"chromedriver.exe\")"
   ]
  },
  {
   "cell_type": "code",
   "execution_count": 191,
   "id": "01f4902f",
   "metadata": {},
   "outputs": [],
   "source": [
    "driver.get('https://www.google.co.in/maps')"
   ]
  },
  {
   "cell_type": "code",
   "execution_count": 192,
   "id": "706a5b61",
   "metadata": {},
   "outputs": [
    {
     "name": "stdout",
     "output_type": "stream",
     "text": [
      "City name?Ooty\n"
     ]
    }
   ],
   "source": [
    "city_name=input('City name?')"
   ]
  },
  {
   "cell_type": "code",
   "execution_count": 193,
   "id": "9d6402c6",
   "metadata": {},
   "outputs": [
    {
     "data": {
      "text/plain": [
       "'Ooty'"
      ]
     },
     "execution_count": 193,
     "metadata": {},
     "output_type": "execute_result"
    }
   ],
   "source": [
    "city_name"
   ]
  },
  {
   "cell_type": "code",
   "execution_count": 194,
   "id": "90c93eff",
   "metadata": {},
   "outputs": [],
   "source": [
    "city=driver.find_element(By.XPATH,'/html/body/div[3]/div[9]/div[3]/div[1]/div[1]/div[1]/div[2]/form/div[2]/div[3]/div/input[1]')\n",
    "city.send_keys(city_name)\n",
    "city.send_keys(Keys.ENTER)\n",
    "time.sleep(5)"
   ]
  },
  {
   "cell_type": "code",
   "execution_count": 195,
   "id": "f64d8a0c",
   "metadata": {},
   "outputs": [
    {
     "data": {
      "text/plain": [
       "'https://www.google.co.in/maps/place/Ooty,+Tamil+Nadu/@12.9728512,77.692928,12z/data=!4m6!3m5!1s0x3ba8bd84b5f3d78d:0x179bdb14c93e3f42!8m2!3d11.4102038!4d76.6950324!16s%2Fm%2F012n8khs'"
      ]
     },
     "execution_count": 195,
     "metadata": {},
     "output_type": "execute_result"
    }
   ],
   "source": [
    "url_link=driver.current_url\n",
    "url_link"
   ]
  },
  {
   "cell_type": "code",
   "execution_count": 196,
   "id": "ed2d456f",
   "metadata": {},
   "outputs": [
    {
     "name": "stdout",
     "output_type": "stream",
     "text": [
      "The latitude is 12.9728512\n",
      "The longitude is 77.692928\n"
     ]
    }
   ],
   "source": [
    "latitude=url_link.split('/')[6].split(',')[0].replace('@','')\n",
    "longitude=url_link.split('/')[6].split(',')[1]\n",
    "print('The latitude is',latitude)\n",
    "print('The longitude is',longitude)"
   ]
  },
  {
   "cell_type": "code",
   "execution_count": 197,
   "id": "dbfee6d9",
   "metadata": {},
   "outputs": [],
   "source": [
    "driver.close()"
   ]
  },
  {
   "cell_type": "markdown",
   "id": "a4618856",
   "metadata": {},
   "source": [
    "### ANSWER 6"
   ]
  },
  {
   "cell_type": "code",
   "execution_count": 198,
   "id": "d35873f1",
   "metadata": {},
   "outputs": [],
   "source": [
    "driver=webdriver.Chrome(\"chromedriver.exe\")"
   ]
  },
  {
   "cell_type": "code",
   "execution_count": 199,
   "id": "5d861570",
   "metadata": {},
   "outputs": [],
   "source": [
    "driver.get('https://www.digit.in/')"
   ]
  },
  {
   "cell_type": "code",
   "execution_count": 200,
   "id": "f8ed0d89",
   "metadata": {},
   "outputs": [],
   "source": [
    "searchBtn=driver.find_element(By.XPATH,'/html/body/div[1]/div/div[3]/div[2]/a')\n",
    "searchBtn.click()"
   ]
  },
  {
   "cell_type": "code",
   "execution_count": 201,
   "id": "18497452",
   "metadata": {},
   "outputs": [],
   "source": [
    "inputText=driver.find_element(By.XPATH,'/html/body/div[1]/div/div[3]/div[3]/div/div/input')\n",
    "inputText.send_keys('best gaming laptops')\n",
    "inputText.send_keys(Keys.ENTER)\n",
    "time.sleep(5)"
   ]
  },
  {
   "cell_type": "code",
   "execution_count": 205,
   "id": "3fbe330e",
   "metadata": {},
   "outputs": [],
   "source": [
    "productDesc=[]\n",
    "productUrl=[]\n",
    "productDate=[]"
   ]
  },
  {
   "cell_type": "code",
   "execution_count": 206,
   "id": "cc55807a",
   "metadata": {},
   "outputs": [],
   "source": [
    "productTags=driver.find_elements(By.XPATH,'//div[@class=\"searchPage\"]//a')\n",
    "for i in productTags:\n",
    "    productDesc.append(i.text)\n",
    "    productUrl.append(i.get_attribute('href'))"
   ]
  },
  {
   "cell_type": "code",
   "execution_count": 208,
   "id": "f91b7e15",
   "metadata": {},
   "outputs": [],
   "source": [
    "dateTags=driver.find_elements(By.XPATH,'//div[@class=\"searchPage\"]//span')\n",
    "for i in dateTags:\n",
    "    productDate.append(i.text)"
   ]
  },
  {
   "cell_type": "code",
   "execution_count": 209,
   "id": "312c20b4",
   "metadata": {},
   "outputs": [
    {
     "data": {
      "text/html": [
       "<div>\n",
       "<style scoped>\n",
       "    .dataframe tbody tr th:only-of-type {\n",
       "        vertical-align: middle;\n",
       "    }\n",
       "\n",
       "    .dataframe tbody tr th {\n",
       "        vertical-align: top;\n",
       "    }\n",
       "\n",
       "    .dataframe thead th {\n",
       "        text-align: right;\n",
       "    }\n",
       "</style>\n",
       "<table border=\"1\" class=\"dataframe\">\n",
       "  <thead>\n",
       "    <tr style=\"text-align: right;\">\n",
       "      <th></th>\n",
       "      <th>Laptop Description</th>\n",
       "      <th>URL</th>\n",
       "      <th>Date</th>\n",
       "    </tr>\n",
       "  </thead>\n",
       "  <tbody>\n",
       "    <tr>\n",
       "      <th>0</th>\n",
       "      <td>Lenovo IdeaPad Gaming 3 15IAH7</td>\n",
       "      <td>https://www.digit.in/laptops/lenovo-ideapad-ga...</td>\n",
       "      <td>Feb 20, 2023</td>\n",
       "    </tr>\n",
       "    <tr>\n",
       "      <th>1</th>\n",
       "      <td>Asus G750JX-CV069P</td>\n",
       "      <td>https://www.digit.in/laptops/asus-g750jx-cv069...</td>\n",
       "      <td>Nov 22, 2021</td>\n",
       "    </tr>\n",
       "    <tr>\n",
       "      <th>2</th>\n",
       "      <td>Lenovo G50-30</td>\n",
       "      <td>https://www.digit.in/laptops/lenovo-g50-30-pri...</td>\n",
       "      <td>Nov 22, 2021</td>\n",
       "    </tr>\n",
       "    <tr>\n",
       "      <th>3</th>\n",
       "      <td>ASUS G53J - A 3D gamer's delight but we want more</td>\n",
       "      <td>https://www.digit.in/laptops/asus-g53j-a-3d-ga...</td>\n",
       "      <td>Apr 09, 2019</td>\n",
       "    </tr>\n",
       "    <tr>\n",
       "      <th>4</th>\n",
       "      <td>Alienware x14 Gaming Laptop</td>\n",
       "      <td>https://www.digit.in/laptops/alienware-x14-gam...</td>\n",
       "      <td>Sep 26, 2022</td>\n",
       "    </tr>\n",
       "    <tr>\n",
       "      <th>5</th>\n",
       "      <td>HP Envy 15-k006tx</td>\n",
       "      <td>https://www.digit.in/laptops/hp-envy-15-k006tx...</td>\n",
       "      <td>Apr 09, 2019</td>\n",
       "    </tr>\n",
       "    <tr>\n",
       "      <th>6</th>\n",
       "      <td>Asus GTX980 Matrix Platinum</td>\n",
       "      <td>https://www.digit.in/pc-components/asus-gtx980...</td>\n",
       "      <td>Jan 30, 2015</td>\n",
       "    </tr>\n",
       "    <tr>\n",
       "      <th>7</th>\n",
       "      <td>Dell 15 (2021) i5-10200H</td>\n",
       "      <td>https://www.digit.in/laptops/dell-15-2021-i5-1...</td>\n",
       "      <td>Feb 06, 2023</td>\n",
       "    </tr>\n",
       "    <tr>\n",
       "      <th>8</th>\n",
       "      <td>Sony PlayStation Vita</td>\n",
       "      <td>https://www.digit.in/gaming/sony-playstation-v...</td>\n",
       "      <td>Feb 18, 2012</td>\n",
       "    </tr>\n",
       "    <tr>\n",
       "      <th>9</th>\n",
       "      <td>Dell Vostro 15 3500</td>\n",
       "      <td>https://www.digit.in/laptops/dell-vostro-15-35...</td>\n",
       "      <td>Oct 21, 2021</td>\n",
       "    </tr>\n",
       "  </tbody>\n",
       "</table>\n",
       "</div>"
      ],
      "text/plain": [
       "                                  Laptop Description  \\\n",
       "0                     Lenovo IdeaPad Gaming 3 15IAH7   \n",
       "1                                 Asus G750JX-CV069P   \n",
       "2                                      Lenovo G50-30   \n",
       "3  ASUS G53J - A 3D gamer's delight but we want more   \n",
       "4                        Alienware x14 Gaming Laptop   \n",
       "5                                  HP Envy 15-k006tx   \n",
       "6                        Asus GTX980 Matrix Platinum   \n",
       "7                           Dell 15 (2021) i5-10200H   \n",
       "8                              Sony PlayStation Vita   \n",
       "9                                Dell Vostro 15 3500   \n",
       "\n",
       "                                                 URL          Date  \n",
       "0  https://www.digit.in/laptops/lenovo-ideapad-ga...  Feb 20, 2023  \n",
       "1  https://www.digit.in/laptops/asus-g750jx-cv069...  Nov 22, 2021  \n",
       "2  https://www.digit.in/laptops/lenovo-g50-30-pri...  Nov 22, 2021  \n",
       "3  https://www.digit.in/laptops/asus-g53j-a-3d-ga...  Apr 09, 2019  \n",
       "4  https://www.digit.in/laptops/alienware-x14-gam...  Sep 26, 2022  \n",
       "5  https://www.digit.in/laptops/hp-envy-15-k006tx...  Apr 09, 2019  \n",
       "6  https://www.digit.in/pc-components/asus-gtx980...  Jan 30, 2015  \n",
       "7  https://www.digit.in/laptops/dell-15-2021-i5-1...  Feb 06, 2023  \n",
       "8  https://www.digit.in/gaming/sony-playstation-v...  Feb 18, 2012  \n",
       "9  https://www.digit.in/laptops/dell-vostro-15-35...  Oct 21, 2021  "
      ]
     },
     "execution_count": 209,
     "metadata": {},
     "output_type": "execute_result"
    }
   ],
   "source": [
    "dict_product={\"Laptop Description\":productDesc,\"URL\":productUrl,\"Date\":productDate}\n",
    "df_product=pd.DataFrame(dict_product)\n",
    "df_product"
   ]
  },
  {
   "cell_type": "code",
   "execution_count": 210,
   "id": "0487c1a4",
   "metadata": {},
   "outputs": [],
   "source": [
    "driver.close()"
   ]
  },
  {
   "cell_type": "markdown",
   "id": "72cf348f",
   "metadata": {},
   "source": [
    "### ANSWER 7"
   ]
  },
  {
   "cell_type": "code",
   "execution_count": 6,
   "id": "f12efd99",
   "metadata": {},
   "outputs": [],
   "source": [
    "driver=webdriver.Chrome(\"chromedriver.exe\")"
   ]
  },
  {
   "cell_type": "code",
   "execution_count": 7,
   "id": "1ce9aed6",
   "metadata": {},
   "outputs": [],
   "source": [
    "driver.get('https://www.forbes.com/')"
   ]
  },
  {
   "cell_type": "code",
   "execution_count": 10,
   "id": "4ecda8c7",
   "metadata": {},
   "outputs": [],
   "source": [
    "menuBtn=driver.find_element(By.XPATH,'/html/body/div[1]/header/nav/div[1]/div[1]/div/div')\n",
    "menuBtn.click()"
   ]
  },
  {
   "cell_type": "code",
   "execution_count": 11,
   "id": "c6a989fe",
   "metadata": {},
   "outputs": [],
   "source": [
    "bBtn=driver.find_element(By.XPATH,'/html/body/div[1]/header/nav/div[1]/div[1]/div/div[2]/ul/li[2]/div[1]')\n",
    "bBtn.click()"
   ]
  },
  {
   "cell_type": "code",
   "execution_count": 12,
   "id": "f2c64d44",
   "metadata": {},
   "outputs": [],
   "source": [
    "wbBtn=driver.find_element(By.XPATH,'/html/body/div[1]/header/nav/div[1]/div[1]/div/div[2]/ul/li[2]/div[2]/div[3]/ul/li[1]')\n",
    "wbBtn.click()"
   ]
  },
  {
   "cell_type": "code",
   "execution_count": 31,
   "id": "e04f0047",
   "metadata": {},
   "outputs": [],
   "source": [
    "rank_list=[]\n",
    "name_list=[]\n",
    "networth_list=[]\n",
    "age_list=[]\n",
    "citizenship_list=[]\n",
    "source_list=[]\n",
    "industry_list=[]"
   ]
  },
  {
   "cell_type": "code",
   "execution_count": 32,
   "id": "55907c38",
   "metadata": {},
   "outputs": [],
   "source": [
    "firstRow_tag=driver.find_element(By.XPATH,'//div[@class=\"TableRow_row__L-0Km TableRow_activeRow__g4oSF\"]')\n",
    "f_list=firstRow_tag.text.split('\\n')\n",
    "rank_list.append(f_list[0])\n",
    "name_list.append(f_list[1])\n",
    "networth_list.append(f_list[2])\n",
    "age_list.append(f_list[3])\n",
    "citizenship_list.append(f_list[4])\n",
    "source_list.append(f_list[5])\n",
    "industry_list.append(f_list[6])"
   ]
  },
  {
   "cell_type": "code",
   "execution_count": 33,
   "id": "ff86011f",
   "metadata": {},
   "outputs": [],
   "source": [
    "otherRow_tags=driver.find_elements(By.XPATH,'//div[@class=\"TableRow_row__L-0Km\"]')\n",
    "for i in otherRow_tags:\n",
    "    f_list=i.text.split('\\n')\n",
    "    rank_list.append(f_list[0])\n",
    "    name_list.append(f_list[1])\n",
    "    networth_list.append(f_list[2])\n",
    "    age_list.append(f_list[3])\n",
    "    citizenship_list.append(f_list[4])\n",
    "    source_list.append(f_list[5])\n",
    "    industry_list.append(f_list[6])"
   ]
  },
  {
   "cell_type": "code",
   "execution_count": 34,
   "id": "5844e2c6",
   "metadata": {},
   "outputs": [
    {
     "data": {
      "text/html": [
       "<div>\n",
       "<style scoped>\n",
       "    .dataframe tbody tr th:only-of-type {\n",
       "        vertical-align: middle;\n",
       "    }\n",
       "\n",
       "    .dataframe tbody tr th {\n",
       "        vertical-align: top;\n",
       "    }\n",
       "\n",
       "    .dataframe thead th {\n",
       "        text-align: right;\n",
       "    }\n",
       "</style>\n",
       "<table border=\"1\" class=\"dataframe\">\n",
       "  <thead>\n",
       "    <tr style=\"text-align: right;\">\n",
       "      <th></th>\n",
       "      <th>RANK</th>\n",
       "      <th>NAME</th>\n",
       "      <th>NET WORTH</th>\n",
       "      <th>AGE</th>\n",
       "      <th>CITIZENSHIP</th>\n",
       "      <th>SOURCE</th>\n",
       "      <th>INDUSTRY</th>\n",
       "    </tr>\n",
       "  </thead>\n",
       "  <tbody>\n",
       "    <tr>\n",
       "      <th>0</th>\n",
       "      <td>1</td>\n",
       "      <td>Bernard Arnault &amp; family</td>\n",
       "      <td>$211 B</td>\n",
       "      <td>74</td>\n",
       "      <td>France</td>\n",
       "      <td>LVMH</td>\n",
       "      <td>Fashion &amp; Retail</td>\n",
       "    </tr>\n",
       "    <tr>\n",
       "      <th>1</th>\n",
       "      <td>2</td>\n",
       "      <td>Elon Musk</td>\n",
       "      <td>$180 B</td>\n",
       "      <td>51</td>\n",
       "      <td>United States</td>\n",
       "      <td>Tesla, SpaceX</td>\n",
       "      <td>Automotive</td>\n",
       "    </tr>\n",
       "    <tr>\n",
       "      <th>2</th>\n",
       "      <td>3</td>\n",
       "      <td>Jeff Bezos</td>\n",
       "      <td>$114 B</td>\n",
       "      <td>59</td>\n",
       "      <td>United States</td>\n",
       "      <td>Amazon</td>\n",
       "      <td>Technology</td>\n",
       "    </tr>\n",
       "    <tr>\n",
       "      <th>3</th>\n",
       "      <td>4</td>\n",
       "      <td>Larry Ellison</td>\n",
       "      <td>$107 B</td>\n",
       "      <td>78</td>\n",
       "      <td>United States</td>\n",
       "      <td>Oracle</td>\n",
       "      <td>Technology</td>\n",
       "    </tr>\n",
       "    <tr>\n",
       "      <th>4</th>\n",
       "      <td>5</td>\n",
       "      <td>Warren Buffett</td>\n",
       "      <td>$106 B</td>\n",
       "      <td>92</td>\n",
       "      <td>United States</td>\n",
       "      <td>Berkshire Hathaway</td>\n",
       "      <td>Finance &amp; Investments</td>\n",
       "    </tr>\n",
       "    <tr>\n",
       "      <th>...</th>\n",
       "      <td>...</td>\n",
       "      <td>...</td>\n",
       "      <td>...</td>\n",
       "      <td>...</td>\n",
       "      <td>...</td>\n",
       "      <td>...</td>\n",
       "      <td>...</td>\n",
       "    </tr>\n",
       "    <tr>\n",
       "      <th>195</th>\n",
       "      <td>195</td>\n",
       "      <td>Jin Baofang</td>\n",
       "      <td>$9.6 B</td>\n",
       "      <td>70</td>\n",
       "      <td>China</td>\n",
       "      <td>Solar panels</td>\n",
       "      <td>Energy</td>\n",
       "    </tr>\n",
       "    <tr>\n",
       "      <th>196</th>\n",
       "      <td>195</td>\n",
       "      <td>Luo Liguo &amp; family</td>\n",
       "      <td>$9.6 B</td>\n",
       "      <td>67</td>\n",
       "      <td>China</td>\n",
       "      <td>Chemicals</td>\n",
       "      <td>Manufacturing</td>\n",
       "    </tr>\n",
       "    <tr>\n",
       "      <th>197</th>\n",
       "      <td>195</td>\n",
       "      <td>Marijke Mars</td>\n",
       "      <td>$9.6 B</td>\n",
       "      <td>58</td>\n",
       "      <td>United States</td>\n",
       "      <td>Candy, pet food</td>\n",
       "      <td>Food &amp; Beverage</td>\n",
       "    </tr>\n",
       "    <tr>\n",
       "      <th>198</th>\n",
       "      <td>195</td>\n",
       "      <td>Pamela Mars</td>\n",
       "      <td>$9.6 B</td>\n",
       "      <td>62</td>\n",
       "      <td>United States</td>\n",
       "      <td>Candy, pet food</td>\n",
       "      <td>Food &amp; Beverage</td>\n",
       "    </tr>\n",
       "    <tr>\n",
       "      <th>199</th>\n",
       "      <td>195</td>\n",
       "      <td>Valerie Mars</td>\n",
       "      <td>$9.6 B</td>\n",
       "      <td>64</td>\n",
       "      <td>United States</td>\n",
       "      <td>Candy, pet food</td>\n",
       "      <td>Food &amp; Beverage</td>\n",
       "    </tr>\n",
       "  </tbody>\n",
       "</table>\n",
       "<p>200 rows × 7 columns</p>\n",
       "</div>"
      ],
      "text/plain": [
       "    RANK                      NAME NET WORTH AGE    CITIZENSHIP  \\\n",
       "0      1  Bernard Arnault & family    $211 B  74         France   \n",
       "1      2                 Elon Musk    $180 B  51  United States   \n",
       "2      3                Jeff Bezos    $114 B  59  United States   \n",
       "3      4             Larry Ellison    $107 B  78  United States   \n",
       "4      5            Warren Buffett    $106 B  92  United States   \n",
       "..   ...                       ...       ...  ..            ...   \n",
       "195  195               Jin Baofang    $9.6 B  70          China   \n",
       "196  195        Luo Liguo & family    $9.6 B  67          China   \n",
       "197  195              Marijke Mars    $9.6 B  58  United States   \n",
       "198  195               Pamela Mars    $9.6 B  62  United States   \n",
       "199  195              Valerie Mars    $9.6 B  64  United States   \n",
       "\n",
       "                 SOURCE               INDUSTRY  \n",
       "0                  LVMH       Fashion & Retail  \n",
       "1         Tesla, SpaceX             Automotive  \n",
       "2                Amazon             Technology  \n",
       "3                Oracle             Technology  \n",
       "4    Berkshire Hathaway  Finance & Investments  \n",
       "..                  ...                    ...  \n",
       "195        Solar panels                 Energy  \n",
       "196           Chemicals          Manufacturing  \n",
       "197     Candy, pet food        Food & Beverage  \n",
       "198     Candy, pet food        Food & Beverage  \n",
       "199     Candy, pet food        Food & Beverage  \n",
       "\n",
       "[200 rows x 7 columns]"
      ]
     },
     "execution_count": 34,
     "metadata": {},
     "output_type": "execute_result"
    }
   ],
   "source": [
    "dict_billionaires={\"RANK\":rank_list,\"NAME\":name_list,\"NET WORTH\":networth_list,'AGE':age_list,\"CITIZENSHIP\":citizenship_list,\"SOURCE\":source_list,\"INDUSTRY\":industry_list}\n",
    "df_billionaires=pd.DataFrame(dict_billionaires)\n",
    "df_billionaires"
   ]
  },
  {
   "cell_type": "code",
   "execution_count": 35,
   "id": "0691ab2b",
   "metadata": {},
   "outputs": [],
   "source": [
    "driver.close()"
   ]
  },
  {
   "cell_type": "markdown",
   "id": "88e3b671",
   "metadata": {},
   "source": [
    "### ANSWER 8"
   ]
  },
  {
   "cell_type": "code",
   "execution_count": 195,
   "id": "b200875a",
   "metadata": {},
   "outputs": [],
   "source": [
    "driver=webdriver.Chrome(\"chromedriver.exe\")"
   ]
  },
  {
   "cell_type": "code",
   "execution_count": 196,
   "id": "80503117",
   "metadata": {},
   "outputs": [],
   "source": [
    "driver.get('https://www.youtube.com/')\n",
    "time.sleep(5)"
   ]
  },
  {
   "cell_type": "code",
   "execution_count": 197,
   "id": "a2fac909",
   "metadata": {},
   "outputs": [],
   "source": [
    "inputText=driver.find_element(By.XPATH,'/html/body/ytd-app/div[1]/div/ytd-masthead/div[4]/div[2]/ytd-searchbox/form/div[1]/div[1]/input')\n",
    "inputText.send_keys('namo namo')\n",
    "inputText.send_keys(Keys.ENTER)\n",
    "time.sleep(5)"
   ]
  },
  {
   "cell_type": "code",
   "execution_count": 198,
   "id": "60c42ce1",
   "metadata": {},
   "outputs": [],
   "source": [
    "songBtn=driver.find_element(By.XPATH,'//yt-formatted-string[@class=\"style-scope ytd-video-renderer\"]')\n",
    "songBtn.click()\n",
    "time.sleep(5)"
   ]
  },
  {
   "cell_type": "code",
   "execution_count": 199,
   "id": "2e753cdc",
   "metadata": {},
   "outputs": [],
   "source": [
    "driver.maximize_window()\n",
    "time.sleep(5)\n",
    "#driver.execute_script(\"window.scrollBy(0,500)\")\n",
    "for _ in range(150):\n",
    "    driver.execute_script(\"window.scrollBy(0,500)\")\n",
    "    time.sleep(2)"
   ]
  },
  {
   "cell_type": "code",
   "execution_count": 200,
   "id": "b1cd4e91",
   "metadata": {},
   "outputs": [],
   "source": [
    "comments=[]\n",
    "comment_upvote=[] \n",
    "comment_time=[]"
   ]
  },
  {
   "cell_type": "code",
   "execution_count": 201,
   "id": "8cfccc08",
   "metadata": {},
   "outputs": [],
   "source": [
    "comments_tag=driver.find_elements(By.XPATH,'//div[@class=\"style-scope ytd-comment-renderer\" and @id=\"comment-content\"]')\n",
    "for i in comments_tag[0:500]:\n",
    "    comments.append(i.text)"
   ]
  },
  {
   "cell_type": "code",
   "execution_count": 202,
   "id": "f327fd9f",
   "metadata": {},
   "outputs": [],
   "source": [
    "upvote_tag=driver.find_elements(By.XPATH,'//span[@class=\"style-scope ytd-comment-action-buttons-renderer\" and @id=\"vote-count-middle\"]')\n",
    "for i in upvote_tag[0:500]:\n",
    "    comment_upvote.append(i.text)"
   ]
  },
  {
   "cell_type": "code",
   "execution_count": 203,
   "id": "1b18434e",
   "metadata": {},
   "outputs": [],
   "source": [
    "time_tag=driver.find_elements(By.XPATH,'//yt-formatted-string[@class=\"published-time-text style-scope ytd-comment-renderer\"]')\n",
    "for i in time_tag[0:500]:\n",
    "    comment_time.append(i.text)"
   ]
  },
  {
   "cell_type": "code",
   "execution_count": 204,
   "id": "a3e9e6d9",
   "metadata": {},
   "outputs": [
    {
     "data": {
      "text/html": [
       "<div>\n",
       "<style scoped>\n",
       "    .dataframe tbody tr th:only-of-type {\n",
       "        vertical-align: middle;\n",
       "    }\n",
       "\n",
       "    .dataframe tbody tr th {\n",
       "        vertical-align: top;\n",
       "    }\n",
       "\n",
       "    .dataframe thead th {\n",
       "        text-align: right;\n",
       "    }\n",
       "</style>\n",
       "<table border=\"1\" class=\"dataframe\">\n",
       "  <thead>\n",
       "    <tr style=\"text-align: right;\">\n",
       "      <th></th>\n",
       "      <th>Comments</th>\n",
       "      <th>Comment Upvote</th>\n",
       "      <th>Comment Time</th>\n",
       "    </tr>\n",
       "  </thead>\n",
       "  <tbody>\n",
       "    <tr>\n",
       "      <th>0</th>\n",
       "      <td>This song + Shivratri= heaven</td>\n",
       "      <td>974</td>\n",
       "      <td>2 months ago</td>\n",
       "    </tr>\n",
       "    <tr>\n",
       "      <th>1</th>\n",
       "      <td>I am muslim but I love to listen this song nam...</td>\n",
       "      <td>2.8K</td>\n",
       "      <td>1 month ago (edited)</td>\n",
       "    </tr>\n",
       "    <tr>\n",
       "      <th>2</th>\n",
       "      <td>I'm Muslim but I love this song ️ bahot feelin...</td>\n",
       "      <td>810</td>\n",
       "      <td>1 month ago</td>\n",
       "    </tr>\n",
       "    <tr>\n",
       "      <th>3</th>\n",
       "      <td>Sushant Singh Rajput is still live in the hear...</td>\n",
       "      <td>657</td>\n",
       "      <td>3 weeks ago</td>\n",
       "    </tr>\n",
       "    <tr>\n",
       "      <th>4</th>\n",
       "      <td>I'm Christian but my heart is deeply touched w...</td>\n",
       "      <td>1.7K</td>\n",
       "      <td>2 months ago</td>\n",
       "    </tr>\n",
       "    <tr>\n",
       "      <th>...</th>\n",
       "      <td>...</td>\n",
       "      <td>...</td>\n",
       "      <td>...</td>\n",
       "    </tr>\n",
       "    <tr>\n",
       "      <th>495</th>\n",
       "      <td>HAR HAR MAHADEV ️</td>\n",
       "      <td>1</td>\n",
       "      <td>12 days ago</td>\n",
       "    </tr>\n",
       "    <tr>\n",
       "      <th>496</th>\n",
       "      <td>Diverse by religion United by melody️ I am Jain</td>\n",
       "      <td>1</td>\n",
       "      <td>1 month ago</td>\n",
       "    </tr>\n",
       "    <tr>\n",
       "      <th>497</th>\n",
       "      <td>HAR HAR MAHADEV ️</td>\n",
       "      <td>1</td>\n",
       "      <td>12 days ago</td>\n",
       "    </tr>\n",
       "    <tr>\n",
       "      <th>498</th>\n",
       "      <td>The bond of SSR nd MAHADEV makes this song a l...</td>\n",
       "      <td>168</td>\n",
       "      <td>1 year ago</td>\n",
       "    </tr>\n",
       "    <tr>\n",
       "      <th>499</th>\n",
       "      <td>This is my favourite song ️️️️️️️️️️</td>\n",
       "      <td>1</td>\n",
       "      <td>1 month ago</td>\n",
       "    </tr>\n",
       "  </tbody>\n",
       "</table>\n",
       "<p>500 rows × 3 columns</p>\n",
       "</div>"
      ],
      "text/plain": [
       "                                              Comments Comment Upvote  \\\n",
       "0                       This song + Shivratri= heaven             974   \n",
       "1    I am muslim but I love to listen this song nam...           2.8K   \n",
       "2    I'm Muslim but I love this song ️ bahot feelin...            810   \n",
       "3    Sushant Singh Rajput is still live in the hear...            657   \n",
       "4    I'm Christian but my heart is deeply touched w...           1.7K   \n",
       "..                                                 ...            ...   \n",
       "495                                  HAR HAR MAHADEV ️              1   \n",
       "496    Diverse by religion United by melody️ I am Jain              1   \n",
       "497                                  HAR HAR MAHADEV ️              1   \n",
       "498  The bond of SSR nd MAHADEV makes this song a l...            168   \n",
       "499               This is my favourite song ️️️️️️️️️️              1   \n",
       "\n",
       "             Comment Time  \n",
       "0            2 months ago  \n",
       "1    1 month ago (edited)  \n",
       "2             1 month ago  \n",
       "3             3 weeks ago  \n",
       "4            2 months ago  \n",
       "..                    ...  \n",
       "495           12 days ago  \n",
       "496           1 month ago  \n",
       "497           12 days ago  \n",
       "498            1 year ago  \n",
       "499           1 month ago  \n",
       "\n",
       "[500 rows x 3 columns]"
      ]
     },
     "execution_count": 204,
     "metadata": {},
     "output_type": "execute_result"
    }
   ],
   "source": [
    "dict_yt={\"Comments\":comments,\"Comment Upvote\":comment_upvote,\"Comment Time\":comment_time}\n",
    "df_yt=pd.DataFrame(dict_yt)\n",
    "df_yt"
   ]
  },
  {
   "cell_type": "code",
   "execution_count": 205,
   "id": "e2e29fad",
   "metadata": {},
   "outputs": [],
   "source": [
    "driver.close()"
   ]
  },
  {
   "cell_type": "markdown",
   "id": "2d8dbe27",
   "metadata": {},
   "source": [
    "### ANSWER 9"
   ]
  },
  {
   "cell_type": "code",
   "execution_count": 209,
   "id": "8d3b91f3",
   "metadata": {},
   "outputs": [],
   "source": [
    "driver=webdriver.Chrome(\"chromedriver.exe\")"
   ]
  },
  {
   "cell_type": "code",
   "execution_count": 210,
   "id": "8ba51432",
   "metadata": {},
   "outputs": [],
   "source": [
    "driver.get('https://www.hostelworld.com/')\n",
    "time.sleep(5)"
   ]
  },
  {
   "cell_type": "code",
   "execution_count": 211,
   "id": "a89c69ad",
   "metadata": {},
   "outputs": [],
   "source": [
    "driver.find_element(By.XPATH,'//div[@class=\"field body-2 location-input\"]').click()"
   ]
  },
  {
   "cell_type": "code",
   "execution_count": 212,
   "id": "c95b73d7",
   "metadata": {},
   "outputs": [],
   "source": [
    "inputText=driver.find_element(By.XPATH,'/html/body/div[3]/div/div/div[2]/div[2]/div/div/div[4]/div/div[2]/div/div[1]/div/div/div/input')\n",
    "inputText.send_keys('London')"
   ]
  },
  {
   "cell_type": "code",
   "execution_count": 215,
   "id": "999ec612",
   "metadata": {},
   "outputs": [],
   "source": [
    "selBtn=driver.find_elements(By.XPATH,'//ul[@id=\"predicted-search-results\"]//li')\n",
    "selBtn[1].click()"
   ]
  },
  {
   "cell_type": "code",
   "execution_count": 217,
   "id": "72c03745",
   "metadata": {},
   "outputs": [],
   "source": [
    "driver.find_element(By.XPATH,'//button[@id=\"search-button\"]').click()\n",
    "time.sleep(5)"
   ]
  },
  {
   "cell_type": "code",
   "execution_count": 219,
   "id": "9c33971a",
   "metadata": {},
   "outputs": [],
   "source": [
    "name=[]\n",
    "distance=[] \n",
    "ratings=[]\n",
    "total_reviews=[]\n",
    "overall_reviews=[]\n",
    "privates_from_price=[]\n",
    "dorms_from_price=[]\n",
    "facilities_and_property=[]"
   ]
  },
  {
   "cell_type": "code",
   "execution_count": 220,
   "id": "0e5651c2",
   "metadata": {},
   "outputs": [],
   "source": [
    "driver.close()"
   ]
  },
  {
   "cell_type": "code",
   "execution_count": null,
   "id": "34305bcd",
   "metadata": {},
   "outputs": [],
   "source": []
  },
  {
   "cell_type": "code",
   "execution_count": null,
   "id": "154dedd5",
   "metadata": {},
   "outputs": [],
   "source": []
  },
  {
   "cell_type": "code",
   "execution_count": null,
   "id": "ac50211c",
   "metadata": {},
   "outputs": [],
   "source": []
  },
  {
   "cell_type": "code",
   "execution_count": null,
   "id": "cf1659ab",
   "metadata": {},
   "outputs": [],
   "source": []
  },
  {
   "cell_type": "code",
   "execution_count": null,
   "id": "76bcded7",
   "metadata": {},
   "outputs": [],
   "source": []
  },
  {
   "cell_type": "code",
   "execution_count": null,
   "id": "cb715022",
   "metadata": {},
   "outputs": [],
   "source": []
  }
 ],
 "metadata": {
  "kernelspec": {
   "display_name": "Python 3 (ipykernel)",
   "language": "python",
   "name": "python3"
  },
  "language_info": {
   "codemirror_mode": {
    "name": "ipython",
    "version": 3
   },
   "file_extension": ".py",
   "mimetype": "text/x-python",
   "name": "python",
   "nbconvert_exporter": "python",
   "pygments_lexer": "ipython3",
   "version": "3.9.7"
  }
 },
 "nbformat": 4,
 "nbformat_minor": 5
}
