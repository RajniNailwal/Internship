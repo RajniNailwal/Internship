{
 "cells": [
  {
   "cell_type": "code",
   "execution_count": 1,
   "id": "123293b2",
   "metadata": {},
   "outputs": [],
   "source": [
    "import pandas as pd"
   ]
  },
  {
   "cell_type": "code",
   "execution_count": 2,
   "id": "c0b13788",
   "metadata": {},
   "outputs": [],
   "source": [
    "import selenium\n",
    "from selenium import webdriver\n",
    "from selenium.common.exceptions import StaleElementReferenceException, NoSuchElementException\n",
    "from selenium.webdriver.common.by import By"
   ]
  },
  {
   "cell_type": "code",
   "execution_count": 3,
   "id": "4dc057b6",
   "metadata": {},
   "outputs": [],
   "source": [
    "import time"
   ]
  },
  {
   "cell_type": "code",
   "execution_count": 4,
   "id": "a98499e6",
   "metadata": {},
   "outputs": [],
   "source": [
    "import warnings\n",
    "warnings.filterwarnings('ignore')"
   ]
  },
  {
   "cell_type": "markdown",
   "id": "74a0cb9a",
   "metadata": {},
   "source": [
    "### ANSWER 1"
   ]
  },
  {
   "cell_type": "code",
   "execution_count": 5,
   "id": "edefa08b",
   "metadata": {},
   "outputs": [],
   "source": [
    "#run the chrome driver \n",
    "driver=webdriver.Chrome(\"chromedriver.exe\")"
   ]
  },
  {
   "cell_type": "code",
   "execution_count": 6,
   "id": "aca67889",
   "metadata": {},
   "outputs": [],
   "source": [
    "#open the url\n",
    "driver.get(\"https://www.naukri.com/\")"
   ]
  },
  {
   "cell_type": "code",
   "execution_count": 7,
   "id": "60646179",
   "metadata": {},
   "outputs": [],
   "source": [
    "# Find the designation input element by class name\n",
    "designation=driver.find_element(By.CLASS_NAME,\"suggestor-input\")"
   ]
  },
  {
   "cell_type": "code",
   "execution_count": 8,
   "id": "5beabfcd",
   "metadata": {},
   "outputs": [],
   "source": [
    "# Enter \"Data Analyst\" in the designation input field\n",
    "designation.send_keys(\"Data Analyst\")"
   ]
  },
  {
   "cell_type": "code",
   "execution_count": 9,
   "id": "0636098b",
   "metadata": {},
   "outputs": [],
   "source": [
    "#enter \"Bangalore\" in the location input field by finding absolute XPATH for location\n",
    "location=driver.find_element(By.XPATH,\"/html/body/div[1]/div[7]/div/div/div[5]/div/div/div/div[1]/div/input\")\n",
    "location.send_keys(\"Bangalore\")"
   ]
  },
  {
   "cell_type": "code",
   "execution_count": 10,
   "id": "15fadcbb",
   "metadata": {},
   "outputs": [],
   "source": [
    "# find search button path using CLASS_NAME & click on it\n",
    "searchBtn=driver.find_element(By.CLASS_NAME,\"qsbSubmit\")\n",
    "searchBtn.click()"
   ]
  },
  {
   "cell_type": "code",
   "execution_count": 11,
   "id": "0204876d",
   "metadata": {},
   "outputs": [],
   "source": [
    "#Make empty list for values we need to capture\n",
    "job_title=[]\n",
    "job_location=[] \n",
    "company_name=[]\n",
    "experience_required=[]"
   ]
  },
  {
   "cell_type": "code",
   "execution_count": 12,
   "id": "8d98386c",
   "metadata": {},
   "outputs": [],
   "source": [
    "# Find tags for title, location, name, experience required by using relative XPATH\n",
    "#Fetch title_tags in every iteration and append to the list\n",
    "title_tags=driver.find_elements(By.XPATH,'//a[@class=\"title ellipsis\"]')\n",
    "for i in title_tags[0:10]:\n",
    "    job_title.append(i.text)\n",
    "#fetch location_tags in every iteration and append to the list   \n",
    "location_tags=driver.find_elements(By.XPATH,'//span[@class=\"ellipsis fleft locWdth\"]')\n",
    "for i in location_tags[0:10]:\n",
    "    job_location.append(i.text)\n",
    "#fetch company_name_tags in every iteration and append to the list  \n",
    "company_name_tags=driver.find_elements(By.XPATH,'//a[@class=\"subTitle ellipsis fleft\"]')\n",
    "for i in company_name_tags[0:10]:\n",
    "    company_name.append(i.text)\n",
    "# fetch experience_required_tags in every iteration and append to the list    \n",
    "experience_required_tags=driver.find_elements(By.XPATH,'//span[@class=\"ellipsis fleft expwdth\"]')\n",
    "for i in experience_required_tags[0:10]:\n",
    "    experience_required.append(i.text)"
   ]
  },
  {
   "cell_type": "code",
   "execution_count": 13,
   "id": "437c77b3",
   "metadata": {},
   "outputs": [
    {
     "data": {
      "text/html": [
       "<div>\n",
       "<style scoped>\n",
       "    .dataframe tbody tr th:only-of-type {\n",
       "        vertical-align: middle;\n",
       "    }\n",
       "\n",
       "    .dataframe tbody tr th {\n",
       "        vertical-align: top;\n",
       "    }\n",
       "\n",
       "    .dataframe thead th {\n",
       "        text-align: right;\n",
       "    }\n",
       "</style>\n",
       "<table border=\"1\" class=\"dataframe\">\n",
       "  <thead>\n",
       "    <tr style=\"text-align: right;\">\n",
       "      <th></th>\n",
       "      <th>Job Title</th>\n",
       "      <th>Job Location</th>\n",
       "      <th>Company Name</th>\n",
       "      <th>Experience Required</th>\n",
       "    </tr>\n",
       "  </thead>\n",
       "  <tbody>\n",
       "  </tbody>\n",
       "</table>\n",
       "</div>"
      ],
      "text/plain": [
       "Empty DataFrame\n",
       "Columns: [Job Title, Job Location, Company Name, Experience Required]\n",
       "Index: []"
      ]
     },
     "execution_count": 13,
     "metadata": {},
     "output_type": "execute_result"
    }
   ],
   "source": [
    "#Make a dictionary from the list generated \n",
    "#convert dictionary to DataFrame\n",
    "dict_job={\"Job Title\":job_title,\"Job Location\":job_location,\"Company Name\":company_name, \"Experience Required\":experience_required}\n",
    "df_job=pd.DataFrame(dict_job)\n",
    "df_job"
   ]
  },
  {
   "cell_type": "code",
   "execution_count": 14,
   "id": "83975150",
   "metadata": {},
   "outputs": [],
   "source": [
    "# close the driver\n",
    "driver.close()"
   ]
  },
  {
   "cell_type": "markdown",
   "id": "d89e49b4",
   "metadata": {},
   "source": [
    "### ANSWER 2"
   ]
  },
  {
   "cell_type": "code",
   "execution_count": 15,
   "id": "dd466361",
   "metadata": {},
   "outputs": [],
   "source": [
    "#run the chrome driver \n",
    "driver=webdriver.Chrome(\"chromedriver.exe\")"
   ]
  },
  {
   "cell_type": "code",
   "execution_count": 16,
   "id": "406e8058",
   "metadata": {},
   "outputs": [],
   "source": [
    "#open the url\n",
    "driver.get('https://www.naukri.com/')"
   ]
  },
  {
   "cell_type": "code",
   "execution_count": 17,
   "id": "43b21dda",
   "metadata": {},
   "outputs": [],
   "source": [
    "# Find the designation input element by class name\n",
    "designation=driver.find_element(By.CLASS_NAME,'suggestor-input ')"
   ]
  },
  {
   "cell_type": "code",
   "execution_count": 18,
   "id": "628ecb2b",
   "metadata": {},
   "outputs": [],
   "source": [
    "# Enter \"Data Scientist\" in the designation input field\n",
    "designation.send_keys(\"Data Scientist\")"
   ]
  },
  {
   "cell_type": "code",
   "execution_count": 19,
   "id": "b2ceac55",
   "metadata": {},
   "outputs": [],
   "source": [
    "#find location element using absolute XPATH, enter \"Bangalore\" in location element\n",
    "location=driver.find_element(By.XPATH,\"/html/body/div[1]/div[7]/div/div/div[5]/div/div/div/div[1]/div/input\")\n",
    "location.send_keys(\"Bangalore\")"
   ]
  },
  {
   "cell_type": "code",
   "execution_count": 20,
   "id": "7cc70536",
   "metadata": {},
   "outputs": [],
   "source": [
    "searchBtn=driver.find_element(By.CLASS_NAME,\"qsbSubmit\")\n",
    "searchBtn.click()"
   ]
  },
  {
   "cell_type": "code",
   "execution_count": 21,
   "id": "ed2831cd",
   "metadata": {},
   "outputs": [],
   "source": [
    "job_title=[]\n",
    "job_location=[] \n",
    "company_name=[]"
   ]
  },
  {
   "cell_type": "code",
   "execution_count": 22,
   "id": "2a6eb4f2",
   "metadata": {},
   "outputs": [],
   "source": [
    "title_tags=driver.find_elements(By.XPATH,'//a[@class=\"title ellipsis\"]')\n",
    "for i in title_tags[0:10]:\n",
    "    job_title.append(i.text)\n",
    "    \n",
    "location_tags=driver.find_elements(By.XPATH,'//span[@class=\"ellipsis fleft locWdth\"]')\n",
    "for i in location_tags[0:10]:\n",
    "    job_location.append(i.text)\n",
    "    \n",
    "company_name_tags=driver.find_elements(By.XPATH,'//a[@class=\"subTitle ellipsis fleft\"]')\n",
    "for i in company_name_tags[0:10]:\n",
    "    company_name.append(i.text)"
   ]
  },
  {
   "cell_type": "code",
   "execution_count": 23,
   "id": "8dfb51ca",
   "metadata": {},
   "outputs": [
    {
     "data": {
      "text/html": [
       "<div>\n",
       "<style scoped>\n",
       "    .dataframe tbody tr th:only-of-type {\n",
       "        vertical-align: middle;\n",
       "    }\n",
       "\n",
       "    .dataframe tbody tr th {\n",
       "        vertical-align: top;\n",
       "    }\n",
       "\n",
       "    .dataframe thead th {\n",
       "        text-align: right;\n",
       "    }\n",
       "</style>\n",
       "<table border=\"1\" class=\"dataframe\">\n",
       "  <thead>\n",
       "    <tr style=\"text-align: right;\">\n",
       "      <th></th>\n",
       "      <th>Job Title</th>\n",
       "      <th>Job Location</th>\n",
       "      <th>Company Name</th>\n",
       "    </tr>\n",
       "  </thead>\n",
       "  <tbody>\n",
       "  </tbody>\n",
       "</table>\n",
       "</div>"
      ],
      "text/plain": [
       "Empty DataFrame\n",
       "Columns: [Job Title, Job Location, Company Name]\n",
       "Index: []"
      ]
     },
     "execution_count": 23,
     "metadata": {},
     "output_type": "execute_result"
    }
   ],
   "source": [
    "dict_job={\"Job Title\":job_title,\"Job Location\":job_location,\"Company Name\":company_name}\n",
    "df_job=pd.DataFrame(dict_job)\n",
    "df_job"
   ]
  },
  {
   "cell_type": "code",
   "execution_count": 24,
   "id": "cf42ad02",
   "metadata": {},
   "outputs": [],
   "source": [
    "driver.close()"
   ]
  },
  {
   "cell_type": "markdown",
   "id": "ad3ca07e",
   "metadata": {},
   "source": [
    "### ANSWER 3"
   ]
  },
  {
   "cell_type": "code",
   "execution_count": 25,
   "id": "6cba5a39",
   "metadata": {},
   "outputs": [],
   "source": [
    "#run the chrome driver \n",
    "driver=webdriver.Chrome(\"chromedriver.exe\")"
   ]
  },
  {
   "cell_type": "code",
   "execution_count": 26,
   "id": "d7082664",
   "metadata": {},
   "outputs": [],
   "source": [
    "#open the url\n",
    "driver.get('https://www.naukri.com/')"
   ]
  },
  {
   "cell_type": "code",
   "execution_count": 27,
   "id": "909cd527",
   "metadata": {},
   "outputs": [],
   "source": [
    "# Find the designation input element by class name\n",
    "designation=driver.find_element(By.CLASS_NAME,'suggestor-input ')"
   ]
  },
  {
   "cell_type": "code",
   "execution_count": 28,
   "id": "621553ca",
   "metadata": {},
   "outputs": [],
   "source": [
    "# Enter \"Data Scientist\" in the designation input field\n",
    "designation.send_keys(\"Data Scientist\")"
   ]
  },
  {
   "cell_type": "code",
   "execution_count": 29,
   "id": "bfd952a8",
   "metadata": {},
   "outputs": [],
   "source": [
    "searchBtn=driver.find_element(By.CLASS_NAME,\"qsbSubmit\")\n",
    "searchBtn.click()"
   ]
  },
  {
   "cell_type": "code",
   "execution_count": 32,
   "id": "3fbfd5f5",
   "metadata": {},
   "outputs": [],
   "source": [
    "#find location checkbox by using absolute XPATH, and select \"Delhi/NCR\"\n",
    "locationCheckBox=driver.find_element(By.XPATH,\"/html/body/div[1]/div[4]/div/div/section[1]/div[2]/div[5]/div[2]/div[2]/label/i\")\n",
    "locationCheckBox.click()"
   ]
  },
  {
   "cell_type": "code",
   "execution_count": 33,
   "id": "91f2a7aa",
   "metadata": {},
   "outputs": [],
   "source": [
    "#find salary checkbox by using absolute XPATH, and select \"3-6 lakhs\"\n",
    "salaryCheckBox=driver.find_element(By.XPATH,\"/html/body/div[1]/div[4]/div/div/section[1]/div[2]/div[6]/div[2]/div[2]/label/i\")\n",
    "salaryCheckBox.click()"
   ]
  },
  {
   "cell_type": "code",
   "execution_count": 34,
   "id": "eb45c733",
   "metadata": {},
   "outputs": [],
   "source": [
    "job_title=[]\n",
    "job_location=[] \n",
    "company_name=[]\n",
    "experience_required=[]"
   ]
  },
  {
   "cell_type": "code",
   "execution_count": 35,
   "id": "f995d2a2",
   "metadata": {},
   "outputs": [],
   "source": [
    "title_tags=driver.find_elements(By.XPATH,'//a[@class=\"title ellipsis\"]')\n",
    "for i in title_tags[0:10]:\n",
    "    job_title.append(i.text)\n",
    "    \n",
    "location_tags=driver.find_elements(By.XPATH,'//span[@class=\"ellipsis fleft locWdth\"]')\n",
    "for i in location_tags[0:10]:\n",
    "    job_location.append(i.text)\n",
    "    \n",
    "company_name_tags=driver.find_elements(By.XPATH,'//a[@class=\"subTitle ellipsis fleft\"]')\n",
    "for i in company_name_tags[0:10]:\n",
    "    company_name.append(i.text)\n",
    "    \n",
    "experience_required_tags=driver.find_elements(By.XPATH,'//span[@class=\"ellipsis fleft expwdth\"]')\n",
    "for i in experience_required_tags[0:10]:\n",
    "    experience_required.append(i.text)"
   ]
  },
  {
   "cell_type": "code",
   "execution_count": 36,
   "id": "a482b79d",
   "metadata": {
    "scrolled": true
   },
   "outputs": [
    {
     "data": {
      "text/html": [
       "<div>\n",
       "<style scoped>\n",
       "    .dataframe tbody tr th:only-of-type {\n",
       "        vertical-align: middle;\n",
       "    }\n",
       "\n",
       "    .dataframe tbody tr th {\n",
       "        vertical-align: top;\n",
       "    }\n",
       "\n",
       "    .dataframe thead th {\n",
       "        text-align: right;\n",
       "    }\n",
       "</style>\n",
       "<table border=\"1\" class=\"dataframe\">\n",
       "  <thead>\n",
       "    <tr style=\"text-align: right;\">\n",
       "      <th></th>\n",
       "      <th>Job Title</th>\n",
       "      <th>Job Location</th>\n",
       "      <th>Company Name</th>\n",
       "      <th>Experience Required</th>\n",
       "    </tr>\n",
       "  </thead>\n",
       "  <tbody>\n",
       "    <tr>\n",
       "      <th>0</th>\n",
       "      <td>Data Scientist</td>\n",
       "      <td>Temp. WFH - Kochi/Cochin, Kolkata, Hyderabad/S...</td>\n",
       "      <td>Cognizant</td>\n",
       "      <td>6-10 Yrs</td>\n",
       "    </tr>\n",
       "    <tr>\n",
       "      <th>1</th>\n",
       "      <td>Junior Data Scientist</td>\n",
       "      <td>Kolkata, Mumbai, New Delhi, Hyderabad/Secunder...</td>\n",
       "      <td>Analytos</td>\n",
       "      <td>0-2 Yrs</td>\n",
       "    </tr>\n",
       "    <tr>\n",
       "      <th>2</th>\n",
       "      <td>Data Scientist</td>\n",
       "      <td>Gurgaon/Gurugram, Bangalore/Bengaluru</td>\n",
       "      <td>Blackbuck</td>\n",
       "      <td>3-7 Yrs</td>\n",
       "    </tr>\n",
       "    <tr>\n",
       "      <th>3</th>\n",
       "      <td>Data Scientist</td>\n",
       "      <td>Kolkata, Mumbai, New Delhi, Hyderabad/Secunder...</td>\n",
       "      <td>Tabsquare</td>\n",
       "      <td>1-3 Yrs</td>\n",
       "    </tr>\n",
       "    <tr>\n",
       "      <th>4</th>\n",
       "      <td>Data Scientist</td>\n",
       "      <td>Kolkata, Mumbai, New Delhi, Hyderabad/Secunder...</td>\n",
       "      <td>Analytos</td>\n",
       "      <td>2-4 Yrs</td>\n",
       "    </tr>\n",
       "    <tr>\n",
       "      <th>5</th>\n",
       "      <td>Junior Data Scientist</td>\n",
       "      <td>Gurgaon/Gurugram, United States (USA), Bulgaria</td>\n",
       "      <td>Adidas</td>\n",
       "      <td>1-6 Yrs</td>\n",
       "    </tr>\n",
       "    <tr>\n",
       "      <th>6</th>\n",
       "      <td>Analyst-Data Science</td>\n",
       "      <td>Gurgaon/Gurugram</td>\n",
       "      <td>AMERICAN EXPRESS</td>\n",
       "      <td>0-3 Yrs</td>\n",
       "    </tr>\n",
       "    <tr>\n",
       "      <th>7</th>\n",
       "      <td>Analyst-Data Science</td>\n",
       "      <td>Gurgaon/Gurugram</td>\n",
       "      <td>AMERICAN EXPRESS</td>\n",
       "      <td>0-3 Yrs</td>\n",
       "    </tr>\n",
       "    <tr>\n",
       "      <th>8</th>\n",
       "      <td>Senior Data Scientist</td>\n",
       "      <td>Hyderabad/Secunderabad, Chenani, Gurgaon/Gurug...</td>\n",
       "      <td>RecruitEForU</td>\n",
       "      <td>3-8 Yrs</td>\n",
       "    </tr>\n",
       "    <tr>\n",
       "      <th>9</th>\n",
       "      <td>Assistant Manager/Senior Manager - Data Scientist</td>\n",
       "      <td>Gurgaon/Gurugram, Bangalore/Bengaluru</td>\n",
       "      <td>Huquo Consulting Pvt. Ltd</td>\n",
       "      <td>2-7 Yrs</td>\n",
       "    </tr>\n",
       "  </tbody>\n",
       "</table>\n",
       "</div>"
      ],
      "text/plain": [
       "                                           Job Title  \\\n",
       "0                                     Data Scientist   \n",
       "1                              Junior Data Scientist   \n",
       "2                                     Data Scientist   \n",
       "3                                     Data Scientist   \n",
       "4                                     Data Scientist   \n",
       "5                              Junior Data Scientist   \n",
       "6                               Analyst-Data Science   \n",
       "7                               Analyst-Data Science   \n",
       "8                              Senior Data Scientist   \n",
       "9  Assistant Manager/Senior Manager - Data Scientist   \n",
       "\n",
       "                                        Job Location  \\\n",
       "0  Temp. WFH - Kochi/Cochin, Kolkata, Hyderabad/S...   \n",
       "1  Kolkata, Mumbai, New Delhi, Hyderabad/Secunder...   \n",
       "2              Gurgaon/Gurugram, Bangalore/Bengaluru   \n",
       "3  Kolkata, Mumbai, New Delhi, Hyderabad/Secunder...   \n",
       "4  Kolkata, Mumbai, New Delhi, Hyderabad/Secunder...   \n",
       "5    Gurgaon/Gurugram, United States (USA), Bulgaria   \n",
       "6                                   Gurgaon/Gurugram   \n",
       "7                                   Gurgaon/Gurugram   \n",
       "8  Hyderabad/Secunderabad, Chenani, Gurgaon/Gurug...   \n",
       "9              Gurgaon/Gurugram, Bangalore/Bengaluru   \n",
       "\n",
       "                Company Name Experience Required  \n",
       "0                  Cognizant            6-10 Yrs  \n",
       "1                   Analytos             0-2 Yrs  \n",
       "2                  Blackbuck             3-7 Yrs  \n",
       "3                  Tabsquare             1-3 Yrs  \n",
       "4                   Analytos             2-4 Yrs  \n",
       "5                     Adidas             1-6 Yrs  \n",
       "6           AMERICAN EXPRESS             0-3 Yrs  \n",
       "7           AMERICAN EXPRESS             0-3 Yrs  \n",
       "8               RecruitEForU             3-8 Yrs  \n",
       "9  Huquo Consulting Pvt. Ltd             2-7 Yrs  "
      ]
     },
     "execution_count": 36,
     "metadata": {},
     "output_type": "execute_result"
    }
   ],
   "source": [
    "dict_job={\"Job Title\":job_title,\"Job Location\":job_location,\"Company Name\":company_name, \"Experience Required\":experience_required}\n",
    "df_job=pd.DataFrame(dict_job)\n",
    "df_job"
   ]
  },
  {
   "cell_type": "code",
   "execution_count": 37,
   "id": "917cb30f",
   "metadata": {},
   "outputs": [],
   "source": [
    "driver.close()"
   ]
  },
  {
   "cell_type": "markdown",
   "id": "9b0b2551",
   "metadata": {},
   "source": [
    "### ANSWER 4"
   ]
  },
  {
   "cell_type": "code",
   "execution_count": 105,
   "id": "a4f40bdc",
   "metadata": {},
   "outputs": [],
   "source": [
    "#run the chrome driver \n",
    "driver=webdriver.Chrome(\"chromedriver.exe\")"
   ]
  },
  {
   "cell_type": "code",
   "execution_count": 106,
   "id": "0f830846",
   "metadata": {},
   "outputs": [],
   "source": [
    "#open the url\n",
    "driver.get(\"https://www.flipkart.com/\")"
   ]
  },
  {
   "cell_type": "code",
   "execution_count": 107,
   "id": "af477fe3",
   "metadata": {},
   "outputs": [],
   "source": [
    "# close the login pop-up\n",
    "closeBtn=driver.find_element(By.XPATH,\"/html/body/div[2]/div/div/button\")\n",
    "closeBtn.click()"
   ]
  },
  {
   "cell_type": "code",
   "execution_count": 108,
   "id": "6328ab0a",
   "metadata": {},
   "outputs": [],
   "source": [
    "# Find the product input element by class name\n",
    "product=driver.find_element(By.CLASS_NAME,\"_3704LK\")"
   ]
  },
  {
   "cell_type": "code",
   "execution_count": 109,
   "id": "9da6d75b",
   "metadata": {},
   "outputs": [],
   "source": [
    "# Enter \"sunglasses\" in the product input field\n",
    "product.send_keys(\"sunglasses\")"
   ]
  },
  {
   "cell_type": "code",
   "execution_count": 110,
   "id": "e2a60e4a",
   "metadata": {},
   "outputs": [],
   "source": [
    "searchBtn=driver.find_element(By.CLASS_NAME,\"_34RNph\")\n",
    "searchBtn.click()"
   ]
  },
  {
   "cell_type": "code",
   "execution_count": 111,
   "id": "c17b7abd",
   "metadata": {},
   "outputs": [],
   "source": [
    "sunglassesBrand=[]\n",
    "productDescription=[]\n",
    "price=[]\n",
    "discount=[]"
   ]
  },
  {
   "cell_type": "code",
   "execution_count": 112,
   "id": "a0b9e471",
   "metadata": {},
   "outputs": [],
   "source": [
    "productBrand_tags=driver.find_elements(By.XPATH,'//div[@class=\"_2WkVRV\"]')\n",
    "for i in productBrand_tags:\n",
    "    sunglassesBrand.append(i.text)\n",
    "\n",
    "productdescription_tags=driver.find_elements(By.XPATH,'//a[@class=\"IRpwTa\" or @class=\"IRpwTa _2-ICcC\"]')\n",
    "for i in productdescription_tags:\n",
    "    productDescription.append(i.text)\n",
    "\n",
    "productPrice_tags=driver.find_elements(By.XPATH,'//div[@class=\"_30jeq3\"]')\n",
    "for i in productPrice_tags:\n",
    "    price.append(i.text)\n",
    "    \n",
    "productDiscount_tags=driver.find_elements(By.XPATH,'//div[@class=\"_3Ay6Sb\"]')\n",
    "for i in productDiscount_tags:\n",
    "    discount.append(i.text)"
   ]
  },
  {
   "cell_type": "code",
   "execution_count": 113,
   "id": "b37be799",
   "metadata": {},
   "outputs": [
    {
     "name": "stdout",
     "output_type": "stream",
     "text": [
      "40\n",
      "40\n",
      "40\n",
      "40\n"
     ]
    }
   ],
   "source": [
    "#check length of lists\n",
    "print(len(sunglassesBrand))\n",
    "print(len(productDescription))\n",
    "print(len(price))\n",
    "print(len(discount))"
   ]
  },
  {
   "cell_type": "code",
   "execution_count": 114,
   "id": "b44981cc",
   "metadata": {},
   "outputs": [],
   "source": [
    "# go to second page\n",
    "secondpgbtn=driver.find_element(By.XPATH,'/html/body/div[1]/div/div[3]/div[1]/div[2]/div[12]/div/div/nav/a[2]')\n",
    "secondpgbtn.click()"
   ]
  },
  {
   "cell_type": "code",
   "execution_count": 115,
   "id": "2311245b",
   "metadata": {},
   "outputs": [],
   "source": [
    "#iteratively capture brand, description, price, discount of sunglasses\n",
    "productBrand_tags=driver.find_elements(By.XPATH,'//div[@class=\"_2WkVRV\"]')\n",
    "for i in productBrand_tags:\n",
    "    sunglassesBrand.append(i.text)\n",
    "\n",
    "productdescription_tags=driver.find_elements(By.XPATH,'//a[@class=\"IRpwTa\" or @class=\"IRpwTa _2-ICcC\"]')\n",
    "for i in productdescription_tags:\n",
    "    productDescription.append(i.text)\n",
    "\n",
    "productPrice_tags=driver.find_elements(By.XPATH,'//div[@class=\"_30jeq3\"]')\n",
    "for i in productPrice_tags:\n",
    "    price.append(i.text)\n",
    "    \n",
    "productDiscount_tags=driver.find_elements(By.XPATH,'//div[@class=\"_3Ay6Sb\"]')\n",
    "for i in productDiscount_tags:\n",
    "    discount.append(i.text)"
   ]
  },
  {
   "cell_type": "code",
   "execution_count": 116,
   "id": "c9efd17a",
   "metadata": {},
   "outputs": [
    {
     "name": "stdout",
     "output_type": "stream",
     "text": [
      "80\n",
      "80\n",
      "80\n",
      "80\n"
     ]
    }
   ],
   "source": [
    "print(len(sunglassesBrand))\n",
    "print(len(productDescription))\n",
    "print(len(price))\n",
    "print(len(discount))"
   ]
  },
  {
   "cell_type": "code",
   "execution_count": 117,
   "id": "d86f829a",
   "metadata": {},
   "outputs": [],
   "source": [
    "# go to third page\n",
    "thirdpgbtn=driver.find_element(By.XPATH,'/html/body/div[1]/div/div[3]/div[1]/div[2]/div[12]/div/div/nav/a[4]')\n",
    "thirdpgbtn.click()"
   ]
  },
  {
   "cell_type": "code",
   "execution_count": 118,
   "id": "a5d5ccc6",
   "metadata": {},
   "outputs": [],
   "source": [
    "productBrand_tags=driver.find_elements(By.XPATH,'//div[@class=\"_2WkVRV\"]')\n",
    "for i in productBrand_tags[0:20]:\n",
    "    sunglassesBrand.append(i.text)\n",
    "\n",
    "productdescription_tags=driver.find_elements(By.XPATH,'//a[@class=\"IRpwTa\" or @class=\"IRpwTa _2-ICcC\"]')\n",
    "for i in productdescription_tags[0:20]:\n",
    "    productDescription.append(i.text)\n",
    "\n",
    "productPrice_tags=driver.find_elements(By.XPATH,'//div[@class=\"_30jeq3\"]')\n",
    "for i in productPrice_tags[0:20]:\n",
    "    price.append(i.text)\n",
    "    \n",
    "productDiscount_tags=driver.find_elements(By.XPATH,'//div[@class=\"_3Ay6Sb\"]')\n",
    "for i in productDiscount_tags[0:20]:\n",
    "    discount.append(i.text)"
   ]
  },
  {
   "cell_type": "code",
   "execution_count": 119,
   "id": "39399c0f",
   "metadata": {},
   "outputs": [
    {
     "name": "stdout",
     "output_type": "stream",
     "text": [
      "100\n",
      "100\n",
      "100\n",
      "100\n"
     ]
    }
   ],
   "source": [
    "print(len(sunglassesBrand))\n",
    "print(len(productDescription))\n",
    "print(len(price))\n",
    "print(len(discount))"
   ]
  },
  {
   "cell_type": "code",
   "execution_count": 120,
   "id": "92b170ed",
   "metadata": {
    "scrolled": true
   },
   "outputs": [
    {
     "data": {
      "text/html": [
       "<div>\n",
       "<style scoped>\n",
       "    .dataframe tbody tr th:only-of-type {\n",
       "        vertical-align: middle;\n",
       "    }\n",
       "\n",
       "    .dataframe tbody tr th {\n",
       "        vertical-align: top;\n",
       "    }\n",
       "\n",
       "    .dataframe thead th {\n",
       "        text-align: right;\n",
       "    }\n",
       "</style>\n",
       "<table border=\"1\" class=\"dataframe\">\n",
       "  <thead>\n",
       "    <tr style=\"text-align: right;\">\n",
       "      <th></th>\n",
       "      <th>Brand of sunglasses</th>\n",
       "      <th>Description of sunglasses</th>\n",
       "      <th>Price for sunglasses</th>\n",
       "      <th>Discount on sunglasses</th>\n",
       "    </tr>\n",
       "  </thead>\n",
       "  <tbody>\n",
       "    <tr>\n",
       "      <th>0</th>\n",
       "      <td>VINCENT CHASE</td>\n",
       "      <td>Polarized, UV Protection Round Sunglasses (50)</td>\n",
       "      <td>₹929</td>\n",
       "      <td>53% off</td>\n",
       "    </tr>\n",
       "    <tr>\n",
       "      <th>1</th>\n",
       "      <td>VINCENT CHASE</td>\n",
       "      <td>Polarized, UV Protection Rectangular Sunglasse...</td>\n",
       "      <td>₹899</td>\n",
       "      <td>55% off</td>\n",
       "    </tr>\n",
       "    <tr>\n",
       "      <th>2</th>\n",
       "      <td>Elligator</td>\n",
       "      <td>UV Protection Cat-eye, Retro Square, Oval, Rou...</td>\n",
       "      <td>₹149</td>\n",
       "      <td>75% off</td>\n",
       "    </tr>\n",
       "    <tr>\n",
       "      <th>3</th>\n",
       "      <td>PIRASO</td>\n",
       "      <td>UV Protection Aviator Sunglasses (Free Size)</td>\n",
       "      <td>₹268</td>\n",
       "      <td>83% off</td>\n",
       "    </tr>\n",
       "    <tr>\n",
       "      <th>4</th>\n",
       "      <td>PIRASO</td>\n",
       "      <td>UV Protection Clubmaster Sunglasses (54)</td>\n",
       "      <td>₹224</td>\n",
       "      <td>85% off</td>\n",
       "    </tr>\n",
       "    <tr>\n",
       "      <th>...</th>\n",
       "      <td>...</td>\n",
       "      <td>...</td>\n",
       "      <td>...</td>\n",
       "      <td>...</td>\n",
       "    </tr>\n",
       "    <tr>\n",
       "      <th>95</th>\n",
       "      <td>ROYAL SON</td>\n",
       "      <td>Others Retro Square Sunglasses (52)</td>\n",
       "      <td>₹224</td>\n",
       "      <td>77% off</td>\n",
       "    </tr>\n",
       "    <tr>\n",
       "      <th>96</th>\n",
       "      <td>SRPM</td>\n",
       "      <td>Others Wayfarer, Retro Square, Rectangular Sun...</td>\n",
       "      <td>₹199</td>\n",
       "      <td>86% off</td>\n",
       "    </tr>\n",
       "    <tr>\n",
       "      <th>97</th>\n",
       "      <td>PIRASO</td>\n",
       "      <td>UV Protection Oval Sunglasses (54)</td>\n",
       "      <td>₹239</td>\n",
       "      <td>85% off</td>\n",
       "    </tr>\n",
       "    <tr>\n",
       "      <th>98</th>\n",
       "      <td>Fastrack</td>\n",
       "      <td>Mirrored, UV Protection Wayfarer Sunglasses (F...</td>\n",
       "      <td>₹728</td>\n",
       "      <td>33% off</td>\n",
       "    </tr>\n",
       "    <tr>\n",
       "      <th>99</th>\n",
       "      <td>ROYAL SON</td>\n",
       "      <td>Others Retro Square Sunglasses (52)</td>\n",
       "      <td>₹224</td>\n",
       "      <td>77% off</td>\n",
       "    </tr>\n",
       "  </tbody>\n",
       "</table>\n",
       "<p>100 rows × 4 columns</p>\n",
       "</div>"
      ],
      "text/plain": [
       "   Brand of sunglasses                          Description of sunglasses  \\\n",
       "0        VINCENT CHASE     Polarized, UV Protection Round Sunglasses (50)   \n",
       "1        VINCENT CHASE  Polarized, UV Protection Rectangular Sunglasse...   \n",
       "2            Elligator  UV Protection Cat-eye, Retro Square, Oval, Rou...   \n",
       "3               PIRASO       UV Protection Aviator Sunglasses (Free Size)   \n",
       "4               PIRASO           UV Protection Clubmaster Sunglasses (54)   \n",
       "..                 ...                                                ...   \n",
       "95           ROYAL SON                Others Retro Square Sunglasses (52)   \n",
       "96                SRPM  Others Wayfarer, Retro Square, Rectangular Sun...   \n",
       "97              PIRASO                 UV Protection Oval Sunglasses (54)   \n",
       "98            Fastrack  Mirrored, UV Protection Wayfarer Sunglasses (F...   \n",
       "99           ROYAL SON                Others Retro Square Sunglasses (52)   \n",
       "\n",
       "   Price for sunglasses Discount on sunglasses  \n",
       "0                  ₹929                53% off  \n",
       "1                  ₹899                55% off  \n",
       "2                  ₹149                75% off  \n",
       "3                  ₹268                83% off  \n",
       "4                  ₹224                85% off  \n",
       "..                  ...                    ...  \n",
       "95                 ₹224                77% off  \n",
       "96                 ₹199                86% off  \n",
       "97                 ₹239                85% off  \n",
       "98                 ₹728                33% off  \n",
       "99                 ₹224                77% off  \n",
       "\n",
       "[100 rows x 4 columns]"
      ]
     },
     "execution_count": 120,
     "metadata": {},
     "output_type": "execute_result"
    }
   ],
   "source": [
    "dict_sunglasses={\"Brand of sunglasses\":sunglassesBrand,\"Description of sunglasses\":productDescription,\"Price for sunglasses\":price, \"Discount on sunglasses\":discount}\n",
    "df_sunglasses=pd.DataFrame(dict_sunglasses)\n",
    "df_sunglasses"
   ]
  },
  {
   "cell_type": "code",
   "execution_count": 121,
   "id": "2d2c495b",
   "metadata": {},
   "outputs": [],
   "source": [
    "driver.close()"
   ]
  },
  {
   "cell_type": "markdown",
   "id": "72ce59fc",
   "metadata": {},
   "source": [
    "### ANSWER 5"
   ]
  },
  {
   "cell_type": "code",
   "execution_count": 231,
   "id": "f1c52cc5",
   "metadata": {},
   "outputs": [],
   "source": [
    "#run the chrome driver \n",
    "driver=webdriver.Chrome(\"chromedriver.exe\")"
   ]
  },
  {
   "cell_type": "code",
   "execution_count": 232,
   "id": "40ec7abd",
   "metadata": {},
   "outputs": [],
   "source": [
    "driver.get(\"https://www.flipkart.com/apple-iphone-11-black-64-gb/product-reviews/itm4e5041ba101fd?pid=MOBFWQ6BXGJCEYNY&lid=LSTMOBFWQ6BXGJCEYNYZXSHRJ&market\")"
   ]
  },
  {
   "cell_type": "code",
   "execution_count": 233,
   "id": "3a5ab699",
   "metadata": {},
   "outputs": [],
   "source": [
    "rating_list=[]\n",
    "reviewSummary_list=[]\n",
    "FullReview_list=[]"
   ]
  },
  {
   "cell_type": "code",
   "execution_count": 234,
   "id": "483300c5",
   "metadata": {},
   "outputs": [],
   "source": [
    "ratingTags=driver.find_elements(By.XPATH,'//div[@class=\"_3LWZlK _1BLPMq\" or @class=\"_3LWZlK _1rdVr6 _1BLPMq\"]')\n",
    "for i in ratingTags:\n",
    "    rating_list.append(i.text)\n",
    "\n",
    "reviewSummaryTags=driver.find_elements(By.XPATH,'//p[@class=\"_2-N8zT\"]')\n",
    "for i in reviewSummaryTags:\n",
    "    reviewSummary_list.append(i.text)\n",
    "\n",
    "FullReviewTags=driver.find_elements(By.XPATH,'//div[@class=\"t-ZTKy\"]')\n",
    "for i in FullReviewTags:\n",
    "    FullReview_list.append(i.text)"
   ]
  },
  {
   "cell_type": "code",
   "execution_count": 235,
   "id": "267f9d5a",
   "metadata": {},
   "outputs": [
    {
     "name": "stdout",
     "output_type": "stream",
     "text": [
      "10\n",
      "10\n",
      "10\n"
     ]
    }
   ],
   "source": [
    "print(len(rating_list))\n",
    "print(len(reviewSummary_list))\n",
    "print(len(FullReview_list))"
   ]
  },
  {
   "cell_type": "code",
   "execution_count": 236,
   "id": "01103ab5",
   "metadata": {},
   "outputs": [],
   "source": [
    "secondpgbtn=driver.find_element(By.XPATH,'/html/body/div/div/div[3]/div/div/div[2]/div[13]/div/div/nav/a[2]')\n",
    "secondpgbtn.click()\n",
    "time.sleep(5)"
   ]
  },
  {
   "cell_type": "code",
   "execution_count": 237,
   "id": "49d98959",
   "metadata": {},
   "outputs": [],
   "source": [
    "ratingTags=driver.find_elements(By.XPATH,'//div[@class=\"_3LWZlK _1BLPMq\" or @class=\"_3LWZlK _1rdVr6 _1BLPMq\"]')\n",
    "for i in ratingTags:\n",
    "    rating_list.append(i.text)\n",
    "\n",
    "reviewSummaryTags=driver.find_elements(By.XPATH,'//p[@class=\"_2-N8zT\"]')\n",
    "for i in reviewSummaryTags:\n",
    "    reviewSummary_list.append(i.text)\n",
    "\n",
    "FullReviewTags=driver.find_elements(By.XPATH,'//div[@class=\"t-ZTKy\"]')\n",
    "for i in FullReviewTags:\n",
    "    FullReview_list.append(i.text)"
   ]
  },
  {
   "cell_type": "code",
   "execution_count": 238,
   "id": "e397cd95",
   "metadata": {},
   "outputs": [
    {
     "name": "stdout",
     "output_type": "stream",
     "text": [
      "20\n",
      "20\n",
      "20\n"
     ]
    }
   ],
   "source": [
    "print(len(rating_list))\n",
    "print(len(reviewSummary_list))\n",
    "print(len(FullReview_list))"
   ]
  },
  {
   "cell_type": "code",
   "execution_count": 239,
   "id": "f5623545",
   "metadata": {},
   "outputs": [],
   "source": [
    "thirdpgbtn=driver.find_element(By.XPATH,'/html/body/div/div/div[3]/div/div/div[2]/div[13]/div/div/nav/a[4]')\n",
    "thirdpgbtn.click()\n",
    "time.sleep(5)"
   ]
  },
  {
   "cell_type": "code",
   "execution_count": 240,
   "id": "bce224da",
   "metadata": {},
   "outputs": [],
   "source": [
    "ratingTags=driver.find_elements(By.XPATH,'//div[@class=\"_3LWZlK _1BLPMq\" or @class=\"_3LWZlK _1rdVr6 _1BLPMq\"]')\n",
    "for i in ratingTags:\n",
    "    rating_list.append(i.text)\n",
    "\n",
    "reviewSummaryTags=driver.find_elements(By.XPATH,'//p[@class=\"_2-N8zT\"]')\n",
    "for i in reviewSummaryTags:\n",
    "    reviewSummary_list.append(i.text)\n",
    "\n",
    "FullReviewTags=driver.find_elements(By.XPATH,'//div[@class=\"t-ZTKy\"]')\n",
    "for i in FullReviewTags:\n",
    "    FullReview_list.append(i.text)"
   ]
  },
  {
   "cell_type": "code",
   "execution_count": 241,
   "id": "edc153ba",
   "metadata": {},
   "outputs": [
    {
     "name": "stdout",
     "output_type": "stream",
     "text": [
      "30\n",
      "30\n",
      "30\n"
     ]
    }
   ],
   "source": [
    "print(len(rating_list))\n",
    "print(len(reviewSummary_list))\n",
    "print(len(FullReview_list))"
   ]
  },
  {
   "cell_type": "code",
   "execution_count": 242,
   "id": "0793353f",
   "metadata": {},
   "outputs": [],
   "source": [
    "forthpgbtn=driver.find_element(By.XPATH,'/html/body/div/div/div[3]/div/div/div[2]/div[13]/div/div/nav/a[5]')\n",
    "forthpgbtn.click()\n",
    "time.sleep(5)"
   ]
  },
  {
   "cell_type": "code",
   "execution_count": 243,
   "id": "848bb825",
   "metadata": {},
   "outputs": [],
   "source": [
    "ratingTags=driver.find_elements(By.XPATH,'//div[@class=\"_3LWZlK _1BLPMq\" or @class=\"_3LWZlK _1rdVr6 _1BLPMq\"]')\n",
    "for i in ratingTags:\n",
    "    rating_list.append(i.text)\n",
    "\n",
    "reviewSummaryTags=driver.find_elements(By.XPATH,'//p[@class=\"_2-N8zT\"]')\n",
    "for i in reviewSummaryTags:\n",
    "    reviewSummary_list.append(i.text)\n",
    "\n",
    "FullReviewTags=driver.find_elements(By.XPATH,'//div[@class=\"t-ZTKy\"]')\n",
    "for i in FullReviewTags:\n",
    "    FullReview_list.append(i.text)"
   ]
  },
  {
   "cell_type": "code",
   "execution_count": 244,
   "id": "16c1e231",
   "metadata": {},
   "outputs": [
    {
     "name": "stdout",
     "output_type": "stream",
     "text": [
      "40\n",
      "40\n",
      "40\n"
     ]
    }
   ],
   "source": [
    "print(len(rating_list))\n",
    "print(len(reviewSummary_list))\n",
    "print(len(FullReview_list))"
   ]
  },
  {
   "cell_type": "code",
   "execution_count": 245,
   "id": "e23fd11d",
   "metadata": {},
   "outputs": [],
   "source": [
    "fifthpgbtn=driver.find_element(By.XPATH,'/html/body/div/div/div[3]/div/div/div[2]/div[13]/div/div/nav/a[6]')\n",
    "fifthpgbtn.click()\n",
    "time.sleep(5)"
   ]
  },
  {
   "cell_type": "code",
   "execution_count": 246,
   "id": "97dddcdd",
   "metadata": {},
   "outputs": [],
   "source": [
    "ratingTags=driver.find_elements(By.XPATH,'//div[@class=\"_3LWZlK _1BLPMq\" or @class=\"_3LWZlK _1rdVr6 _1BLPMq\"]')\n",
    "for i in ratingTags:\n",
    "    rating_list.append(i.text)\n",
    "\n",
    "reviewSummaryTags=driver.find_elements(By.XPATH,'//p[@class=\"_2-N8zT\"]')\n",
    "for i in reviewSummaryTags:\n",
    "    reviewSummary_list.append(i.text)\n",
    "\n",
    "FullReviewTags=driver.find_elements(By.XPATH,'//div[@class=\"t-ZTKy\"]')\n",
    "for i in FullReviewTags:\n",
    "    FullReview_list.append(i.text)"
   ]
  },
  {
   "cell_type": "code",
   "execution_count": 247,
   "id": "e137eea3",
   "metadata": {},
   "outputs": [
    {
     "name": "stdout",
     "output_type": "stream",
     "text": [
      "50\n",
      "50\n",
      "50\n"
     ]
    }
   ],
   "source": [
    "print(len(rating_list))\n",
    "print(len(reviewSummary_list))\n",
    "print(len(FullReview_list))"
   ]
  },
  {
   "cell_type": "code",
   "execution_count": 248,
   "id": "f4a55059",
   "metadata": {},
   "outputs": [],
   "source": [
    "sixthpgbtn=driver.find_element(By.XPATH,'/html/body/div/div/div[3]/div/div/div[2]/div[13]/div/div/nav/a[7]')\n",
    "sixthpgbtn.click()\n",
    "time.sleep(5)"
   ]
  },
  {
   "cell_type": "code",
   "execution_count": 249,
   "id": "dfcca18b",
   "metadata": {},
   "outputs": [],
   "source": [
    "ratingTags=driver.find_elements(By.XPATH,'//div[@class=\"_3LWZlK _1BLPMq\" or @class=\"_3LWZlK _1rdVr6 _1BLPMq\"]')\n",
    "for i in ratingTags:\n",
    "    rating_list.append(i.text)\n",
    "\n",
    "reviewSummaryTags=driver.find_elements(By.XPATH,'//p[@class=\"_2-N8zT\"]')\n",
    "for i in reviewSummaryTags:\n",
    "    reviewSummary_list.append(i.text)\n",
    "\n",
    "FullReviewTags=driver.find_elements(By.XPATH,'//div[@class=\"t-ZTKy\"]')\n",
    "for i in FullReviewTags:\n",
    "    FullReview_list.append(i.text)"
   ]
  },
  {
   "cell_type": "code",
   "execution_count": 250,
   "id": "7768b581",
   "metadata": {},
   "outputs": [
    {
     "name": "stdout",
     "output_type": "stream",
     "text": [
      "60\n",
      "60\n",
      "60\n"
     ]
    }
   ],
   "source": [
    "print(len(rating_list))\n",
    "print(len(reviewSummary_list))\n",
    "print(len(FullReview_list))"
   ]
  },
  {
   "cell_type": "code",
   "execution_count": 251,
   "id": "2561b86f",
   "metadata": {},
   "outputs": [],
   "source": [
    "seventhpgbtn=driver.find_element(By.XPATH,'/html/body/div/div/div[3]/div/div/div[2]/div[13]/div/div/nav/a[7]')\n",
    "seventhpgbtn.click()\n",
    "time.sleep(5)"
   ]
  },
  {
   "cell_type": "code",
   "execution_count": 252,
   "id": "fb65ea41",
   "metadata": {},
   "outputs": [],
   "source": [
    "ratingTags=driver.find_elements(By.XPATH,'//div[@class=\"_3LWZlK _1BLPMq\" or @class=\"_3LWZlK _1rdVr6 _1BLPMq\"]')\n",
    "for i in ratingTags:\n",
    "    rating_list.append(i.text)\n",
    "\n",
    "reviewSummaryTags=driver.find_elements(By.XPATH,'//p[@class=\"_2-N8zT\"]')\n",
    "for i in reviewSummaryTags:\n",
    "    reviewSummary_list.append(i.text)\n",
    "\n",
    "FullReviewTags=driver.find_elements(By.XPATH,'//div[@class=\"t-ZTKy\"]')\n",
    "for i in FullReviewTags:\n",
    "    FullReview_list.append(i.text)"
   ]
  },
  {
   "cell_type": "code",
   "execution_count": 253,
   "id": "1f686c78",
   "metadata": {},
   "outputs": [
    {
     "name": "stdout",
     "output_type": "stream",
     "text": [
      "70\n",
      "70\n",
      "70\n"
     ]
    }
   ],
   "source": [
    "print(len(rating_list))\n",
    "print(len(reviewSummary_list))\n",
    "print(len(FullReview_list))"
   ]
  },
  {
   "cell_type": "code",
   "execution_count": 254,
   "id": "4c261334",
   "metadata": {},
   "outputs": [],
   "source": [
    "eighthpgbtn=driver.find_element(By.XPATH,'/html/body/div/div/div[3]/div/div/div[2]/div[13]/div/div/nav/a[7]')\n",
    "eighthpgbtn.click()\n",
    "time.sleep(5)"
   ]
  },
  {
   "cell_type": "code",
   "execution_count": 255,
   "id": "743fcb2b",
   "metadata": {},
   "outputs": [],
   "source": [
    "ratingTags=driver.find_elements(By.XPATH,'//div[@class=\"_3LWZlK _1BLPMq\" or @class=\"_3LWZlK _1rdVr6 _1BLPMq\"]')\n",
    "for i in ratingTags:\n",
    "    rating_list.append(i.text)\n",
    "\n",
    "reviewSummaryTags=driver.find_elements(By.XPATH,'//p[@class=\"_2-N8zT\"]')\n",
    "for i in reviewSummaryTags:\n",
    "    reviewSummary_list.append(i.text)\n",
    "\n",
    "FullReviewTags=driver.find_elements(By.XPATH,'//div[@class=\"t-ZTKy\"]')\n",
    "for i in FullReviewTags:\n",
    "    FullReview_list.append(i.text)"
   ]
  },
  {
   "cell_type": "code",
   "execution_count": 256,
   "id": "687b4884",
   "metadata": {},
   "outputs": [
    {
     "name": "stdout",
     "output_type": "stream",
     "text": [
      "80\n",
      "80\n",
      "80\n"
     ]
    }
   ],
   "source": [
    "print(len(rating_list))\n",
    "print(len(reviewSummary_list))\n",
    "print(len(FullReview_list))"
   ]
  },
  {
   "cell_type": "code",
   "execution_count": 257,
   "id": "e8b0b40d",
   "metadata": {},
   "outputs": [],
   "source": [
    "ninthpgbtn=driver.find_element(By.XPATH,'/html/body/div/div/div[3]/div/div/div[2]/div[13]/div/div/nav/a[7]')\n",
    "ninthpgbtn.click()\n",
    "time.sleep(5)"
   ]
  },
  {
   "cell_type": "code",
   "execution_count": 258,
   "id": "4c31c8e5",
   "metadata": {},
   "outputs": [],
   "source": [
    "ratingTags=driver.find_elements(By.XPATH,'//div[@class=\"_3LWZlK _1BLPMq\" or @class=\"_3LWZlK _1rdVr6 _1BLPMq\"]')\n",
    "for i in ratingTags:\n",
    "    rating_list.append(i.text)\n",
    "\n",
    "reviewSummaryTags=driver.find_elements(By.XPATH,'//p[@class=\"_2-N8zT\"]')\n",
    "for i in reviewSummaryTags:\n",
    "    reviewSummary_list.append(i.text)\n",
    "\n",
    "FullReviewTags=driver.find_elements(By.XPATH,'//div[@class=\"t-ZTKy\"]')\n",
    "for i in FullReviewTags:\n",
    "    FullReview_list.append(i.text)"
   ]
  },
  {
   "cell_type": "code",
   "execution_count": 259,
   "id": "738a2715",
   "metadata": {},
   "outputs": [
    {
     "name": "stdout",
     "output_type": "stream",
     "text": [
      "90\n",
      "90\n",
      "90\n"
     ]
    }
   ],
   "source": [
    "print(len(rating_list))\n",
    "print(len(reviewSummary_list))\n",
    "print(len(FullReview_list))"
   ]
  },
  {
   "cell_type": "code",
   "execution_count": 260,
   "id": "6ecdf0de",
   "metadata": {},
   "outputs": [],
   "source": [
    "tenthpgbtn=driver.find_element(By.XPATH,'/html/body/div/div/div[3]/div/div/div[2]/div[13]/div/div/nav/a[7]')\n",
    "tenthpgbtn.click()\n",
    "time.sleep(5)"
   ]
  },
  {
   "cell_type": "code",
   "execution_count": 261,
   "id": "d011962d",
   "metadata": {},
   "outputs": [],
   "source": [
    "ratingTags=driver.find_elements(By.XPATH,'//div[@class=\"_3LWZlK _1BLPMq\" or @class=\"_3LWZlK _1rdVr6 _1BLPMq\"]')\n",
    "for i in ratingTags:\n",
    "    rating_list.append(i.text)\n",
    "\n",
    "reviewSummaryTags=driver.find_elements(By.XPATH,'//p[@class=\"_2-N8zT\"]')\n",
    "for i in reviewSummaryTags:\n",
    "    reviewSummary_list.append(i.text)\n",
    "\n",
    "FullReviewTags=driver.find_elements(By.XPATH,'//div[@class=\"t-ZTKy\"]')\n",
    "for i in FullReviewTags:\n",
    "    FullReview_list.append(i.text)"
   ]
  },
  {
   "cell_type": "code",
   "execution_count": 262,
   "id": "89929fc3",
   "metadata": {},
   "outputs": [
    {
     "name": "stdout",
     "output_type": "stream",
     "text": [
      "100\n",
      "100\n",
      "100\n"
     ]
    }
   ],
   "source": [
    "print(len(rating_list))\n",
    "print(len(reviewSummary_list))\n",
    "print(len(FullReview_list))"
   ]
  },
  {
   "cell_type": "code",
   "execution_count": 263,
   "id": "09d12d20",
   "metadata": {
    "scrolled": true
   },
   "outputs": [
    {
     "data": {
      "text/html": [
       "<div>\n",
       "<style scoped>\n",
       "    .dataframe tbody tr th:only-of-type {\n",
       "        vertical-align: middle;\n",
       "    }\n",
       "\n",
       "    .dataframe tbody tr th {\n",
       "        vertical-align: top;\n",
       "    }\n",
       "\n",
       "    .dataframe thead th {\n",
       "        text-align: right;\n",
       "    }\n",
       "</style>\n",
       "<table border=\"1\" class=\"dataframe\">\n",
       "  <thead>\n",
       "    <tr style=\"text-align: right;\">\n",
       "      <th></th>\n",
       "      <th>Rating</th>\n",
       "      <th>Review Summary</th>\n",
       "      <th>Full Review</th>\n",
       "    </tr>\n",
       "  </thead>\n",
       "  <tbody>\n",
       "    <tr>\n",
       "      <th>0</th>\n",
       "      <td>5</td>\n",
       "      <td>Simply awesome</td>\n",
       "      <td>Really satisfied with the Product I received.....</td>\n",
       "    </tr>\n",
       "    <tr>\n",
       "      <th>1</th>\n",
       "      <td>5</td>\n",
       "      <td>Perfect product!</td>\n",
       "      <td>Amazing phone with great cameras and better ba...</td>\n",
       "    </tr>\n",
       "    <tr>\n",
       "      <th>2</th>\n",
       "      <td>5</td>\n",
       "      <td>Best in the market!</td>\n",
       "      <td>Great iPhone very snappy experience as apple k...</td>\n",
       "    </tr>\n",
       "    <tr>\n",
       "      <th>3</th>\n",
       "      <td>4</td>\n",
       "      <td>Value-for-money</td>\n",
       "      <td>I'm Really happy with the product\\nDelivery wa...</td>\n",
       "    </tr>\n",
       "    <tr>\n",
       "      <th>4</th>\n",
       "      <td>5</td>\n",
       "      <td>Highly recommended</td>\n",
       "      <td>It's my first time to use iOS phone and I am l...</td>\n",
       "    </tr>\n",
       "    <tr>\n",
       "      <th>...</th>\n",
       "      <td>...</td>\n",
       "      <td>...</td>\n",
       "      <td>...</td>\n",
       "    </tr>\n",
       "    <tr>\n",
       "      <th>95</th>\n",
       "      <td>5</td>\n",
       "      <td>Wonderful</td>\n",
       "      <td>Its good.. a little heavy on my pinky but its ...</td>\n",
       "    </tr>\n",
       "    <tr>\n",
       "      <th>96</th>\n",
       "      <td>5</td>\n",
       "      <td>Terrific</td>\n",
       "      <td>Simply Awesome\\n\\nI have upgraded from iPhone ...</td>\n",
       "    </tr>\n",
       "    <tr>\n",
       "      <th>97</th>\n",
       "      <td>5</td>\n",
       "      <td>Best in the market!</td>\n",
       "      <td>Damn this phone is a blast . Upgraded from and...</td>\n",
       "    </tr>\n",
       "    <tr>\n",
       "      <th>98</th>\n",
       "      <td>5</td>\n",
       "      <td>Perfect product!</td>\n",
       "      <td>Worth the money’ starting first from its perfo...</td>\n",
       "    </tr>\n",
       "    <tr>\n",
       "      <th>99</th>\n",
       "      <td>1</td>\n",
       "      <td>Absolute rubbish!</td>\n",
       "      <td>Worst product delivered by Flipkart\\nAfter 10d...</td>\n",
       "    </tr>\n",
       "  </tbody>\n",
       "</table>\n",
       "<p>100 rows × 3 columns</p>\n",
       "</div>"
      ],
      "text/plain": [
       "   Rating       Review Summary  \\\n",
       "0       5       Simply awesome   \n",
       "1       5     Perfect product!   \n",
       "2       5  Best in the market!   \n",
       "3       4      Value-for-money   \n",
       "4       5   Highly recommended   \n",
       "..    ...                  ...   \n",
       "95      5            Wonderful   \n",
       "96      5             Terrific   \n",
       "97      5  Best in the market!   \n",
       "98      5     Perfect product!   \n",
       "99      1    Absolute rubbish!   \n",
       "\n",
       "                                          Full Review  \n",
       "0   Really satisfied with the Product I received.....  \n",
       "1   Amazing phone with great cameras and better ba...  \n",
       "2   Great iPhone very snappy experience as apple k...  \n",
       "3   I'm Really happy with the product\\nDelivery wa...  \n",
       "4   It's my first time to use iOS phone and I am l...  \n",
       "..                                                ...  \n",
       "95  Its good.. a little heavy on my pinky but its ...  \n",
       "96  Simply Awesome\\n\\nI have upgraded from iPhone ...  \n",
       "97  Damn this phone is a blast . Upgraded from and...  \n",
       "98  Worth the money’ starting first from its perfo...  \n",
       "99  Worst product delivered by Flipkart\\nAfter 10d...  \n",
       "\n",
       "[100 rows x 3 columns]"
      ]
     },
     "execution_count": 263,
     "metadata": {},
     "output_type": "execute_result"
    }
   ],
   "source": [
    "dict_apple_iphone11={\"Rating\":rating_list,\"Review Summary\":reviewSummary_list,\"Full Review\":FullReview_list}\n",
    "df_apple_iphone11=pd.DataFrame(dict_apple_iphone11)\n",
    "df_apple_iphone11"
   ]
  },
  {
   "cell_type": "code",
   "execution_count": 264,
   "id": "bc8dfac4",
   "metadata": {},
   "outputs": [],
   "source": [
    "driver.close()"
   ]
  },
  {
   "cell_type": "markdown",
   "id": "20a2e138",
   "metadata": {},
   "source": [
    "### Answer 6"
   ]
  },
  {
   "cell_type": "code",
   "execution_count": 266,
   "id": "50391e30",
   "metadata": {},
   "outputs": [],
   "source": [
    "#run the chrome driver \n",
    "driver=webdriver.Chrome(\"chromedriver.exe\")"
   ]
  },
  {
   "cell_type": "code",
   "execution_count": 267,
   "id": "48f7225a",
   "metadata": {},
   "outputs": [],
   "source": [
    "driver.get(\"https://www.flipkart.com/\")"
   ]
  },
  {
   "cell_type": "code",
   "execution_count": 268,
   "id": "d6221151",
   "metadata": {},
   "outputs": [],
   "source": [
    "# close the login page popup\n",
    "closeBtn=driver.find_element(By.XPATH,\"/html/body/div[2]/div/div/button\")\n",
    "closeBtn.click()"
   ]
  },
  {
   "cell_type": "code",
   "execution_count": 269,
   "id": "bef9142d",
   "metadata": {},
   "outputs": [],
   "source": [
    "# Find the product input element by class name\n",
    "product=driver.find_element(By.CLASS_NAME,\"_3704LK\")"
   ]
  },
  {
   "cell_type": "code",
   "execution_count": 270,
   "id": "5fcba09e",
   "metadata": {},
   "outputs": [],
   "source": [
    "# Enter \"sneakers\" in the product input field\n",
    "product.send_keys(\"sneakers\")"
   ]
  },
  {
   "cell_type": "code",
   "execution_count": 271,
   "id": "7aef5072",
   "metadata": {},
   "outputs": [],
   "source": [
    "searchBtn=driver.find_element(By.CLASS_NAME,\"_34RNph\")\n",
    "searchBtn.click()"
   ]
  },
  {
   "cell_type": "code",
   "execution_count": 272,
   "id": "c8051c0b",
   "metadata": {},
   "outputs": [],
   "source": [
    "sneakersBrand=[]\n",
    "productDescription=[]\n",
    "price=[]"
   ]
  },
  {
   "cell_type": "code",
   "execution_count": 273,
   "id": "64e5e271",
   "metadata": {},
   "outputs": [],
   "source": [
    "productBrand_tags=driver.find_elements(By.XPATH,'//div[@class=\"_2WkVRV\"]')\n",
    "for i in productBrand_tags:\n",
    "    sneakersBrand.append(i.text)\n",
    "\n",
    "productdescription_tags=driver.find_elements(By.XPATH,'//a[@class=\"IRpwTa\" or @class=\"IRpwTa _2-ICcC\"]')\n",
    "for i in productdescription_tags:\n",
    "    productDescription.append(i.text)\n",
    "\n",
    "productPrice_tags=driver.find_elements(By.XPATH,'//div[@class=\"_30jeq3\"]')\n",
    "for i in productPrice_tags:\n",
    "    price.append(i.text)"
   ]
  },
  {
   "cell_type": "code",
   "execution_count": 274,
   "id": "d6e40476",
   "metadata": {},
   "outputs": [
    {
     "name": "stdout",
     "output_type": "stream",
     "text": [
      "40\n",
      "40\n",
      "40\n"
     ]
    }
   ],
   "source": [
    "print(len(sneakersBrand))\n",
    "print(len(productDescription))\n",
    "print(len(price))"
   ]
  },
  {
   "cell_type": "code",
   "execution_count": 275,
   "id": "92f221cb",
   "metadata": {},
   "outputs": [],
   "source": [
    "secondpgbtn=driver.find_element(By.XPATH,'/html/body/div[1]/div/div[3]/div[1]/div[2]/div[12]/div/div/nav/a[2]')\n",
    "secondpgbtn.click()\n",
    "time.sleep(5)"
   ]
  },
  {
   "cell_type": "code",
   "execution_count": 276,
   "id": "8b7271dd",
   "metadata": {},
   "outputs": [],
   "source": [
    "productBrand_tags=driver.find_elements(By.XPATH,'//div[@class=\"_2WkVRV\"]')\n",
    "for i in productBrand_tags:\n",
    "    sneakersBrand.append(i.text)\n",
    "\n",
    "productdescription_tags=driver.find_elements(By.XPATH,'//a[@class=\"IRpwTa\" or @class=\"IRpwTa _2-ICcC\"]')\n",
    "for i in productdescription_tags:\n",
    "    productDescription.append(i.text)\n",
    "\n",
    "productPrice_tags=driver.find_elements(By.XPATH,'//div[@class=\"_30jeq3\"]')\n",
    "for i in productPrice_tags:\n",
    "    price.append(i.text)"
   ]
  },
  {
   "cell_type": "code",
   "execution_count": 277,
   "id": "48f3838b",
   "metadata": {},
   "outputs": [
    {
     "name": "stdout",
     "output_type": "stream",
     "text": [
      "80\n",
      "80\n",
      "80\n"
     ]
    }
   ],
   "source": [
    "print(len(sneakersBrand))\n",
    "print(len(productDescription))\n",
    "print(len(price))"
   ]
  },
  {
   "cell_type": "code",
   "execution_count": 278,
   "id": "39fa87df",
   "metadata": {},
   "outputs": [],
   "source": [
    "thirdpgbtn=driver.find_element(By.XPATH,'/html/body/div[1]/div/div[3]/div[1]/div[2]/div[12]/div/div/nav/a[4]')\n",
    "thirdpgbtn.click()\n",
    "time.sleep(5)"
   ]
  },
  {
   "cell_type": "code",
   "execution_count": 279,
   "id": "ce6faf65",
   "metadata": {},
   "outputs": [],
   "source": [
    "productBrand_tags=driver.find_elements(By.XPATH,'//div[@class=\"_2WkVRV\"]')\n",
    "for i in productBrand_tags[0:20]:\n",
    "    sneakersBrand.append(i.text)\n",
    "\n",
    "productdescription_tags=driver.find_elements(By.XPATH,'//a[@class=\"IRpwTa\" or @class=\"IRpwTa _2-ICcC\"]')\n",
    "for i in productdescription_tags[0:20]:\n",
    "    productDescription.append(i.text)\n",
    "\n",
    "productPrice_tags=driver.find_elements(By.XPATH,'//div[@class=\"_30jeq3\"]')\n",
    "for i in productPrice_tags[0:20]:\n",
    "    price.append(i.text)"
   ]
  },
  {
   "cell_type": "code",
   "execution_count": 280,
   "id": "4d39ae49",
   "metadata": {},
   "outputs": [
    {
     "name": "stdout",
     "output_type": "stream",
     "text": [
      "100\n",
      "100\n",
      "100\n"
     ]
    }
   ],
   "source": [
    "print(len(sneakersBrand))\n",
    "print(len(productDescription))\n",
    "print(len(price))"
   ]
  },
  {
   "cell_type": "code",
   "execution_count": 281,
   "id": "19a4bb47",
   "metadata": {
    "scrolled": true
   },
   "outputs": [
    {
     "data": {
      "text/html": [
       "<div>\n",
       "<style scoped>\n",
       "    .dataframe tbody tr th:only-of-type {\n",
       "        vertical-align: middle;\n",
       "    }\n",
       "\n",
       "    .dataframe tbody tr th {\n",
       "        vertical-align: top;\n",
       "    }\n",
       "\n",
       "    .dataframe thead th {\n",
       "        text-align: right;\n",
       "    }\n",
       "</style>\n",
       "<table border=\"1\" class=\"dataframe\">\n",
       "  <thead>\n",
       "    <tr style=\"text-align: right;\">\n",
       "      <th></th>\n",
       "      <th>Brand of sneakers</th>\n",
       "      <th>Description of sneakers</th>\n",
       "      <th>Price for sneakers</th>\n",
       "    </tr>\n",
       "  </thead>\n",
       "  <tbody>\n",
       "    <tr>\n",
       "      <th>0</th>\n",
       "      <td>RapidBox</td>\n",
       "      <td>Sneakers For Men</td>\n",
       "      <td>₹571</td>\n",
       "    </tr>\n",
       "    <tr>\n",
       "      <th>1</th>\n",
       "      <td>New Balance</td>\n",
       "      <td>500 Sneakers For Men</td>\n",
       "      <td>₹3,583</td>\n",
       "    </tr>\n",
       "    <tr>\n",
       "      <th>2</th>\n",
       "      <td>SFR</td>\n",
       "      <td>Sneakers For Men</td>\n",
       "      <td>₹299</td>\n",
       "    </tr>\n",
       "    <tr>\n",
       "      <th>3</th>\n",
       "      <td>AMICO</td>\n",
       "      <td>Sneakers For Men</td>\n",
       "      <td>₹387</td>\n",
       "    </tr>\n",
       "    <tr>\n",
       "      <th>4</th>\n",
       "      <td>aadi</td>\n",
       "      <td>Synthetic| Lightweight| Premiun| Comfort| Summ...</td>\n",
       "      <td>₹399</td>\n",
       "    </tr>\n",
       "    <tr>\n",
       "      <th>...</th>\n",
       "      <td>...</td>\n",
       "      <td>...</td>\n",
       "      <td>...</td>\n",
       "    </tr>\n",
       "    <tr>\n",
       "      <th>95</th>\n",
       "      <td>kardam&amp;sons</td>\n",
       "      <td>luxuryfashion fashionable casual sneaker shoes...</td>\n",
       "      <td>₹349</td>\n",
       "    </tr>\n",
       "    <tr>\n",
       "      <th>96</th>\n",
       "      <td>SOLETHREADS</td>\n",
       "      <td>Sneakers For Men</td>\n",
       "      <td>₹1,099</td>\n",
       "    </tr>\n",
       "    <tr>\n",
       "      <th>97</th>\n",
       "      <td>PUMA</td>\n",
       "      <td>Wild Rider Rollin Sneakers For Women</td>\n",
       "      <td>₹3,644</td>\n",
       "    </tr>\n",
       "    <tr>\n",
       "      <th>98</th>\n",
       "      <td>Shozie</td>\n",
       "      <td>Party Wear Stylish College Casual Sneakers Sho...</td>\n",
       "      <td>₹587</td>\n",
       "    </tr>\n",
       "    <tr>\n",
       "      <th>99</th>\n",
       "      <td>Shozie</td>\n",
       "      <td>Stylish Walking Partywear Sneakers Casual Shoe...</td>\n",
       "      <td>₹499</td>\n",
       "    </tr>\n",
       "  </tbody>\n",
       "</table>\n",
       "<p>100 rows × 3 columns</p>\n",
       "</div>"
      ],
      "text/plain": [
       "   Brand of sneakers                            Description of sneakers  \\\n",
       "0           RapidBox                                   Sneakers For Men   \n",
       "1        New Balance                               500 Sneakers For Men   \n",
       "2                SFR                                   Sneakers For Men   \n",
       "3              AMICO                                   Sneakers For Men   \n",
       "4               aadi  Synthetic| Lightweight| Premiun| Comfort| Summ...   \n",
       "..               ...                                                ...   \n",
       "95       kardam&sons  luxuryfashion fashionable casual sneaker shoes...   \n",
       "96       SOLETHREADS                                   Sneakers For Men   \n",
       "97              PUMA               Wild Rider Rollin Sneakers For Women   \n",
       "98            Shozie  Party Wear Stylish College Casual Sneakers Sho...   \n",
       "99            Shozie  Stylish Walking Partywear Sneakers Casual Shoe...   \n",
       "\n",
       "   Price for sneakers  \n",
       "0                ₹571  \n",
       "1              ₹3,583  \n",
       "2                ₹299  \n",
       "3                ₹387  \n",
       "4                ₹399  \n",
       "..                ...  \n",
       "95               ₹349  \n",
       "96             ₹1,099  \n",
       "97             ₹3,644  \n",
       "98               ₹587  \n",
       "99               ₹499  \n",
       "\n",
       "[100 rows x 3 columns]"
      ]
     },
     "execution_count": 281,
     "metadata": {},
     "output_type": "execute_result"
    }
   ],
   "source": [
    "dict_sneakers={\"Brand of sneakers\":sneakersBrand,\"Description of sneakers\":productDescription,\"Price for sneakers\":price}\n",
    "df_sneakers=pd.DataFrame(dict_sneakers)\n",
    "df_sneakers"
   ]
  },
  {
   "cell_type": "code",
   "execution_count": 282,
   "id": "5c22bbc4",
   "metadata": {},
   "outputs": [],
   "source": [
    "driver.close()"
   ]
  },
  {
   "cell_type": "markdown",
   "id": "a6477d2a",
   "metadata": {},
   "source": [
    "### ANSWER 7"
   ]
  },
  {
   "cell_type": "code",
   "execution_count": 283,
   "id": "7fc310a4",
   "metadata": {},
   "outputs": [],
   "source": [
    "driver=webdriver.Chrome(\"chromedriver.exe\")"
   ]
  },
  {
   "cell_type": "code",
   "execution_count": 284,
   "id": "9317f271",
   "metadata": {},
   "outputs": [],
   "source": [
    "driver.get('https://www.amazon.in/')"
   ]
  },
  {
   "cell_type": "code",
   "execution_count": 286,
   "id": "75f8efa5",
   "metadata": {},
   "outputs": [],
   "source": [
    "# Find the product input element by class name\n",
    "product_search=driver.find_element(By.XPATH,'/html/body/div[1]/header/div/div[1]/div[2]/div/form/div[2]/div[1]/input')"
   ]
  },
  {
   "cell_type": "code",
   "execution_count": 287,
   "id": "af4eb35c",
   "metadata": {},
   "outputs": [],
   "source": [
    "product_search.send_keys(\"Laptop\")"
   ]
  },
  {
   "cell_type": "code",
   "execution_count": 288,
   "id": "59655315",
   "metadata": {},
   "outputs": [],
   "source": [
    "searchBtn=driver.find_element(By.XPATH,\"/html/body/div[1]/header/div/div[1]/div[2]/div/form/div[3]/div/span/input\")\n",
    "searchBtn.click()\n",
    "time.sleep(5)"
   ]
  },
  {
   "cell_type": "code",
   "execution_count": 289,
   "id": "fb157f32",
   "metadata": {},
   "outputs": [],
   "source": [
    "CPU_CheckBox=driver.find_element(By.XPATH,\"/html/body/div[1]/div[2]/div[1]/div[2]/div/div[3]/span/div[1]/div/div/div[6]/ul[6]/li[12]/span/a/div/label/i\")\n",
    "CPU_CheckBox.click()\n",
    "time.sleep(5)"
   ]
  },
  {
   "cell_type": "code",
   "execution_count": 290,
   "id": "76a08efa",
   "metadata": {},
   "outputs": [],
   "source": [
    "title=[]\n",
    "rating=[] \n",
    "price=[]"
   ]
  },
  {
   "cell_type": "code",
   "execution_count": 291,
   "id": "1c776327",
   "metadata": {},
   "outputs": [],
   "source": [
    "title_tags=driver.find_elements(By.XPATH,'//span[@class=\"a-size-medium a-color-base a-text-normal\"]')\n",
    "for i in title_tags[0:10]:\n",
    "    title.append(i.text)\n",
    "    \n",
    "rating_tags=driver.find_elements(By.XPATH,'//span[@class=\"a-size-base\"]')\n",
    "for i in rating_tags[0:10]:\n",
    "    rating.append(i.text)\n",
    "    \n",
    "price_tags=driver.find_elements(By.XPATH,'//span[@class=\"a-price-whole\"]')\n",
    "for i in price_tags[0:10]:\n",
    "    price.append(i.text)"
   ]
  },
  {
   "cell_type": "code",
   "execution_count": 292,
   "id": "b9835235",
   "metadata": {
    "scrolled": true
   },
   "outputs": [
    {
     "data": {
      "text/html": [
       "<div>\n",
       "<style scoped>\n",
       "    .dataframe tbody tr th:only-of-type {\n",
       "        vertical-align: middle;\n",
       "    }\n",
       "\n",
       "    .dataframe tbody tr th {\n",
       "        vertical-align: top;\n",
       "    }\n",
       "\n",
       "    .dataframe thead th {\n",
       "        text-align: right;\n",
       "    }\n",
       "</style>\n",
       "<table border=\"1\" class=\"dataframe\">\n",
       "  <thead>\n",
       "    <tr style=\"text-align: right;\">\n",
       "      <th></th>\n",
       "      <th>laptop title</th>\n",
       "      <th>laptop rating</th>\n",
       "      <th>laptop price</th>\n",
       "    </tr>\n",
       "  </thead>\n",
       "  <tbody>\n",
       "    <tr>\n",
       "      <th>0</th>\n",
       "      <td>Samsung Galaxy Book2 (NP750) Intel 12th Gen co...</td>\n",
       "      <td>4.1</td>\n",
       "      <td>79,990</td>\n",
       "    </tr>\n",
       "    <tr>\n",
       "      <th>1</th>\n",
       "      <td>HP Victus Gaming Latest 12th Gen Intel Core i7...</td>\n",
       "      <td>4.3</td>\n",
       "      <td>77,990</td>\n",
       "    </tr>\n",
       "    <tr>\n",
       "      <th>2</th>\n",
       "      <td>HP OMEN-12th Gen Intel Core i7 16.1-inch(40.9 ...</td>\n",
       "      <td>4.1</td>\n",
       "      <td>1,66,399</td>\n",
       "    </tr>\n",
       "    <tr>\n",
       "      <th>3</th>\n",
       "      <td>Lenovo Yoga Slim 7Pro Intel Evo i7 1260P 14\"(3...</td>\n",
       "      <td>4.2</td>\n",
       "      <td>1,03,057</td>\n",
       "    </tr>\n",
       "    <tr>\n",
       "      <th>4</th>\n",
       "      <td>ASUS TUF Gaming F15 (2022), 15.6\"(39.62 cms) F...</td>\n",
       "      <td>4.4</td>\n",
       "      <td>86,391</td>\n",
       "    </tr>\n",
       "    <tr>\n",
       "      <th>5</th>\n",
       "      <td>ASUS Vivobook S15 OLED 2022, 15.6\" 39.62 cms F...</td>\n",
       "      <td>4.0</td>\n",
       "      <td>1,00,990</td>\n",
       "    </tr>\n",
       "    <tr>\n",
       "      <th>6</th>\n",
       "      <td>HP Pavilion 14 12th Gen Intel Core i7 16GB SDR...</td>\n",
       "      <td>4.3</td>\n",
       "      <td>84,990</td>\n",
       "    </tr>\n",
       "    <tr>\n",
       "      <th>7</th>\n",
       "      <td>ASUS TUF Gaming F15 (2022), 15.6\" (39.62 cms) ...</td>\n",
       "      <td>4.1</td>\n",
       "      <td>83,990</td>\n",
       "    </tr>\n",
       "    <tr>\n",
       "      <th>8</th>\n",
       "      <td>Fujitsu UH-X 12th Gen Intel Evo Core i7 13.3 i...</td>\n",
       "      <td>4.2</td>\n",
       "      <td>94,990</td>\n",
       "    </tr>\n",
       "    <tr>\n",
       "      <th>9</th>\n",
       "      <td>(Renewed) HP 840g3 Elitebook 14 Inch Screen La...</td>\n",
       "      <td>3.0</td>\n",
       "      <td>99,990</td>\n",
       "    </tr>\n",
       "  </tbody>\n",
       "</table>\n",
       "</div>"
      ],
      "text/plain": [
       "                                        laptop title laptop rating  \\\n",
       "0  Samsung Galaxy Book2 (NP750) Intel 12th Gen co...           4.1   \n",
       "1  HP Victus Gaming Latest 12th Gen Intel Core i7...           4.3   \n",
       "2  HP OMEN-12th Gen Intel Core i7 16.1-inch(40.9 ...           4.1   \n",
       "3  Lenovo Yoga Slim 7Pro Intel Evo i7 1260P 14\"(3...           4.2   \n",
       "4  ASUS TUF Gaming F15 (2022), 15.6\"(39.62 cms) F...           4.4   \n",
       "5  ASUS Vivobook S15 OLED 2022, 15.6\" 39.62 cms F...           4.0   \n",
       "6  HP Pavilion 14 12th Gen Intel Core i7 16GB SDR...           4.3   \n",
       "7  ASUS TUF Gaming F15 (2022), 15.6\" (39.62 cms) ...           4.1   \n",
       "8  Fujitsu UH-X 12th Gen Intel Evo Core i7 13.3 i...           4.2   \n",
       "9  (Renewed) HP 840g3 Elitebook 14 Inch Screen La...           3.0   \n",
       "\n",
       "  laptop price  \n",
       "0       79,990  \n",
       "1       77,990  \n",
       "2     1,66,399  \n",
       "3     1,03,057  \n",
       "4       86,391  \n",
       "5     1,00,990  \n",
       "6       84,990  \n",
       "7       83,990  \n",
       "8       94,990  \n",
       "9       99,990  "
      ]
     },
     "execution_count": 292,
     "metadata": {},
     "output_type": "execute_result"
    }
   ],
   "source": [
    "dict_laptop={\"laptop title\":title,\"laptop rating\":rating,\"laptop price\":price}\n",
    "df_laptop=pd.DataFrame(dict_laptop)\n",
    "df_laptop"
   ]
  },
  {
   "cell_type": "code",
   "execution_count": 293,
   "id": "c0a9da19",
   "metadata": {},
   "outputs": [],
   "source": [
    "driver.close()"
   ]
  },
  {
   "cell_type": "markdown",
   "id": "aca508bf",
   "metadata": {},
   "source": [
    "### ANSWER 8"
   ]
  },
  {
   "cell_type": "code",
   "execution_count": 294,
   "id": "19fb494a",
   "metadata": {},
   "outputs": [],
   "source": [
    "driver=webdriver.Chrome(\"chromedriver.exe\")"
   ]
  },
  {
   "cell_type": "code",
   "execution_count": 295,
   "id": "133adc44",
   "metadata": {},
   "outputs": [],
   "source": [
    "driver.get('https://www.azquotes.com/')"
   ]
  },
  {
   "cell_type": "code",
   "execution_count": 296,
   "id": "406e9a0a",
   "metadata": {},
   "outputs": [],
   "source": [
    "top_Quotes=driver.find_element(By.XPATH,\"/html/body/div[1]/div[1]/div[1]/div/div[3]/ul/li[5]/a\")\n",
    "top_Quotes.click()"
   ]
  },
  {
   "cell_type": "code",
   "execution_count": 299,
   "id": "b92ffc66",
   "metadata": {},
   "outputs": [],
   "source": [
    "quote_list=[] \n",
    "author_list=[]\n",
    "typeOfQuotes_list=[]"
   ]
  },
  {
   "cell_type": "code",
   "execution_count": 300,
   "id": "dc92052d",
   "metadata": {},
   "outputs": [],
   "source": [
    "quote_tags=driver.find_elements(By.XPATH,'//a[@class=\"title\"]')\n",
    "for i in quote_tags:\n",
    "    quote_list.append(i.text)\n",
    "    \n",
    "author_tags=driver.find_elements(By.XPATH,'//div[@class=\"author\"]')\n",
    "for i in author_tags:\n",
    "    author_list.append(i.text)\n",
    "    \n",
    "typeOfQuotes_tags=driver.find_elements(By.XPATH,'//div[@class=\"tags\"]')\n",
    "for i in typeOfQuotes_tags:\n",
    "    typeOfQuotes_list.append(i.text)"
   ]
  },
  {
   "cell_type": "code",
   "execution_count": 301,
   "id": "ce44cfe2",
   "metadata": {},
   "outputs": [
    {
     "name": "stdout",
     "output_type": "stream",
     "text": [
      "100\n",
      "100\n",
      "100\n"
     ]
    }
   ],
   "source": [
    "print(len(quote_list))\n",
    "print(len(author_list))\n",
    "print(len(typeOfQuotes_list))"
   ]
  },
  {
   "cell_type": "code",
   "execution_count": 307,
   "id": "5bf26e4a",
   "metadata": {},
   "outputs": [],
   "source": [
    "# from 2nd to 10th page, click on the page hyperlink and fetch the quote's information \n",
    "start=2\n",
    "end=11\n",
    "for lt in range(start,end):\n",
    "    # find element using hyperlink text\n",
    "    clickBtn=driver.find_element(By.LINK_TEXT,str(lt))\n",
    "    clickBtn.click()\n",
    "    time.sleep(5)\n",
    "    quote_tags=driver.find_elements(By.XPATH,'//a[@class=\"title\"]')\n",
    "    for i in quote_tags:\n",
    "        quote_list.append(i.text)\n",
    "\n",
    "    author_tags=driver.find_elements(By.XPATH,'//div[@class=\"author\"]')\n",
    "    for i in author_tags:\n",
    "        author_list.append(i.text)\n",
    "\n",
    "    typeOfQuotes_tags=driver.find_elements(By.XPATH,'//div[@class=\"tags\"]')\n",
    "    for i in typeOfQuotes_tags:\n",
    "        typeOfQuotes_list.append(i.text)"
   ]
  },
  {
   "cell_type": "code",
   "execution_count": 308,
   "id": "15859a5d",
   "metadata": {},
   "outputs": [
    {
     "name": "stdout",
     "output_type": "stream",
     "text": [
      "1000\n",
      "1000\n",
      "1000\n"
     ]
    }
   ],
   "source": [
    "print(len(quote_list))\n",
    "print(len(author_list))\n",
    "print(len(typeOfQuotes_list))"
   ]
  },
  {
   "cell_type": "code",
   "execution_count": 309,
   "id": "e79de97e",
   "metadata": {
    "scrolled": true
   },
   "outputs": [
    {
     "data": {
      "text/html": [
       "<div>\n",
       "<style scoped>\n",
       "    .dataframe tbody tr th:only-of-type {\n",
       "        vertical-align: middle;\n",
       "    }\n",
       "\n",
       "    .dataframe tbody tr th {\n",
       "        vertical-align: top;\n",
       "    }\n",
       "\n",
       "    .dataframe thead th {\n",
       "        text-align: right;\n",
       "    }\n",
       "</style>\n",
       "<table border=\"1\" class=\"dataframe\">\n",
       "  <thead>\n",
       "    <tr style=\"text-align: right;\">\n",
       "      <th></th>\n",
       "      <th>Quotes</th>\n",
       "      <th>Author</th>\n",
       "      <th>Type of Quotes</th>\n",
       "    </tr>\n",
       "  </thead>\n",
       "  <tbody>\n",
       "    <tr>\n",
       "      <th>0</th>\n",
       "      <td>The essence of strategy is choosing what not t...</td>\n",
       "      <td>Michael Porter</td>\n",
       "      <td>Essence, Deep Thought, Transcendentalism</td>\n",
       "    </tr>\n",
       "    <tr>\n",
       "      <th>1</th>\n",
       "      <td>One cannot and must not try to erase the past ...</td>\n",
       "      <td>Golda Meir</td>\n",
       "      <td>Inspiration, Past, Trying</td>\n",
       "    </tr>\n",
       "    <tr>\n",
       "      <th>2</th>\n",
       "      <td>Patriotism means to stand by the country. It d...</td>\n",
       "      <td>Theodore Roosevelt</td>\n",
       "      <td>Country, Peace, War</td>\n",
       "    </tr>\n",
       "    <tr>\n",
       "      <th>3</th>\n",
       "      <td>Death is something inevitable. When a man has ...</td>\n",
       "      <td>Nelson Mandela</td>\n",
       "      <td>Inspirational, Motivational, Death</td>\n",
       "    </tr>\n",
       "    <tr>\n",
       "      <th>4</th>\n",
       "      <td>You have to love a nation that celebrates its ...</td>\n",
       "      <td>Erma Bombeck</td>\n",
       "      <td>4th Of July, Food, Patriotic</td>\n",
       "    </tr>\n",
       "    <tr>\n",
       "      <th>...</th>\n",
       "      <td>...</td>\n",
       "      <td>...</td>\n",
       "      <td>...</td>\n",
       "    </tr>\n",
       "    <tr>\n",
       "      <th>995</th>\n",
       "      <td>Regret for the things we did can be tempered b...</td>\n",
       "      <td>Sydney J. Harris</td>\n",
       "      <td>Love, Inspirational, Motivational</td>\n",
       "    </tr>\n",
       "    <tr>\n",
       "      <th>996</th>\n",
       "      <td>America... just a nation of two hundred millio...</td>\n",
       "      <td>Hunter S. Thompson</td>\n",
       "      <td>Gun, Two, Qualms About</td>\n",
       "    </tr>\n",
       "    <tr>\n",
       "      <th>997</th>\n",
       "      <td>For every disciplined effort there is a multip...</td>\n",
       "      <td>Jim Rohn</td>\n",
       "      <td>Inspirational, Greatness, Best Effort</td>\n",
       "    </tr>\n",
       "    <tr>\n",
       "      <th>998</th>\n",
       "      <td>The spiritual journey is individual, highly pe...</td>\n",
       "      <td>Ram Dass</td>\n",
       "      <td>Spiritual, Truth, Yoga</td>\n",
       "    </tr>\n",
       "    <tr>\n",
       "      <th>999</th>\n",
       "      <td>The mind is not a vessel to be filled but a fi...</td>\n",
       "      <td>Plutarch</td>\n",
       "      <td>Inspirational, Leadership, Education</td>\n",
       "    </tr>\n",
       "  </tbody>\n",
       "</table>\n",
       "<p>1000 rows × 3 columns</p>\n",
       "</div>"
      ],
      "text/plain": [
       "                                                Quotes              Author  \\\n",
       "0    The essence of strategy is choosing what not t...      Michael Porter   \n",
       "1    One cannot and must not try to erase the past ...          Golda Meir   \n",
       "2    Patriotism means to stand by the country. It d...  Theodore Roosevelt   \n",
       "3    Death is something inevitable. When a man has ...      Nelson Mandela   \n",
       "4    You have to love a nation that celebrates its ...        Erma Bombeck   \n",
       "..                                                 ...                 ...   \n",
       "995  Regret for the things we did can be tempered b...    Sydney J. Harris   \n",
       "996  America... just a nation of two hundred millio...  Hunter S. Thompson   \n",
       "997  For every disciplined effort there is a multip...            Jim Rohn   \n",
       "998  The spiritual journey is individual, highly pe...            Ram Dass   \n",
       "999  The mind is not a vessel to be filled but a fi...            Plutarch   \n",
       "\n",
       "                               Type of Quotes  \n",
       "0    Essence, Deep Thought, Transcendentalism  \n",
       "1                   Inspiration, Past, Trying  \n",
       "2                         Country, Peace, War  \n",
       "3          Inspirational, Motivational, Death  \n",
       "4                4th Of July, Food, Patriotic  \n",
       "..                                        ...  \n",
       "995         Love, Inspirational, Motivational  \n",
       "996                    Gun, Two, Qualms About  \n",
       "997     Inspirational, Greatness, Best Effort  \n",
       "998                    Spiritual, Truth, Yoga  \n",
       "999      Inspirational, Leadership, Education  \n",
       "\n",
       "[1000 rows x 3 columns]"
      ]
     },
     "execution_count": 309,
     "metadata": {},
     "output_type": "execute_result"
    }
   ],
   "source": [
    "dict_quotes={\"Quotes\":quote_list,\"Author\":author_list,\"Type of Quotes\":typeOfQuotes_list}\n",
    "df_quotes=pd.DataFrame(dict_quotes)\n",
    "df_quotes"
   ]
  },
  {
   "cell_type": "code",
   "execution_count": 310,
   "id": "92efdf27",
   "metadata": {},
   "outputs": [],
   "source": [
    "driver.close()"
   ]
  },
  {
   "cell_type": "markdown",
   "id": "379e6d23",
   "metadata": {},
   "source": [
    "### ANSWER 9"
   ]
  },
  {
   "cell_type": "code",
   "execution_count": 320,
   "id": "2b2e1e88",
   "metadata": {},
   "outputs": [],
   "source": [
    "driver=webdriver.Chrome(\"chromedriver.exe\")"
   ]
  },
  {
   "cell_type": "code",
   "execution_count": 321,
   "id": "9e6a761a",
   "metadata": {},
   "outputs": [],
   "source": [
    "driver.get(\"https://www.jagranjosh.com/\")"
   ]
  },
  {
   "cell_type": "code",
   "execution_count": 322,
   "id": "dae5441e",
   "metadata": {},
   "outputs": [],
   "source": [
    "# click on accept all cookies\n",
    "acceptBtn=driver.find_element(By.XPATH,\"/html/body/div/div[3]/div/div[1]/div/div[2]/div/div[3]/div/a[3]\")\n",
    "acceptBtn.click()"
   ]
  },
  {
   "cell_type": "code",
   "execution_count": 323,
   "id": "fa52021c",
   "metadata": {},
   "outputs": [],
   "source": [
    "gkBtn=driver.find_element(By.XPATH,\"/html/body/div/div[1]/div/div[1]/div/div[5]/div/div[1]/header/div[3]/ul/li[9]/a\")\n",
    "gkBtn.click()"
   ]
  },
  {
   "cell_type": "code",
   "execution_count": 324,
   "id": "450dc3e2",
   "metadata": {},
   "outputs": [],
   "source": [
    "pm=driver.find_element(By.XPATH,\"/html/body/div[1]/div/div/div[2]/div/div[10]/div/div/ul/li[2]/a\")\n",
    "pm.click()"
   ]
  },
  {
   "cell_type": "code",
   "execution_count": 325,
   "id": "605745ef",
   "metadata": {},
   "outputs": [],
   "source": [
    "nameList=[]\n",
    "bornDeadList=[] \n",
    "termOfOfficeList=[]\n",
    "remarksList=[]"
   ]
  },
  {
   "cell_type": "code",
   "execution_count": 336,
   "id": "cf3aa5be",
   "metadata": {},
   "outputs": [],
   "source": [
    "start=2\n",
    "end=20\n",
    "for tr in range(start,end):\n",
    "    #a='/html/body/div[1]/div[2]/div/div[2]/div/div[1]/div/div/div/div[5]/span/div[3]/table/tbody/tr['+str(tr)+']/td[2]'\n",
    "    #print(a)\n",
    "    #driver.find_element(By.XPATH,a)\n",
    "    name=driver.find_element(By.XPATH,'/html/body/div[1]/div[2]/div/div[2]/div/div[1]/div/div/div/div[5]/span/div[3]/table/tbody/tr['+str(tr)+']/td[2]')\n",
    "    bornDead=driver.find_element(By.XPATH,'/html/body/div[1]/div[2]/div/div[2]/div/div[1]/div/div/div/div[5]/span/div[3]/table/tbody/tr['+str(tr)+']/td[3]')\n",
    "    termOfOffice=driver.find_element(By.XPATH,'/html/body/div[1]/div[2]/div/div[2]/div/div[1]/div/div/div/div[5]/span/div[3]/table/tbody/tr['+str(tr)+']/td[4]')\n",
    "    remarks=driver.find_element(By.XPATH,'/html/body/div[1]/div[2]/div/div[2]/div/div[1]/div/div/div/div[5]/span/div[3]/table/tbody/tr['+str(tr)+']/td[5]')\n",
    "    nameList.append(name.text)\n",
    "    bornDeadList.append(bornDead.text)\n",
    "    termOfOfficeList.append(termOfOffice.text)\n",
    "    remarksList.append(remarks.text)"
   ]
  },
  {
   "cell_type": "code",
   "execution_count": 337,
   "id": "9088bdee",
   "metadata": {},
   "outputs": [
    {
     "data": {
      "text/html": [
       "<div>\n",
       "<style scoped>\n",
       "    .dataframe tbody tr th:only-of-type {\n",
       "        vertical-align: middle;\n",
       "    }\n",
       "\n",
       "    .dataframe tbody tr th {\n",
       "        vertical-align: top;\n",
       "    }\n",
       "\n",
       "    .dataframe thead th {\n",
       "        text-align: right;\n",
       "    }\n",
       "</style>\n",
       "<table border=\"1\" class=\"dataframe\">\n",
       "  <thead>\n",
       "    <tr style=\"text-align: right;\">\n",
       "      <th></th>\n",
       "      <th>Prime Minister</th>\n",
       "      <th>Born-Dead</th>\n",
       "      <th>Term Of List</th>\n",
       "      <th>Remarks</th>\n",
       "    </tr>\n",
       "  </thead>\n",
       "  <tbody>\n",
       "    <tr>\n",
       "      <th>0</th>\n",
       "      <td>Jawahar Lal Nehru</td>\n",
       "      <td>(1889–1964)</td>\n",
       "      <td>15 August 1947 to 27 May 1964\\n16 years, 286 days</td>\n",
       "      <td>The first prime minister of India and the long...</td>\n",
       "    </tr>\n",
       "    <tr>\n",
       "      <th>1</th>\n",
       "      <td>Gulzarilal Nanda (Acting)</td>\n",
       "      <td>(1898-1998)</td>\n",
       "      <td>27 May 1964 to 9 June 1964,\\n13 days</td>\n",
       "      <td>First acting PM of India</td>\n",
       "    </tr>\n",
       "    <tr>\n",
       "      <th>2</th>\n",
       "      <td>Lal Bahadur Shastri</td>\n",
       "      <td>(1904–1966)</td>\n",
       "      <td>9 June 1964 to 11 January 1966\\n1 year, 216 days</td>\n",
       "      <td>He has given the slogan of 'Jai Jawan Jai Kisa...</td>\n",
       "    </tr>\n",
       "    <tr>\n",
       "      <th>3</th>\n",
       "      <td>Gulzari Lal Nanda  (Acting)</td>\n",
       "      <td>(1898-1998)</td>\n",
       "      <td>11 January 1966 to 24 January 1966\\n13 days</td>\n",
       "      <td>-</td>\n",
       "    </tr>\n",
       "    <tr>\n",
       "      <th>4</th>\n",
       "      <td>Indira Gandhi</td>\n",
       "      <td>(1917–1984)</td>\n",
       "      <td>24 January 1966 to 24 March 1977\\n11 years, 59...</td>\n",
       "      <td>First female Prime Minister of India</td>\n",
       "    </tr>\n",
       "    <tr>\n",
       "      <th>5</th>\n",
       "      <td>Morarji Desai</td>\n",
       "      <td>(1896–1995)</td>\n",
       "      <td>24 March 1977 to  28 July 1979 \\n2 year, 126 days</td>\n",
       "      <td>Oldest to become PM (81 years old) and first t...</td>\n",
       "    </tr>\n",
       "    <tr>\n",
       "      <th>6</th>\n",
       "      <td>Charan Singh</td>\n",
       "      <td>(1902–1987)</td>\n",
       "      <td>28 July 1979 to 14 January 1980\\n170 days</td>\n",
       "      <td>Only PM who did not face the Parliament</td>\n",
       "    </tr>\n",
       "    <tr>\n",
       "      <th>7</th>\n",
       "      <td>Indira Gandhi</td>\n",
       "      <td>(1917–1984)</td>\n",
       "      <td>14 January 1980 to 31 October 1984\\n4 years, 2...</td>\n",
       "      <td>The first lady who served as PM for the second...</td>\n",
       "    </tr>\n",
       "    <tr>\n",
       "      <th>8</th>\n",
       "      <td>Rajiv Gandhi</td>\n",
       "      <td>(1944–1991)</td>\n",
       "      <td>31 October 1984 to 2 December 1989\\n5 years, 3...</td>\n",
       "      <td>Youngest to become PM (40 years old)</td>\n",
       "    </tr>\n",
       "    <tr>\n",
       "      <th>9</th>\n",
       "      <td>V. P. Singh</td>\n",
       "      <td>(1931–2008)</td>\n",
       "      <td>2 December 1989 to 10 November 1990\\n343 days</td>\n",
       "      <td>First PM to step down after a vote of no confi...</td>\n",
       "    </tr>\n",
       "    <tr>\n",
       "      <th>10</th>\n",
       "      <td>Chandra Shekhar</td>\n",
       "      <td>(1927–2007)</td>\n",
       "      <td>10 November 1990 to 21 June 1991\\n223 days</td>\n",
       "      <td>He belongs to  Samajwadi Janata Party</td>\n",
       "    </tr>\n",
       "    <tr>\n",
       "      <th>11</th>\n",
       "      <td>P. V. Narasimha Rao</td>\n",
       "      <td>(1921–2004)</td>\n",
       "      <td>21 June 1991 to 16 May 1996\\n4 years, 330 days</td>\n",
       "      <td>First PM from south India</td>\n",
       "    </tr>\n",
       "    <tr>\n",
       "      <th>12</th>\n",
       "      <td>Atal Bihari Vajpayee</td>\n",
       "      <td>(1924- 2018)</td>\n",
       "      <td>16 May 1996 to 1 June 1996\\n16 days</td>\n",
       "      <td>PM for shortest tenure</td>\n",
       "    </tr>\n",
       "    <tr>\n",
       "      <th>13</th>\n",
       "      <td>H. D. Deve Gowda</td>\n",
       "      <td>(born 1933)</td>\n",
       "      <td>1 June 1996 to 21 April 1997\\n324 days</td>\n",
       "      <td>He belongs to  Janata Dal</td>\n",
       "    </tr>\n",
       "    <tr>\n",
       "      <th>14</th>\n",
       "      <td>Inder Kumar Gujral</td>\n",
       "      <td>(1919–2012)</td>\n",
       "      <td>21 April 1997 to 19 March 1998 \\n332 days</td>\n",
       "      <td>------</td>\n",
       "    </tr>\n",
       "    <tr>\n",
       "      <th>15</th>\n",
       "      <td>Atal Bihari Vajpayee</td>\n",
       "      <td>(1924-2018)</td>\n",
       "      <td>19 March 1998 to 22 May 2004 \\n6 years, 64 days</td>\n",
       "      <td>The first non-congress PM who completed a ful...</td>\n",
       "    </tr>\n",
       "    <tr>\n",
       "      <th>16</th>\n",
       "      <td>Manmohan Singh</td>\n",
       "      <td>(born 1932)</td>\n",
       "      <td>22 May 2004 to 26 May 2014   \\n10 years, 4 days</td>\n",
       "      <td>First Sikh PM</td>\n",
       "    </tr>\n",
       "    <tr>\n",
       "      <th>17</th>\n",
       "      <td>Narendra Modi</td>\n",
       "      <td>(born 1950)</td>\n",
       "      <td>26 May 2014 - Present</td>\n",
       "      <td>4th Prime Minister of India who served two con...</td>\n",
       "    </tr>\n",
       "  </tbody>\n",
       "</table>\n",
       "</div>"
      ],
      "text/plain": [
       "                 Prime Minister     Born-Dead  \\\n",
       "0             Jawahar Lal Nehru   (1889–1964)   \n",
       "1     Gulzarilal Nanda (Acting)   (1898-1998)   \n",
       "2           Lal Bahadur Shastri   (1904–1966)   \n",
       "3   Gulzari Lal Nanda  (Acting)   (1898-1998)   \n",
       "4                 Indira Gandhi   (1917–1984)   \n",
       "5                 Morarji Desai   (1896–1995)   \n",
       "6                  Charan Singh   (1902–1987)   \n",
       "7                 Indira Gandhi   (1917–1984)   \n",
       "8                  Rajiv Gandhi   (1944–1991)   \n",
       "9                   V. P. Singh   (1931–2008)   \n",
       "10              Chandra Shekhar   (1927–2007)   \n",
       "11          P. V. Narasimha Rao   (1921–2004)   \n",
       "12         Atal Bihari Vajpayee  (1924- 2018)   \n",
       "13             H. D. Deve Gowda   (born 1933)   \n",
       "14           Inder Kumar Gujral   (1919–2012)   \n",
       "15         Atal Bihari Vajpayee   (1924-2018)   \n",
       "16               Manmohan Singh   (born 1932)   \n",
       "17                Narendra Modi   (born 1950)   \n",
       "\n",
       "                                         Term Of List  \\\n",
       "0   15 August 1947 to 27 May 1964\\n16 years, 286 days   \n",
       "1                27 May 1964 to 9 June 1964,\\n13 days   \n",
       "2    9 June 1964 to 11 January 1966\\n1 year, 216 days   \n",
       "3         11 January 1966 to 24 January 1966\\n13 days   \n",
       "4   24 January 1966 to 24 March 1977\\n11 years, 59...   \n",
       "5   24 March 1977 to  28 July 1979 \\n2 year, 126 days   \n",
       "6           28 July 1979 to 14 January 1980\\n170 days   \n",
       "7   14 January 1980 to 31 October 1984\\n4 years, 2...   \n",
       "8   31 October 1984 to 2 December 1989\\n5 years, 3...   \n",
       "9       2 December 1989 to 10 November 1990\\n343 days   \n",
       "10         10 November 1990 to 21 June 1991\\n223 days   \n",
       "11     21 June 1991 to 16 May 1996\\n4 years, 330 days   \n",
       "12                16 May 1996 to 1 June 1996\\n16 days   \n",
       "13             1 June 1996 to 21 April 1997\\n324 days   \n",
       "14          21 April 1997 to 19 March 1998 \\n332 days   \n",
       "15    19 March 1998 to 22 May 2004 \\n6 years, 64 days   \n",
       "16    22 May 2004 to 26 May 2014   \\n10 years, 4 days   \n",
       "17                              26 May 2014 - Present   \n",
       "\n",
       "                                              Remarks  \n",
       "0   The first prime minister of India and the long...  \n",
       "1                            First acting PM of India  \n",
       "2   He has given the slogan of 'Jai Jawan Jai Kisa...  \n",
       "3                                                   -  \n",
       "4                First female Prime Minister of India  \n",
       "5   Oldest to become PM (81 years old) and first t...  \n",
       "6             Only PM who did not face the Parliament  \n",
       "7   The first lady who served as PM for the second...  \n",
       "8                Youngest to become PM (40 years old)  \n",
       "9   First PM to step down after a vote of no confi...  \n",
       "10              He belongs to  Samajwadi Janata Party  \n",
       "11                          First PM from south India  \n",
       "12                             PM for shortest tenure  \n",
       "13                          He belongs to  Janata Dal  \n",
       "14                                             ------  \n",
       "15   The first non-congress PM who completed a ful...  \n",
       "16                                      First Sikh PM  \n",
       "17  4th Prime Minister of India who served two con...  "
      ]
     },
     "execution_count": 337,
     "metadata": {},
     "output_type": "execute_result"
    }
   ],
   "source": [
    "dict_pm={\"Prime Minister\":nameList,\"Born-Dead\":bornDeadList,\"Term Of List\":termOfOfficeList, \"Remarks\":remarksList}\n",
    "df_pm=pd.DataFrame(dict_pm)\n",
    "df_pm"
   ]
  },
  {
   "cell_type": "code",
   "execution_count": 338,
   "id": "ca157d8a",
   "metadata": {},
   "outputs": [],
   "source": [
    "driver.close()"
   ]
  },
  {
   "cell_type": "markdown",
   "id": "4f5069ed",
   "metadata": {},
   "source": [
    "### Answer 10"
   ]
  },
  {
   "cell_type": "code",
   "execution_count": 351,
   "id": "fbcd2da0",
   "metadata": {},
   "outputs": [],
   "source": [
    "driver=webdriver.Chrome(\"chromedriver.exe\")"
   ]
  },
  {
   "cell_type": "code",
   "execution_count": 352,
   "id": "a69bd33b",
   "metadata": {},
   "outputs": [],
   "source": [
    "driver.get('https://www.motor1.com/')\n",
    "time.sleep(5)"
   ]
  },
  {
   "cell_type": "code",
   "execution_count": 354,
   "id": "843b4909",
   "metadata": {},
   "outputs": [],
   "source": [
    "# find dropdown menu by using absolute XPATH\n",
    "dropdownMenu=driver.find_element(By.XPATH,'/html/body/div[3]/div[2]/div/div/div[1]/div')\n",
    "dropdownMenu.click()"
   ]
  },
  {
   "cell_type": "code",
   "execution_count": 355,
   "id": "43bfdc90",
   "metadata": {},
   "outputs": [],
   "source": [
    "# find feature button \n",
    "featureBtn=driver.find_element(By.XPATH,'//html/body/div[4]/div[1]/div[3]/ul/li[5]/button')\n",
    "featureBtn.click()"
   ]
  },
  {
   "cell_type": "code",
   "execution_count": 356,
   "id": "c68a079a",
   "metadata": {},
   "outputs": [],
   "source": [
    "# find list option\n",
    "listOption=driver.find_element(By.XPATH,'/html/body/div[4]/div[1]/div[3]/ul/li[6]/ul/li[1]/a')\n",
    "listOption.click()\n",
    "time.sleep(5)"
   ]
  },
  {
   "cell_type": "code",
   "execution_count": 357,
   "id": "9bc09963",
   "metadata": {},
   "outputs": [],
   "source": [
    "# find 50 most expensive cars link using absolute XPATH\n",
    "mostExpensiveCars50=driver.find_element(By.XPATH,'/html/body/div[3]/div[8]/div[1]/div[1]/div/div/div[8]/div/div[1]/h3/a')\n",
    "mostExpensiveCars50.click()\n",
    "time.sleep(5)"
   ]
  },
  {
   "cell_type": "code",
   "execution_count": 358,
   "id": "1ef56b28",
   "metadata": {},
   "outputs": [],
   "source": [
    "car=[]\n",
    "price=[]"
   ]
  },
  {
   "cell_type": "code",
   "execution_count": 359,
   "id": "2f0839aa",
   "metadata": {},
   "outputs": [],
   "source": [
    "# find car tags using relative XPATH\n",
    "car_tags=driver.find_elements(By.XPATH,'//h3[@class=\"subheader\"]')\n",
    "for i in car_tags:\n",
    "    car.append(i.text)\n",
    "# find price tags using TAG_NAME\n",
    "price_tags=driver.find_elements(By.TAG_NAME,'strong')\n",
    "for i in price_tags:\n",
    "    price.append(i.text)"
   ]
  },
  {
   "cell_type": "code",
   "execution_count": 365,
   "id": "1da6431e",
   "metadata": {},
   "outputs": [
    {
     "data": {
      "text/plain": [
       "['De Tomaso P72',\n",
       " 'Ferrari LaFerrari',\n",
       " 'Pagani Huayra',\n",
       " 'McLaren Elva',\n",
       " 'Czinger 21C',\n",
       " 'Ferrari Monza',\n",
       " 'Gordon Murray T.33',\n",
       " 'Koenigsegg Gemera',\n",
       " 'Zenvo TSR-S',\n",
       " 'Hennessey Venom F5',\n",
       " 'Bentley Bacalar',\n",
       " 'Hispano Suiza Carmen Boulogne',\n",
       " 'Bentley Mulliner Batur',\n",
       " 'Deus Vayanne',\n",
       " 'SSC Tuatara',\n",
       " 'Lotus Evija',\n",
       " 'Aston Martin Vulcan',\n",
       " 'Delage D12',\n",
       " 'McLaren Speedtail',\n",
       " 'Rimac Nevera',\n",
       " 'Pagani Utopia',\n",
       " 'Pininfarina Battista',\n",
       " 'Ferrari FXX K Evo',\n",
       " 'Gordon Murray T.50',\n",
       " 'Lamborghini Countach',\n",
       " 'Mercedes-AMG Project One',\n",
       " 'Aston Martin Victor',\n",
       " 'Hennessey Venom F5 Roadster',\n",
       " 'Koenigsegg Jesko',\n",
       " 'Aston Martin Valkyrie',\n",
       " 'W Motors Lykan Hypersport',\n",
       " 'McLaren Solus',\n",
       " 'Pagani Huayra Roadster BC',\n",
       " 'Bugatti Chiron Pur Sport',\n",
       " 'Lamborghini Sian',\n",
       " 'Koenigsegg CC850',\n",
       " 'Bugatti Chiron Super Sport 300+',\n",
       " 'Lamborghini Veneno',\n",
       " 'Bugatti Bolide',\n",
       " 'Bugatti Mistral',\n",
       " 'Pagani Huayra Imola',\n",
       " 'Bugatti Divo',\n",
       " 'SP Automotive Chaos',\n",
       " 'Pagani Codalunga',\n",
       " 'Mercedes-Maybach Exelero',\n",
       " 'Bugatti Centodieci',\n",
       " 'Bugatti Chiron Profilée',\n",
       " 'Rolls-Royce Sweptail',\n",
       " 'Bugatti La Voiture Noire',\n",
       " 'Rolls-Royce Boat Tail*']"
      ]
     },
     "execution_count": 365,
     "metadata": {},
     "output_type": "execute_result"
    }
   ],
   "source": [
    "car=car[0:50]\n",
    "car"
   ]
  },
  {
   "cell_type": "code",
   "execution_count": 367,
   "id": "812b8924",
   "metadata": {},
   "outputs": [
    {
     "data": {
      "text/plain": [
       "['$1.3 Million',\n",
       " '$1.4 Million',\n",
       " '$1.4 Million',\n",
       " '$1.7 Million',\n",
       " '$1.7 Million',\n",
       " '$1.7 Million',\n",
       " '$1.7 Million',\n",
       " '$1.7 Million',\n",
       " '$1.7 Million',\n",
       " '$1.8 Million',\n",
       " '$1.9 Million',\n",
       " '$1.9 Million',\n",
       " '$2.0 Million',\n",
       " '$2.0 Million',\n",
       " '$2.0 Million*',\n",
       " '$2.1 Million',\n",
       " '$2.3 Million',\n",
       " '$2.3 Million',\n",
       " '$2.3 Million',\n",
       " '$2.4 Million',\n",
       " '$2.5 Million',\n",
       " '$2.5 Million',\n",
       " '$2.6 Million',\n",
       " '$2.6 Million',\n",
       " '$2.6 Million',\n",
       " '$2.7 Million',\n",
       " '$3.0 Million',\n",
       " '$3.0 Million',\n",
       " '$3.0 Million',\n",
       " '$3.2 Million',\n",
       " '$3.4 Million',\n",
       " '$3.5 Million',\n",
       " '$3.5 Million',\n",
       " '$3.6 Million',\n",
       " '$3.6 million',\n",
       " '$3.7 Million',\n",
       " '$3.9 Million',\n",
       " '$4.5 Million',\n",
       " '$4.7 Million',\n",
       " '$5.0 Million',\n",
       " '$5.4 Million',\n",
       " '$5.8 Million',\n",
       " '$6.4 Million',\n",
       " '$7.4 Million',\n",
       " '$8.0 Million',\n",
       " '$9.0 Million',\n",
       " '$10.8 Million',\n",
       " '$12.8 Million',\n",
       " '$13.4 Million',\n",
       " '$28.0 Million (est.)']"
      ]
     },
     "execution_count": 367,
     "metadata": {},
     "output_type": "execute_result"
    }
   ],
   "source": [
    "#one of the price entry is empty,removing from the list\n",
    "price_modified=[]\n",
    "for p in price:\n",
    "    if p!='':\n",
    "        price_modified.append(p.replace('Price:','').strip())\n",
    "price_modified"
   ]
  },
  {
   "cell_type": "code",
   "execution_count": 368,
   "id": "b1f9534a",
   "metadata": {},
   "outputs": [
    {
     "name": "stdout",
     "output_type": "stream",
     "text": [
      "50\n",
      "50\n"
     ]
    }
   ],
   "source": [
    "print(len(car))\n",
    "print(len(price_modified))"
   ]
  },
  {
   "cell_type": "code",
   "execution_count": 369,
   "id": "724344d5",
   "metadata": {
    "scrolled": true
   },
   "outputs": [
    {
     "data": {
      "text/html": [
       "<div>\n",
       "<style scoped>\n",
       "    .dataframe tbody tr th:only-of-type {\n",
       "        vertical-align: middle;\n",
       "    }\n",
       "\n",
       "    .dataframe tbody tr th {\n",
       "        vertical-align: top;\n",
       "    }\n",
       "\n",
       "    .dataframe thead th {\n",
       "        text-align: right;\n",
       "    }\n",
       "</style>\n",
       "<table border=\"1\" class=\"dataframe\">\n",
       "  <thead>\n",
       "    <tr style=\"text-align: right;\">\n",
       "      <th></th>\n",
       "      <th>Car</th>\n",
       "      <th>Price</th>\n",
       "    </tr>\n",
       "  </thead>\n",
       "  <tbody>\n",
       "    <tr>\n",
       "      <th>0</th>\n",
       "      <td>De Tomaso P72</td>\n",
       "      <td>$1.3 Million</td>\n",
       "    </tr>\n",
       "    <tr>\n",
       "      <th>1</th>\n",
       "      <td>Ferrari LaFerrari</td>\n",
       "      <td>$1.4 Million</td>\n",
       "    </tr>\n",
       "    <tr>\n",
       "      <th>2</th>\n",
       "      <td>Pagani Huayra</td>\n",
       "      <td>$1.4 Million</td>\n",
       "    </tr>\n",
       "    <tr>\n",
       "      <th>3</th>\n",
       "      <td>McLaren Elva</td>\n",
       "      <td>$1.7 Million</td>\n",
       "    </tr>\n",
       "    <tr>\n",
       "      <th>4</th>\n",
       "      <td>Czinger 21C</td>\n",
       "      <td>$1.7 Million</td>\n",
       "    </tr>\n",
       "    <tr>\n",
       "      <th>5</th>\n",
       "      <td>Ferrari Monza</td>\n",
       "      <td>$1.7 Million</td>\n",
       "    </tr>\n",
       "    <tr>\n",
       "      <th>6</th>\n",
       "      <td>Gordon Murray T.33</td>\n",
       "      <td>$1.7 Million</td>\n",
       "    </tr>\n",
       "    <tr>\n",
       "      <th>7</th>\n",
       "      <td>Koenigsegg Gemera</td>\n",
       "      <td>$1.7 Million</td>\n",
       "    </tr>\n",
       "    <tr>\n",
       "      <th>8</th>\n",
       "      <td>Zenvo TSR-S</td>\n",
       "      <td>$1.7 Million</td>\n",
       "    </tr>\n",
       "    <tr>\n",
       "      <th>9</th>\n",
       "      <td>Hennessey Venom F5</td>\n",
       "      <td>$1.8 Million</td>\n",
       "    </tr>\n",
       "    <tr>\n",
       "      <th>10</th>\n",
       "      <td>Bentley Bacalar</td>\n",
       "      <td>$1.9 Million</td>\n",
       "    </tr>\n",
       "    <tr>\n",
       "      <th>11</th>\n",
       "      <td>Hispano Suiza Carmen Boulogne</td>\n",
       "      <td>$1.9 Million</td>\n",
       "    </tr>\n",
       "    <tr>\n",
       "      <th>12</th>\n",
       "      <td>Bentley Mulliner Batur</td>\n",
       "      <td>$2.0 Million</td>\n",
       "    </tr>\n",
       "    <tr>\n",
       "      <th>13</th>\n",
       "      <td>Deus Vayanne</td>\n",
       "      <td>$2.0 Million</td>\n",
       "    </tr>\n",
       "    <tr>\n",
       "      <th>14</th>\n",
       "      <td>SSC Tuatara</td>\n",
       "      <td>$2.0 Million*</td>\n",
       "    </tr>\n",
       "    <tr>\n",
       "      <th>15</th>\n",
       "      <td>Lotus Evija</td>\n",
       "      <td>$2.1 Million</td>\n",
       "    </tr>\n",
       "    <tr>\n",
       "      <th>16</th>\n",
       "      <td>Aston Martin Vulcan</td>\n",
       "      <td>$2.3 Million</td>\n",
       "    </tr>\n",
       "    <tr>\n",
       "      <th>17</th>\n",
       "      <td>Delage D12</td>\n",
       "      <td>$2.3 Million</td>\n",
       "    </tr>\n",
       "    <tr>\n",
       "      <th>18</th>\n",
       "      <td>McLaren Speedtail</td>\n",
       "      <td>$2.3 Million</td>\n",
       "    </tr>\n",
       "    <tr>\n",
       "      <th>19</th>\n",
       "      <td>Rimac Nevera</td>\n",
       "      <td>$2.4 Million</td>\n",
       "    </tr>\n",
       "    <tr>\n",
       "      <th>20</th>\n",
       "      <td>Pagani Utopia</td>\n",
       "      <td>$2.5 Million</td>\n",
       "    </tr>\n",
       "    <tr>\n",
       "      <th>21</th>\n",
       "      <td>Pininfarina Battista</td>\n",
       "      <td>$2.5 Million</td>\n",
       "    </tr>\n",
       "    <tr>\n",
       "      <th>22</th>\n",
       "      <td>Ferrari FXX K Evo</td>\n",
       "      <td>$2.6 Million</td>\n",
       "    </tr>\n",
       "    <tr>\n",
       "      <th>23</th>\n",
       "      <td>Gordon Murray T.50</td>\n",
       "      <td>$2.6 Million</td>\n",
       "    </tr>\n",
       "    <tr>\n",
       "      <th>24</th>\n",
       "      <td>Lamborghini Countach</td>\n",
       "      <td>$2.6 Million</td>\n",
       "    </tr>\n",
       "    <tr>\n",
       "      <th>25</th>\n",
       "      <td>Mercedes-AMG Project One</td>\n",
       "      <td>$2.7 Million</td>\n",
       "    </tr>\n",
       "    <tr>\n",
       "      <th>26</th>\n",
       "      <td>Aston Martin Victor</td>\n",
       "      <td>$3.0 Million</td>\n",
       "    </tr>\n",
       "    <tr>\n",
       "      <th>27</th>\n",
       "      <td>Hennessey Venom F5 Roadster</td>\n",
       "      <td>$3.0 Million</td>\n",
       "    </tr>\n",
       "    <tr>\n",
       "      <th>28</th>\n",
       "      <td>Koenigsegg Jesko</td>\n",
       "      <td>$3.0 Million</td>\n",
       "    </tr>\n",
       "    <tr>\n",
       "      <th>29</th>\n",
       "      <td>Aston Martin Valkyrie</td>\n",
       "      <td>$3.2 Million</td>\n",
       "    </tr>\n",
       "    <tr>\n",
       "      <th>30</th>\n",
       "      <td>W Motors Lykan Hypersport</td>\n",
       "      <td>$3.4 Million</td>\n",
       "    </tr>\n",
       "    <tr>\n",
       "      <th>31</th>\n",
       "      <td>McLaren Solus</td>\n",
       "      <td>$3.5 Million</td>\n",
       "    </tr>\n",
       "    <tr>\n",
       "      <th>32</th>\n",
       "      <td>Pagani Huayra Roadster BC</td>\n",
       "      <td>$3.5 Million</td>\n",
       "    </tr>\n",
       "    <tr>\n",
       "      <th>33</th>\n",
       "      <td>Bugatti Chiron Pur Sport</td>\n",
       "      <td>$3.6 Million</td>\n",
       "    </tr>\n",
       "    <tr>\n",
       "      <th>34</th>\n",
       "      <td>Lamborghini Sian</td>\n",
       "      <td>$3.6 million</td>\n",
       "    </tr>\n",
       "    <tr>\n",
       "      <th>35</th>\n",
       "      <td>Koenigsegg CC850</td>\n",
       "      <td>$3.7 Million</td>\n",
       "    </tr>\n",
       "    <tr>\n",
       "      <th>36</th>\n",
       "      <td>Bugatti Chiron Super Sport 300+</td>\n",
       "      <td>$3.9 Million</td>\n",
       "    </tr>\n",
       "    <tr>\n",
       "      <th>37</th>\n",
       "      <td>Lamborghini Veneno</td>\n",
       "      <td>$4.5 Million</td>\n",
       "    </tr>\n",
       "    <tr>\n",
       "      <th>38</th>\n",
       "      <td>Bugatti Bolide</td>\n",
       "      <td>$4.7 Million</td>\n",
       "    </tr>\n",
       "    <tr>\n",
       "      <th>39</th>\n",
       "      <td>Bugatti Mistral</td>\n",
       "      <td>$5.0 Million</td>\n",
       "    </tr>\n",
       "    <tr>\n",
       "      <th>40</th>\n",
       "      <td>Pagani Huayra Imola</td>\n",
       "      <td>$5.4 Million</td>\n",
       "    </tr>\n",
       "    <tr>\n",
       "      <th>41</th>\n",
       "      <td>Bugatti Divo</td>\n",
       "      <td>$5.8 Million</td>\n",
       "    </tr>\n",
       "    <tr>\n",
       "      <th>42</th>\n",
       "      <td>SP Automotive Chaos</td>\n",
       "      <td>$6.4 Million</td>\n",
       "    </tr>\n",
       "    <tr>\n",
       "      <th>43</th>\n",
       "      <td>Pagani Codalunga</td>\n",
       "      <td>$7.4 Million</td>\n",
       "    </tr>\n",
       "    <tr>\n",
       "      <th>44</th>\n",
       "      <td>Mercedes-Maybach Exelero</td>\n",
       "      <td>$8.0 Million</td>\n",
       "    </tr>\n",
       "    <tr>\n",
       "      <th>45</th>\n",
       "      <td>Bugatti Centodieci</td>\n",
       "      <td>$9.0 Million</td>\n",
       "    </tr>\n",
       "    <tr>\n",
       "      <th>46</th>\n",
       "      <td>Bugatti Chiron Profilée</td>\n",
       "      <td>$10.8 Million</td>\n",
       "    </tr>\n",
       "    <tr>\n",
       "      <th>47</th>\n",
       "      <td>Rolls-Royce Sweptail</td>\n",
       "      <td>$12.8 Million</td>\n",
       "    </tr>\n",
       "    <tr>\n",
       "      <th>48</th>\n",
       "      <td>Bugatti La Voiture Noire</td>\n",
       "      <td>$13.4 Million</td>\n",
       "    </tr>\n",
       "    <tr>\n",
       "      <th>49</th>\n",
       "      <td>Rolls-Royce Boat Tail*</td>\n",
       "      <td>$28.0 Million (est.)</td>\n",
       "    </tr>\n",
       "  </tbody>\n",
       "</table>\n",
       "</div>"
      ],
      "text/plain": [
       "                                Car                 Price\n",
       "0                     De Tomaso P72          $1.3 Million\n",
       "1                 Ferrari LaFerrari          $1.4 Million\n",
       "2                     Pagani Huayra          $1.4 Million\n",
       "3                      McLaren Elva          $1.7 Million\n",
       "4                       Czinger 21C          $1.7 Million\n",
       "5                     Ferrari Monza          $1.7 Million\n",
       "6                Gordon Murray T.33          $1.7 Million\n",
       "7                 Koenigsegg Gemera          $1.7 Million\n",
       "8                       Zenvo TSR-S          $1.7 Million\n",
       "9                Hennessey Venom F5          $1.8 Million\n",
       "10                  Bentley Bacalar          $1.9 Million\n",
       "11    Hispano Suiza Carmen Boulogne          $1.9 Million\n",
       "12           Bentley Mulliner Batur          $2.0 Million\n",
       "13                     Deus Vayanne          $2.0 Million\n",
       "14                      SSC Tuatara         $2.0 Million*\n",
       "15                      Lotus Evija          $2.1 Million\n",
       "16              Aston Martin Vulcan          $2.3 Million\n",
       "17                       Delage D12          $2.3 Million\n",
       "18                McLaren Speedtail          $2.3 Million\n",
       "19                     Rimac Nevera          $2.4 Million\n",
       "20                    Pagani Utopia          $2.5 Million\n",
       "21             Pininfarina Battista          $2.5 Million\n",
       "22                Ferrari FXX K Evo          $2.6 Million\n",
       "23               Gordon Murray T.50          $2.6 Million\n",
       "24             Lamborghini Countach          $2.6 Million\n",
       "25         Mercedes-AMG Project One          $2.7 Million\n",
       "26              Aston Martin Victor          $3.0 Million\n",
       "27      Hennessey Venom F5 Roadster          $3.0 Million\n",
       "28                 Koenigsegg Jesko          $3.0 Million\n",
       "29            Aston Martin Valkyrie          $3.2 Million\n",
       "30        W Motors Lykan Hypersport          $3.4 Million\n",
       "31                    McLaren Solus          $3.5 Million\n",
       "32        Pagani Huayra Roadster BC          $3.5 Million\n",
       "33         Bugatti Chiron Pur Sport          $3.6 Million\n",
       "34                 Lamborghini Sian          $3.6 million\n",
       "35                 Koenigsegg CC850          $3.7 Million\n",
       "36  Bugatti Chiron Super Sport 300+          $3.9 Million\n",
       "37               Lamborghini Veneno          $4.5 Million\n",
       "38                   Bugatti Bolide          $4.7 Million\n",
       "39                  Bugatti Mistral          $5.0 Million\n",
       "40              Pagani Huayra Imola          $5.4 Million\n",
       "41                     Bugatti Divo          $5.8 Million\n",
       "42              SP Automotive Chaos          $6.4 Million\n",
       "43                 Pagani Codalunga          $7.4 Million\n",
       "44         Mercedes-Maybach Exelero          $8.0 Million\n",
       "45               Bugatti Centodieci          $9.0 Million\n",
       "46          Bugatti Chiron Profilée         $10.8 Million\n",
       "47             Rolls-Royce Sweptail         $12.8 Million\n",
       "48         Bugatti La Voiture Noire         $13.4 Million\n",
       "49           Rolls-Royce Boat Tail*  $28.0 Million (est.)"
      ]
     },
     "execution_count": 369,
     "metadata": {},
     "output_type": "execute_result"
    }
   ],
   "source": [
    "dict_car={\"Car\":car,\"Price\":price_modified}\n",
    "df_car=pd.DataFrame(dict_car)\n",
    "df_car"
   ]
  },
  {
   "cell_type": "code",
   "execution_count": 370,
   "id": "9893eb8a",
   "metadata": {},
   "outputs": [],
   "source": [
    "driver.close()"
   ]
  },
  {
   "cell_type": "code",
   "execution_count": null,
   "id": "416cd4e5",
   "metadata": {},
   "outputs": [],
   "source": []
  },
  {
   "cell_type": "code",
   "execution_count": null,
   "id": "5761fe7d",
   "metadata": {},
   "outputs": [],
   "source": []
  },
  {
   "cell_type": "code",
   "execution_count": null,
   "id": "19851e38",
   "metadata": {},
   "outputs": [],
   "source": []
  },
  {
   "cell_type": "code",
   "execution_count": null,
   "id": "083ce95e",
   "metadata": {},
   "outputs": [],
   "source": []
  },
  {
   "cell_type": "code",
   "execution_count": null,
   "id": "183d83c6",
   "metadata": {},
   "outputs": [],
   "source": []
  },
  {
   "cell_type": "code",
   "execution_count": null,
   "id": "8828f0c5",
   "metadata": {},
   "outputs": [],
   "source": []
  },
  {
   "cell_type": "code",
   "execution_count": null,
   "id": "75e57509",
   "metadata": {},
   "outputs": [],
   "source": []
  },
  {
   "cell_type": "code",
   "execution_count": null,
   "id": "246bff9b",
   "metadata": {},
   "outputs": [],
   "source": []
  },
  {
   "cell_type": "code",
   "execution_count": null,
   "id": "10257c26",
   "metadata": {},
   "outputs": [],
   "source": []
  },
  {
   "cell_type": "code",
   "execution_count": null,
   "id": "8d749ce2",
   "metadata": {},
   "outputs": [],
   "source": []
  },
  {
   "cell_type": "code",
   "execution_count": null,
   "id": "61e4d8ff",
   "metadata": {},
   "outputs": [],
   "source": []
  },
  {
   "cell_type": "code",
   "execution_count": null,
   "id": "8cae4aee",
   "metadata": {},
   "outputs": [],
   "source": []
  }
 ],
 "metadata": {
  "kernelspec": {
   "display_name": "Python 3 (ipykernel)",
   "language": "python",
   "name": "python3"
  },
  "language_info": {
   "codemirror_mode": {
    "name": "ipython",
    "version": 3
   },
   "file_extension": ".py",
   "mimetype": "text/x-python",
   "name": "python",
   "nbconvert_exporter": "python",
   "pygments_lexer": "ipython3",
   "version": "3.9.7"
  }
 },
 "nbformat": 4,
 "nbformat_minor": 5
}
